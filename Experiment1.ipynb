{
 "cells": [
  {
   "cell_type": "code",
   "execution_count": 1,
   "id": "b33cfdd7",
   "metadata": {},
   "outputs": [],
   "source": [
    "from Functions import plot_learning_curve\n",
    "import pandas as pd \n",
    "import numpy as np\n",
    "import matplotlib.pyplot as plt\n",
    "\n",
    "# Learning curve\n",
    "from sklearn.model_selection import learning_curve\n",
    "from sklearn.feature_selection import RFE\n",
    "\n",
    "# algorithms\n",
    "from sklearn.ensemble import RandomForestClassifier, GradientBoostingClassifier, VotingClassifier\n",
    "from sklearn.linear_model import LogisticRegression\n",
    "from lightgbm import LGBMClassifier\n",
    "from sklearn.neural_network import MLPClassifier\n",
    "\n",
    "# Feature engineer \n",
    "from feature_engine.selection import DropFeatures\n",
    "from feature_engine.encoding import RareLabelEncoder, OrdinalEncoder, OneHotEncoder as OneHotEncoderFE\n",
    "from sklearn.preprocessing import OneHotEncoder, StandardScaler, KBinsDiscretizer\n",
    "from feature_engine.imputation import (MeanMedianImputer, CategoricalImputer)\n",
    "from sklearn.impute import SimpleImputer\n",
    "from sklearn.preprocessing import FunctionTransformer\n",
    "from sklearn.compose import ColumnTransformer, make_column_selector, make_column_transformer\n",
    "from sklearn.pipeline import make_pipeline, Pipeline\n",
    "from sklearn.base import BaseEstimator, TransformerMixin\n",
    "\n",
    "# Model_Selection\n",
    "from sklearn.model_selection import train_test_split, cross_val_score\n",
    "\n",
    "from sklearn.metrics import confusion_matrix,ConfusionMatrixDisplay"
   ]
  },
  {
   "cell_type": "code",
   "execution_count": 2,
   "id": "9873738e-cc82-409d-9666-37a58a5af0a4",
   "metadata": {},
   "outputs": [],
   "source": [
    "import warnings\n",
    "warnings.filterwarnings(\"ignore\")"
   ]
  },
  {
   "cell_type": "code",
   "execution_count": 3,
   "id": "caf2d56e-a1f9-4e06-9c77-f3542b56e184",
   "metadata": {
    "tags": []
   },
   "outputs": [],
   "source": [
    "def get_cross_score(pipe,cv=5):\n",
    "    score = cross_val_score(pipe, x_train, y_train, cv=cv, scoring='accuracy')\n",
    "    print(f'accuracy of {np.round(score.mean(),4)} and standard deviation of {np.round(score.std(),4)}')\n",
    "\n",
    "def make_sub(pipe,subname,save_to_drive=True):\n",
    "    pipe.fit(x,y)\n",
    "    pred = pipe.predict(df_pred)\n",
    "    \n",
    "    global last_sub\n",
    "    last_sub = pd.DataFrame({'PassengerId': df_pred.index,\n",
    "                             'Survived': pred})\n",
    "    if save_to_drive:\n",
    "        last_sub.to_csv('Predições/Experiments_nb/' +subname+'.csv',header=True, index=False)\n",
    "    \n",
    "def err_analysis(best_score='best_sub.csv'):\n",
    "    best_sub = pd.read_csv(best_score, index_col='PassengerId')\n",
    "    error_analysis = best_sub.join(last_sub.set_index('PassengerId'),lsuffix='_LastSub',rsuffix='_BestSub')\n",
    "    error_index = error_analysis[error_analysis['Survived_LastSub'] != error_analysis['Survived_BestSub']].index\n",
    "    df = df_pred.loc[error_index].join(best_sub).join(last_sub.set_index('PassengerId'),lsuffix='_best',rsuffix='_last')\n",
    "    print('Survived_best: ', df['Survived_best'].sum())\n",
    "    print('\\nSurvived_last: ', df['Survived_last'].sum())\n",
    "    return df"
   ]
  },
  {
   "cell_type": "code",
   "execution_count": 4,
   "id": "2302c185-0211-410c-bee1-4bfcc737a216",
   "metadata": {},
   "outputs": [],
   "source": [
    "from sklearn import set_config\n",
    "\n",
    "set_config(display='diagram')"
   ]
  },
  {
   "cell_type": "markdown",
   "id": "c85eadab-18a6-431b-846f-09e37b24372f",
   "metadata": {
    "tags": []
   },
   "source": [
    "# Load Data"
   ]
  },
  {
   "cell_type": "code",
   "execution_count": 5,
   "id": "af6aa2e7-9c77-4231-819f-3b1375423a6a",
   "metadata": {
    "tags": []
   },
   "outputs": [],
   "source": [
    "def load_data():\n",
    "    global df\n",
    "    df = pd.read_csv(\"Dados/train.csv\",index_col=0)\n",
    "    global df_pred\n",
    "    df_pred = pd.read_csv(\"Dados/test.csv\",index_col=0)\n",
    "    global x\n",
    "    x = df.drop('Survived',axis=1)\n",
    "    global y\n",
    "    y = df.Survived\n",
    "    global seed\n",
    "    seed = 42\n",
    "    \n",
    "    global x_train, x_test, y_train, y_test\n",
    "    x_train, x_test, y_train, y_test = train_test_split(x,y,test_size=0.3, random_state = 42)\n",
    "    \n",
    "    global num_var, cat_var, target\n",
    "    num_var = ['Age','SibSp','Parch','Fare','Cabin_Size']\n",
    "    cat_var = ['Pclass','Sex','Cabin_code','Embarked','Name_title', 'Name_family']\n",
    "    target = ['Survived']"
   ]
  },
  {
   "cell_type": "code",
   "execution_count": 6,
   "id": "eabb221d",
   "metadata": {},
   "outputs": [],
   "source": [
    "load_data()"
   ]
  },
  {
   "cell_type": "code",
   "execution_count": 7,
   "id": "8a6a7eab-f038-4696-95e6-b547034c2714",
   "metadata": {},
   "outputs": [
    {
     "data": {
      "text/html": [
       "<div>\n",
       "<style scoped>\n",
       "    .dataframe tbody tr th:only-of-type {\n",
       "        vertical-align: middle;\n",
       "    }\n",
       "\n",
       "    .dataframe tbody tr th {\n",
       "        vertical-align: top;\n",
       "    }\n",
       "\n",
       "    .dataframe thead th {\n",
       "        text-align: right;\n",
       "    }\n",
       "</style>\n",
       "<table border=\"1\" class=\"dataframe\">\n",
       "  <thead>\n",
       "    <tr style=\"text-align: right;\">\n",
       "      <th></th>\n",
       "      <th>Survived</th>\n",
       "      <th>Pclass</th>\n",
       "      <th>Name</th>\n",
       "      <th>Sex</th>\n",
       "      <th>Age</th>\n",
       "      <th>SibSp</th>\n",
       "      <th>Parch</th>\n",
       "      <th>Ticket</th>\n",
       "      <th>Fare</th>\n",
       "      <th>Cabin</th>\n",
       "      <th>Embarked</th>\n",
       "    </tr>\n",
       "    <tr>\n",
       "      <th>PassengerId</th>\n",
       "      <th></th>\n",
       "      <th></th>\n",
       "      <th></th>\n",
       "      <th></th>\n",
       "      <th></th>\n",
       "      <th></th>\n",
       "      <th></th>\n",
       "      <th></th>\n",
       "      <th></th>\n",
       "      <th></th>\n",
       "      <th></th>\n",
       "    </tr>\n",
       "  </thead>\n",
       "  <tbody>\n",
       "    <tr>\n",
       "      <th>1</th>\n",
       "      <td>0</td>\n",
       "      <td>3</td>\n",
       "      <td>Braund, Mr. Owen Harris</td>\n",
       "      <td>male</td>\n",
       "      <td>22.0</td>\n",
       "      <td>1</td>\n",
       "      <td>0</td>\n",
       "      <td>A/5 21171</td>\n",
       "      <td>7.2500</td>\n",
       "      <td>NaN</td>\n",
       "      <td>S</td>\n",
       "    </tr>\n",
       "    <tr>\n",
       "      <th>2</th>\n",
       "      <td>1</td>\n",
       "      <td>1</td>\n",
       "      <td>Cumings, Mrs. John Bradley (Florence Briggs Th...</td>\n",
       "      <td>female</td>\n",
       "      <td>38.0</td>\n",
       "      <td>1</td>\n",
       "      <td>0</td>\n",
       "      <td>PC 17599</td>\n",
       "      <td>71.2833</td>\n",
       "      <td>C85</td>\n",
       "      <td>C</td>\n",
       "    </tr>\n",
       "    <tr>\n",
       "      <th>3</th>\n",
       "      <td>1</td>\n",
       "      <td>3</td>\n",
       "      <td>Heikkinen, Miss. Laina</td>\n",
       "      <td>female</td>\n",
       "      <td>26.0</td>\n",
       "      <td>0</td>\n",
       "      <td>0</td>\n",
       "      <td>STON/O2. 3101282</td>\n",
       "      <td>7.9250</td>\n",
       "      <td>NaN</td>\n",
       "      <td>S</td>\n",
       "    </tr>\n",
       "    <tr>\n",
       "      <th>4</th>\n",
       "      <td>1</td>\n",
       "      <td>1</td>\n",
       "      <td>Futrelle, Mrs. Jacques Heath (Lily May Peel)</td>\n",
       "      <td>female</td>\n",
       "      <td>35.0</td>\n",
       "      <td>1</td>\n",
       "      <td>0</td>\n",
       "      <td>113803</td>\n",
       "      <td>53.1000</td>\n",
       "      <td>C123</td>\n",
       "      <td>S</td>\n",
       "    </tr>\n",
       "    <tr>\n",
       "      <th>5</th>\n",
       "      <td>0</td>\n",
       "      <td>3</td>\n",
       "      <td>Allen, Mr. William Henry</td>\n",
       "      <td>male</td>\n",
       "      <td>35.0</td>\n",
       "      <td>0</td>\n",
       "      <td>0</td>\n",
       "      <td>373450</td>\n",
       "      <td>8.0500</td>\n",
       "      <td>NaN</td>\n",
       "      <td>S</td>\n",
       "    </tr>\n",
       "  </tbody>\n",
       "</table>\n",
       "</div>"
      ],
      "text/plain": [
       "             Survived  Pclass  \\\n",
       "PassengerId                     \n",
       "1                   0       3   \n",
       "2                   1       1   \n",
       "3                   1       3   \n",
       "4                   1       1   \n",
       "5                   0       3   \n",
       "\n",
       "                                                          Name     Sex   Age  \\\n",
       "PassengerId                                                                    \n",
       "1                                      Braund, Mr. Owen Harris    male  22.0   \n",
       "2            Cumings, Mrs. John Bradley (Florence Briggs Th...  female  38.0   \n",
       "3                                       Heikkinen, Miss. Laina  female  26.0   \n",
       "4                 Futrelle, Mrs. Jacques Heath (Lily May Peel)  female  35.0   \n",
       "5                                     Allen, Mr. William Henry    male  35.0   \n",
       "\n",
       "             SibSp  Parch            Ticket     Fare Cabin Embarked  \n",
       "PassengerId                                                          \n",
       "1                1      0         A/5 21171   7.2500   NaN        S  \n",
       "2                1      0          PC 17599  71.2833   C85        C  \n",
       "3                0      0  STON/O2. 3101282   7.9250   NaN        S  \n",
       "4                1      0            113803  53.1000  C123        S  \n",
       "5                0      0            373450   8.0500   NaN        S  "
      ]
     },
     "execution_count": 7,
     "metadata": {},
     "output_type": "execute_result"
    }
   ],
   "source": [
    "df.head()"
   ]
  },
  {
   "cell_type": "markdown",
   "id": "2125f6bb-4a48-4a56-ac35-a903020aaae7",
   "metadata": {},
   "source": [
    "# Feature Engineer"
   ]
  },
  {
   "cell_type": "code",
   "execution_count": 70,
   "id": "20c87e3d-8809-4a01-a525-a0ef03a12fd4",
   "metadata": {
    "tags": []
   },
   "outputs": [],
   "source": [
    "class get_feature_name(BaseEstimator, TransformerMixin):\n",
    "    \"\"\"create column with family name  and title of each passenger\"\"\"\n",
    "    def __init__(self, title:bool=True,family:bool=True):\n",
    "        self.title = title\n",
    "        self.family = family\n",
    "        pass\n",
    "    \n",
    "    def fit(self, x:pd.DataFrame, y:pd.Series=None):\n",
    "        return self\n",
    "    \n",
    "    def transform(self, x:pd.DataFrame, y:pd.Series=None):\n",
    "        df = x.copy()\n",
    "        try:\n",
    "            if self.title:\n",
    "                df['Name_title'] = df['Name'].apply(lambda x: x.split(\",\")[1]).apply(lambda x: x.split(\".\")[0])\n",
    "            \n",
    "            if self.family:\n",
    "                df['Name_family'] = df['Name'].apply(lambda x: x.split(\",\")[0])\n",
    "            \n",
    "        except:\n",
    "            print('erro em get_name')\n",
    "        return df\n",
    "    \n",
    "    \n",
    "class dtype_fix(BaseEstimator,TransformerMixin):\n",
    "    \"\"\" corrects dtype of all initial features\"\"\"\n",
    "    \n",
    "    def __init__(self, Pclass_type=True):\n",
    "        self.Pclass_type=Pclass_type\n",
    "        pass\n",
    "    \n",
    "    def fit(self, x:pd.DataFrame, y:pd.Series=None):\n",
    "        return self\n",
    "    \n",
    "    def transform(self, x:pd.DataFrame,y:pd.Series=None):\n",
    "        df=x.copy()\n",
    "        try:\n",
    "            if self.Pclass_type:\n",
    "                df['Pclass']=df['Pclass'].astype('O')            \n",
    "            df['Fare']=df['Fare'].astype('float')\n",
    "            df['Sex']=df['Sex'].astype('object')\n",
    "            df['Age']=df['Age'].astype('float')\n",
    "            df['Cabin']=df['Cabin'].astype('object')\n",
    "            df['Embarked']=df['Embarked'].astype('object')\n",
    "        except:\n",
    "            print('erro em dtype_fix')\n",
    "        return df\n",
    "\n",
    "class Mapper(BaseEstimator, TransformerMixin):\n",
    "    \"\"\"Create column with first character of the first Cabin and how many cabins\"\"\"\n",
    "    \n",
    "    def __init__(self,features:list=['Sex'],map_dicts=[{'male':1,'female':0}]):\n",
    "        \n",
    "        if not isinstance(map_dicts,list):\n",
    "            raise ValueError('map_dicts should be a list of dictionarys')\n",
    "            \n",
    "        self.features = features\n",
    "        self.map_dicts = map_dicts\n",
    "        pass\n",
    "    \n",
    "    def fit(self, x:pd.DataFrame ,y:pd.Series=None):\n",
    "        return self\n",
    "    \n",
    "    def transform(self,x:pd.DataFrame):\n",
    "        x = x.copy()\n",
    "        \n",
    "        for i,feature in enumerate(self.features):\n",
    "            x[feature] = x[feature].map(self.map_dicts[i])\n",
    "        return x\n",
    "\n",
    "class Cabin_code(BaseEstimator, TransformerMixin):\n",
    "    \"\"\"Create column with first character of the first Cabin and how many cabins\"\"\"\n",
    "    \n",
    "    def __init__(self,code=True,size=True):\n",
    "        self.code=code\n",
    "        self.size=size\n",
    "        pass\n",
    "        \n",
    "    def fit(self, x:pd.DataFrame ,y:pd.Series=None):\n",
    "        return self\n",
    "    \n",
    "    def transform(self,x:pd.DataFrame,y:pd.Series=None):\n",
    "        x = x.copy()\n",
    "        try:\n",
    "            if self.code:\n",
    "                x['Cabin_code'] = x['Cabin'].apply(lambda x: x[0])\n",
    "            if self.size:\n",
    "                x['Cabin_Size'] = x['Cabin'].apply(lambda x: len(x.split(\" \")))\n",
    "        except Exception as err:\n",
    "            print('erro no Cabin_code')\n",
    "            print(err)\n",
    "        return x"
   ]
  },
  {
   "cell_type": "code",
   "execution_count": 71,
   "id": "364eb335-4c84-49fb-98c3-b25b36a25071",
   "metadata": {
    "tags": []
   },
   "outputs": [],
   "source": [
    "def dtype_func(x:pd.DataFrame,y:pd.Series=None):\n",
    "    df=x.copy()\n",
    "    df['Pclass']=df['Pclass'].astype('O')\n",
    "    return df\n",
    "        \n",
    "def feat_name(x:pd.DataFrame, y:pd.Series=None):\n",
    "    \"\"\" extracs family name and title from the feature Name \"\"\"\n",
    "    df = x.copy()\n",
    "    df['Name_title'] = df['Name'].apply(lambda x: x.split(\",\")[1]).apply(lambda x: x.split(\".\")[0])\n",
    "    df['Name_family'] = df['Name'].apply(lambda x: x.split(\",\")[0])\n",
    "    return df\n",
    "\n",
    "def mapper_func(x:pd.DataFrame, y=None):\n",
    "    x = x.copy()\n",
    "    x['Sex'] = x['Sex'].map({'male':1,\n",
    "                             'female':0})\n",
    "#    x['Sex'] = x['Sex'].astype('object')\n",
    "    return x\n",
    "\n",
    "def cabin_func(x:pd.DataFrame,y:pd.Series=None):\n",
    "    x = x.copy()\n",
    "    x['Cabin_code'] = x['Cabin'].apply(lambda x: x[0])\n",
    "    x['Cabin_Size'] = x['Cabin'].apply(lambda x: len(x.split(\" \")))\n",
    "    return x\n",
    "\n",
    "dtype_fix = FunctionTransformer(dtype_func)\n",
    "get_feature_name = FunctionTransformer(feat_name)\n",
    "Mapper = FunctionTransformer(mapper_func)\n",
    "Cabin_code = FunctionTransformer(cabin_func)\n"
   ]
  },
  {
   "cell_type": "code",
   "execution_count": 45,
   "id": "506d622a-6f81-4da9-bcb1-f45418b3d9f9",
   "metadata": {
    "tags": []
   },
   "outputs": [],
   "source": [
    "# pipeline for categorical features processing\n",
    "onehot_ct = make_column_transformer((OneHotEncoder(handle_unknown='ignore'),\n",
    "                                     ['Pclass','Embarked','Name_title', 'Name_family','Cabin_code']),\n",
    "                                    remainder='passthrough'\n",
    "                                   )\n",
    "\n",
    "# discretize Continuos features\n",
    "kbins = make_column_transformer((KBinsDiscretizer(n_bins=10,encode='ordinal'),\n",
    "                                     ['Fare','Age']),\n",
    "                                    remainder='passthrough'\n",
    "                                   )\n",
    "\n",
    "# pipeline for numeric features processing\n",
    "num_pp = Pipeline([\n",
    "    ('Scaler',StandardScaler()),\n",
    "    ])\n",
    "\n",
    "#merge categorical and numeric preprocessing\n",
    "merge_pp = make_column_transformer((cat_pp,make_column_selector(dtype_include='object')),\n",
    "                                   (num_pp,['Fare']),\n",
    "                                    remainder='passthrough')"
   ]
  },
  {
   "cell_type": "code",
   "execution_count": 47,
   "id": "a676b7b4-7f8a-408e-b96b-b59010a648af",
   "metadata": {
    "tags": []
   },
   "outputs": [],
   "source": [
    "# pipeline for imputing missing values\n",
    "impute_pipe = Pipeline([\n",
    "   ('Fix dtypes',dtype_fix()),\n",
    "   ('Cabin imputer',CategoricalImputer(variables=['Cabin'], fill_value='C')),\n",
    "   ('Embarked imputer',CategoricalImputer(variables=['Embarked'], imputation_method='frequent')),\n",
    "   ('Numeric imputer', MeanMedianImputer(variables=['Age','Fare'],imputation_method='median'))\n",
    "                    ])\n",
    "\n",
    "# pipeline for extracting features\n",
    "ext_pp = make_pipeline(get_feature_name(),\n",
    "                        Cabin_code())\n",
    "\n",
    "cat_pp = OneHotEncoderFE(variables=['Pclass', 'Embarked', 'Name_title', 'Name_family', 'Cabin_code'],drop_last=False)\n",
    "\n",
    "seed=42\n",
    "#### MODELS\n",
    "lr = LogisticRegression(random_state=seed)\n",
    "rf = RandomForestClassifier(random_state=seed)\n",
    "gbc = GradientBoostingClassifier(random_state=seed)\n",
    "lgbm = LGBMClassifier(random_state=seed)\n",
    "vt = VotingClassifier(voting='hard',estimators=[('lr', lr), ('rf', rf), ('gbc', gbc)])\n",
    "\n",
    "# final pipeline\n",
    "pp_pipe = Pipeline([\n",
    "    ('Impute missing values',impute_pipe),\n",
    "    ('Extract features',ext_pp), \n",
    "    ('Drop bad features',DropFeatures(features_to_drop=['Name','Cabin','Ticket'])),\n",
    "    ('Drop numeric features',DropFeatures(features_to_drop=['Cabin_Size', 'Age','Parch', 'SibSp','Sex','Fare'])),\n",
    "    ('Categorical Preprocess', cat_pp),\n",
    "    ('Voting Classifier Estimator', vt)\n",
    "])\n",
    "\n",
    "final_pipe = make_pipeline(pp_pipe,\n",
    "                           vt)\n",
    "# cross validation\n",
    "#get_cross_score(final_pipe,cv=5)\n",
    "\n",
    "#x_1 = pp_pipe.fit_transform(x)\n",
    "\n",
    "#make_sub(final_pipe, 'best_score', save_to_drive=False)\n",
    "#err_analysis()"
   ]
  },
  {
   "cell_type": "code",
   "execution_count": 48,
   "id": "6c3fb7a3-d1f1-479e-b409-01244d43e167",
   "metadata": {},
   "outputs": [
    {
     "data": {
      "text/html": [
       "<style>#sk-82100bba-4236-42ad-8b5a-c339fd8ebd33 {color: black;background-color: white;}#sk-82100bba-4236-42ad-8b5a-c339fd8ebd33 pre{padding: 0;}#sk-82100bba-4236-42ad-8b5a-c339fd8ebd33 div.sk-toggleable {background-color: white;}#sk-82100bba-4236-42ad-8b5a-c339fd8ebd33 label.sk-toggleable__label {cursor: pointer;display: block;width: 100%;margin-bottom: 0;padding: 0.2em 0.3em;box-sizing: border-box;text-align: center;}#sk-82100bba-4236-42ad-8b5a-c339fd8ebd33 div.sk-toggleable__content {max-height: 0;max-width: 0;overflow: hidden;text-align: left;background-color: #f0f8ff;}#sk-82100bba-4236-42ad-8b5a-c339fd8ebd33 div.sk-toggleable__content pre {margin: 0.2em;color: black;border-radius: 0.25em;background-color: #f0f8ff;}#sk-82100bba-4236-42ad-8b5a-c339fd8ebd33 input.sk-toggleable__control:checked~div.sk-toggleable__content {max-height: 200px;max-width: 100%;overflow: auto;}#sk-82100bba-4236-42ad-8b5a-c339fd8ebd33 div.sk-estimator input.sk-toggleable__control:checked~label.sk-toggleable__label {background-color: #d4ebff;}#sk-82100bba-4236-42ad-8b5a-c339fd8ebd33 div.sk-label input.sk-toggleable__control:checked~label.sk-toggleable__label {background-color: #d4ebff;}#sk-82100bba-4236-42ad-8b5a-c339fd8ebd33 input.sk-hidden--visually {border: 0;clip: rect(1px 1px 1px 1px);clip: rect(1px, 1px, 1px, 1px);height: 1px;margin: -1px;overflow: hidden;padding: 0;position: absolute;width: 1px;}#sk-82100bba-4236-42ad-8b5a-c339fd8ebd33 div.sk-estimator {font-family: monospace;background-color: #f0f8ff;margin: 0.25em 0.25em;border: 1px dotted black;border-radius: 0.25em;box-sizing: border-box;}#sk-82100bba-4236-42ad-8b5a-c339fd8ebd33 div.sk-estimator:hover {background-color: #d4ebff;}#sk-82100bba-4236-42ad-8b5a-c339fd8ebd33 div.sk-parallel-item::after {content: \"\";width: 100%;border-bottom: 1px solid gray;flex-grow: 1;}#sk-82100bba-4236-42ad-8b5a-c339fd8ebd33 div.sk-label:hover label.sk-toggleable__label {background-color: #d4ebff;}#sk-82100bba-4236-42ad-8b5a-c339fd8ebd33 div.sk-serial::before {content: \"\";position: absolute;border-left: 1px solid gray;box-sizing: border-box;top: 2em;bottom: 0;left: 50%;}#sk-82100bba-4236-42ad-8b5a-c339fd8ebd33 div.sk-serial {display: flex;flex-direction: column;align-items: center;background-color: white;}#sk-82100bba-4236-42ad-8b5a-c339fd8ebd33 div.sk-item {z-index: 1;}#sk-82100bba-4236-42ad-8b5a-c339fd8ebd33 div.sk-parallel {display: flex;align-items: stretch;justify-content: center;background-color: white;}#sk-82100bba-4236-42ad-8b5a-c339fd8ebd33 div.sk-parallel-item {display: flex;flex-direction: column;position: relative;background-color: white;}#sk-82100bba-4236-42ad-8b5a-c339fd8ebd33 div.sk-parallel-item:first-child::after {align-self: flex-end;width: 50%;}#sk-82100bba-4236-42ad-8b5a-c339fd8ebd33 div.sk-parallel-item:last-child::after {align-self: flex-start;width: 50%;}#sk-82100bba-4236-42ad-8b5a-c339fd8ebd33 div.sk-parallel-item:only-child::after {width: 0;}#sk-82100bba-4236-42ad-8b5a-c339fd8ebd33 div.sk-dashed-wrapped {border: 1px dashed gray;margin: 0.2em;box-sizing: border-box;padding-bottom: 0.1em;background-color: white;position: relative;}#sk-82100bba-4236-42ad-8b5a-c339fd8ebd33 div.sk-label label {font-family: monospace;font-weight: bold;background-color: white;display: inline-block;line-height: 1.2em;}#sk-82100bba-4236-42ad-8b5a-c339fd8ebd33 div.sk-label-container {position: relative;z-index: 2;text-align: center;}#sk-82100bba-4236-42ad-8b5a-c339fd8ebd33 div.sk-container {display: inline-block;position: relative;}</style><div id=\"sk-82100bba-4236-42ad-8b5a-c339fd8ebd33\" class\"sk-top-container\"><div class=\"sk-container\"><div class=\"sk-item sk-dashed-wrapped\"><div class=\"sk-label-container\"><div class=\"sk-label sk-toggleable\"><input class=\"sk-toggleable__control sk-hidden--visually\" id=\"04c261de-7d00-43ca-a673-d1687a766181\" type=\"checkbox\" ><label class=\"sk-toggleable__label\" for=\"04c261de-7d00-43ca-a673-d1687a766181\">Pipeline</label><div class=\"sk-toggleable__content\"><pre>Pipeline(steps=[('Impute missing values',\n",
       "                 Pipeline(steps=[('Fix dtypes', dtype_fix()),\n",
       "                                 ('Cabin imputer',\n",
       "                                  CategoricalImputer(fill_value='C',\n",
       "                                                     variables=['Cabin'])),\n",
       "                                 ('Embarked imputer',\n",
       "                                  CategoricalImputer(imputation_method='frequent',\n",
       "                                                     variables=['Embarked'])),\n",
       "                                 ('Numeric imputer',\n",
       "                                  MeanMedianImputer(variables=['Age',\n",
       "                                                               'Fare']))])),\n",
       "                ('Extract features',\n",
       "                 Pipeline(steps=[('ge...\n",
       "                ('Categorical Preprocess',\n",
       "                 Pipeline(steps=[('OneHot categorical',\n",
       "                                  OneHotEncoder(variables=['Pclass', 'Embarked',\n",
       "                                                           'Name_title',\n",
       "                                                           'Name_family',\n",
       "                                                           'Cabin_code']))])),\n",
       "                ('Voting Classifier Estimator',\n",
       "                 VotingClassifier(estimators=[('lr',\n",
       "                                               LogisticRegression(random_state=42)),\n",
       "                                              ('rf',\n",
       "                                               RandomForestClassifier(random_state=42)),\n",
       "                                              ('gbc',\n",
       "                                               GradientBoostingClassifier(random_state=42))]))])</pre></div></div></div><div class=\"sk-serial\"><div class=\"sk-item\"><div class=\"sk-label-container\"><div class=\"sk-label sk-toggleable\"><input class=\"sk-toggleable__control sk-hidden--visually\" id=\"f8958137-8969-477f-aabd-f9b54f4c446a\" type=\"checkbox\" ><label class=\"sk-toggleable__label\" for=\"f8958137-8969-477f-aabd-f9b54f4c446a\">Impute missing values: Pipeline</label><div class=\"sk-toggleable__content\"><pre>Pipeline(steps=[('Fix dtypes', dtype_fix()),\n",
       "                ('Cabin imputer',\n",
       "                 CategoricalImputer(fill_value='C', variables=['Cabin'])),\n",
       "                ('Embarked imputer',\n",
       "                 CategoricalImputer(imputation_method='frequent',\n",
       "                                    variables=['Embarked'])),\n",
       "                ('Numeric imputer',\n",
       "                 MeanMedianImputer(variables=['Age', 'Fare']))])</pre></div></div></div><div class=\"sk-serial\"><div class=\"sk-item\"><div class=\"sk-estimator sk-toggleable\"><input class=\"sk-toggleable__control sk-hidden--visually\" id=\"3e47a5a7-1613-425d-8fc9-e9eb8183ed7a\" type=\"checkbox\" ><label class=\"sk-toggleable__label\" for=\"3e47a5a7-1613-425d-8fc9-e9eb8183ed7a\">dtype_fix</label><div class=\"sk-toggleable__content\"><pre>dtype_fix()</pre></div></div></div><div class=\"sk-item\"><div class=\"sk-estimator sk-toggleable\"><input class=\"sk-toggleable__control sk-hidden--visually\" id=\"85b9db65-c412-4654-8c93-ecf6e5b46da5\" type=\"checkbox\" ><label class=\"sk-toggleable__label\" for=\"85b9db65-c412-4654-8c93-ecf6e5b46da5\">CategoricalImputer</label><div class=\"sk-toggleable__content\"><pre>CategoricalImputer(fill_value='C', variables=['Cabin'])</pre></div></div></div><div class=\"sk-item\"><div class=\"sk-estimator sk-toggleable\"><input class=\"sk-toggleable__control sk-hidden--visually\" id=\"0d461c17-dc72-4685-b741-ec9c3c706781\" type=\"checkbox\" ><label class=\"sk-toggleable__label\" for=\"0d461c17-dc72-4685-b741-ec9c3c706781\">CategoricalImputer</label><div class=\"sk-toggleable__content\"><pre>CategoricalImputer(imputation_method='frequent', variables=['Embarked'])</pre></div></div></div><div class=\"sk-item\"><div class=\"sk-estimator sk-toggleable\"><input class=\"sk-toggleable__control sk-hidden--visually\" id=\"176b6c12-2f9e-420d-89d9-78ef3b55ebfa\" type=\"checkbox\" ><label class=\"sk-toggleable__label\" for=\"176b6c12-2f9e-420d-89d9-78ef3b55ebfa\">MeanMedianImputer</label><div class=\"sk-toggleable__content\"><pre>MeanMedianImputer(variables=['Age', 'Fare'])</pre></div></div></div></div></div><div class=\"sk-item\"><div class=\"sk-label-container\"><div class=\"sk-label sk-toggleable\"><input class=\"sk-toggleable__control sk-hidden--visually\" id=\"7440b91d-578e-4c5e-bcb8-c4551d42ab33\" type=\"checkbox\" ><label class=\"sk-toggleable__label\" for=\"7440b91d-578e-4c5e-bcb8-c4551d42ab33\">Extract features: Pipeline</label><div class=\"sk-toggleable__content\"><pre>Pipeline(steps=[('get_feature_name', get_feature_name()),\n",
       "                ('cabin_code', Cabin_code())])</pre></div></div></div><div class=\"sk-serial\"><div class=\"sk-item\"><div class=\"sk-estimator sk-toggleable\"><input class=\"sk-toggleable__control sk-hidden--visually\" id=\"19b8f81f-b03a-415e-8fa5-568bcc7915c1\" type=\"checkbox\" ><label class=\"sk-toggleable__label\" for=\"19b8f81f-b03a-415e-8fa5-568bcc7915c1\">get_feature_name</label><div class=\"sk-toggleable__content\"><pre>get_feature_name()</pre></div></div></div><div class=\"sk-item\"><div class=\"sk-estimator sk-toggleable\"><input class=\"sk-toggleable__control sk-hidden--visually\" id=\"6debc727-814e-4963-95e8-667e4363d3c6\" type=\"checkbox\" ><label class=\"sk-toggleable__label\" for=\"6debc727-814e-4963-95e8-667e4363d3c6\">Cabin_code</label><div class=\"sk-toggleable__content\"><pre>Cabin_code()</pre></div></div></div></div></div><div class=\"sk-item\"><div class=\"sk-estimator sk-toggleable\"><input class=\"sk-toggleable__control sk-hidden--visually\" id=\"6aef0539-412a-4664-8615-7ddbdc641d03\" type=\"checkbox\" ><label class=\"sk-toggleable__label\" for=\"6aef0539-412a-4664-8615-7ddbdc641d03\">DropFeatures</label><div class=\"sk-toggleable__content\"><pre>DropFeatures(features_to_drop=['Name', 'Cabin', 'Ticket'])</pre></div></div></div><div class=\"sk-item\"><div class=\"sk-estimator sk-toggleable\"><input class=\"sk-toggleable__control sk-hidden--visually\" id=\"d4f57c7b-9da2-4407-b9f3-06ae1a7c6950\" type=\"checkbox\" ><label class=\"sk-toggleable__label\" for=\"d4f57c7b-9da2-4407-b9f3-06ae1a7c6950\">DropFeatures</label><div class=\"sk-toggleable__content\"><pre>DropFeatures(features_to_drop=['Cabin_Size', 'Age', 'Parch', 'SibSp', 'Sex',\n",
       "                               'Fare'])</pre></div></div></div><div class=\"sk-item\"><div class=\"sk-label-container\"><div class=\"sk-label sk-toggleable\"><input class=\"sk-toggleable__control sk-hidden--visually\" id=\"d7b139e2-7997-47f8-a408-8ce586216038\" type=\"checkbox\" ><label class=\"sk-toggleable__label\" for=\"d7b139e2-7997-47f8-a408-8ce586216038\">Categorical Preprocess: Pipeline</label><div class=\"sk-toggleable__content\"><pre>Pipeline(steps=[('OneHot categorical',\n",
       "                 OneHotEncoder(variables=['Pclass', 'Embarked', 'Name_title',\n",
       "                                          'Name_family', 'Cabin_code']))])</pre></div></div></div><div class=\"sk-serial\"><div class=\"sk-item\"><div class=\"sk-estimator sk-toggleable\"><input class=\"sk-toggleable__control sk-hidden--visually\" id=\"56a66d38-4ba5-4631-a44d-e6d6b2f01907\" type=\"checkbox\" ><label class=\"sk-toggleable__label\" for=\"56a66d38-4ba5-4631-a44d-e6d6b2f01907\">OneHotEncoder</label><div class=\"sk-toggleable__content\"><pre>OneHotEncoder(variables=['Pclass', 'Embarked', 'Name_title', 'Name_family',\n",
       "                         'Cabin_code'])</pre></div></div></div></div></div><div class=\"sk-item sk-dashed-wrapped\"><div class=\"sk-label-container\"><div class=\"sk-label sk-toggleable\"><input class=\"sk-toggleable__control sk-hidden--visually\" id=\"e3d999b1-c558-4db7-a0c6-bc6a681f6545\" type=\"checkbox\" ><label class=\"sk-toggleable__label\" for=\"e3d999b1-c558-4db7-a0c6-bc6a681f6545\">Voting Classifier Estimator: VotingClassifier</label><div class=\"sk-toggleable__content\"><pre>VotingClassifier(estimators=[('lr', LogisticRegression(random_state=42)),\n",
       "                             ('rf', RandomForestClassifier(random_state=42)),\n",
       "                             ('gbc',\n",
       "                              GradientBoostingClassifier(random_state=42))])</pre></div></div></div><div class=\"sk-parallel\"><div class=\"sk-parallel-item\"><div class=\"sk-item\"><div class=\"sk-label-container\"><div class=\"sk-label sk-toggleable\"><label>lr</label></div></div><div class=\"sk-serial\"><div class=\"sk-item\"><div class=\"sk-estimator sk-toggleable\"><input class=\"sk-toggleable__control sk-hidden--visually\" id=\"83f4a2b8-cf70-4985-b3b8-8ad0949f5337\" type=\"checkbox\" ><label class=\"sk-toggleable__label\" for=\"83f4a2b8-cf70-4985-b3b8-8ad0949f5337\">LogisticRegression</label><div class=\"sk-toggleable__content\"><pre>LogisticRegression(random_state=42)</pre></div></div></div></div></div></div><div class=\"sk-parallel-item\"><div class=\"sk-item\"><div class=\"sk-label-container\"><div class=\"sk-label sk-toggleable\"><label>rf</label></div></div><div class=\"sk-serial\"><div class=\"sk-item\"><div class=\"sk-estimator sk-toggleable\"><input class=\"sk-toggleable__control sk-hidden--visually\" id=\"d5f4cc05-fd24-4c40-aa07-7aca7c09f536\" type=\"checkbox\" ><label class=\"sk-toggleable__label\" for=\"d5f4cc05-fd24-4c40-aa07-7aca7c09f536\">RandomForestClassifier</label><div class=\"sk-toggleable__content\"><pre>RandomForestClassifier(random_state=42)</pre></div></div></div></div></div></div><div class=\"sk-parallel-item\"><div class=\"sk-item\"><div class=\"sk-label-container\"><div class=\"sk-label sk-toggleable\"><label>gbc</label></div></div><div class=\"sk-serial\"><div class=\"sk-item\"><div class=\"sk-estimator sk-toggleable\"><input class=\"sk-toggleable__control sk-hidden--visually\" id=\"8896182f-ce81-46fd-8a14-475a3901c322\" type=\"checkbox\" ><label class=\"sk-toggleable__label\" for=\"8896182f-ce81-46fd-8a14-475a3901c322\">GradientBoostingClassifier</label><div class=\"sk-toggleable__content\"><pre>GradientBoostingClassifier(random_state=42)</pre></div></div></div></div></div></div></div></div></div></div></div></div>"
      ],
      "text/plain": [
       "Pipeline(steps=[('Impute missing values',\n",
       "                 Pipeline(steps=[('Fix dtypes', dtype_fix()),\n",
       "                                 ('Cabin imputer',\n",
       "                                  CategoricalImputer(fill_value='C',\n",
       "                                                     variables=['Cabin'])),\n",
       "                                 ('Embarked imputer',\n",
       "                                  CategoricalImputer(imputation_method='frequent',\n",
       "                                                     variables=['Embarked'])),\n",
       "                                 ('Numeric imputer',\n",
       "                                  MeanMedianImputer(variables=['Age',\n",
       "                                                               'Fare']))])),\n",
       "                ('Extract features',\n",
       "                 Pipeline(steps=[('ge...\n",
       "                ('Categorical Preprocess',\n",
       "                 Pipeline(steps=[('OneHot categorical',\n",
       "                                  OneHotEncoder(variables=['Pclass', 'Embarked',\n",
       "                                                           'Name_title',\n",
       "                                                           'Name_family',\n",
       "                                                           'Cabin_code']))])),\n",
       "                ('Voting Classifier Estimator',\n",
       "                 VotingClassifier(estimators=[('lr',\n",
       "                                               LogisticRegression(random_state=42)),\n",
       "                                              ('rf',\n",
       "                                               RandomForestClassifier(random_state=42)),\n",
       "                                              ('gbc',\n",
       "                                               GradientBoostingClassifier(random_state=42))]))])"
      ]
     },
     "execution_count": 48,
     "metadata": {},
     "output_type": "execute_result"
    }
   ],
   "source": [
    "pp_pipe"
   ]
  },
  {
   "cell_type": "markdown",
   "id": "aa586f77-fb9e-4dfa-afa5-a0092f6e7c8a",
   "metadata": {},
   "source": [
    "# Confusion Matrix"
   ]
  },
  {
   "cell_type": "code",
   "execution_count": 302,
   "id": "db98d44d-9912-43b9-a988-bc2a1e8e887c",
   "metadata": {},
   "outputs": [],
   "source": [
    "def conf_mat():\n",
    "    preddd = final_pipe.fit(x_train,y_train).predict(x_test)\n",
    "    cf = confusion_matrix(y_test,preddd)\n",
    "    ConfusionMatrixDisplay(cf).plot()"
   ]
  },
  {
   "cell_type": "code",
   "execution_count": 344,
   "id": "45e1a14b-e472-43c2-ad0b-4ca882b1161d",
   "metadata": {},
   "outputs": [
    {
     "data": {
      "image/png": "[encoded data removed]",
      "text/plain": [
       "<Figure size 432x288 with 2 Axes>"
      ]
     },
     "metadata": {
      "needs_background": "light"
     },
     "output_type": "display_data"
    }
   ],
   "source": [
    "conf_mat()"
   ]
  },
  {
   "cell_type": "markdown",
   "id": "33c3c873-ecc8-4d1b-81c1-9589a0a43d9c",
   "metadata": {},
   "source": [
    "# Recursive Feature Selection (RFE)"
   ]
  },
  {
   "cell_type": "code",
   "execution_count": 357,
   "id": "61ee56df-01a4-47d0-b675-87b4b2a72af5",
   "metadata": {
    "tags": []
   },
   "outputs": [],
   "source": [
    "best_feat = RFE(estimator=lr, n_features_to_select=20, step=3).fit(x_1,y)"
   ]
  },
  {
   "cell_type": "code",
   "execution_count": 358,
   "id": "e18e9ff0-b73e-48ae-a68f-da94f27ce386",
   "metadata": {},
   "outputs": [],
   "source": [
    "pd.DataFrame(best_feat.support_,index=x_1.columns).to_csv('RFE/lr_best_feats.csv')\n",
    "pd.DataFrame(best_feat.ranking_,index=x_1.columns).to_csv('RFE/lr_ranking.csv')\n",
    "RFE_ranking = pd.read_csv('RFE/lr_ranking.csv', index_col=0)"
   ]
  },
  {
   "cell_type": "code",
   "execution_count": 360,
   "id": "228bcbc7-467d-45c3-8f77-8e02c8d489a8",
   "metadata": {
    "collapsed": true,
    "jupyter": {
     "outputs_hidden": true
    },
    "tags": []
   },
   "outputs": [
    {
     "data": {
      "text/html": [
       "<div>\n",
       "<style scoped>\n",
       "    .dataframe tbody tr th:only-of-type {\n",
       "        vertical-align: middle;\n",
       "    }\n",
       "\n",
       "    .dataframe tbody tr th {\n",
       "        vertical-align: top;\n",
       "    }\n",
       "\n",
       "    .dataframe thead th {\n",
       "        text-align: right;\n",
       "    }\n",
       "</style>\n",
       "<table border=\"1\" class=\"dataframe\">\n",
       "  <thead>\n",
       "    <tr style=\"text-align: right;\">\n",
       "      <th></th>\n",
       "      <th>0</th>\n",
       "    </tr>\n",
       "  </thead>\n",
       "  <tbody>\n",
       "    <tr>\n",
       "      <th>Sex</th>\n",
       "      <td>1</td>\n",
       "    </tr>\n",
       "    <tr>\n",
       "      <th>Pclass_3</th>\n",
       "      <td>1</td>\n",
       "    </tr>\n",
       "    <tr>\n",
       "      <th>Name_title_ Mr</th>\n",
       "      <td>1</td>\n",
       "    </tr>\n",
       "    <tr>\n",
       "      <th>Name_title_ Master</th>\n",
       "      <td>1</td>\n",
       "    </tr>\n",
       "    <tr>\n",
       "      <th>Name_title_ Rev</th>\n",
       "      <td>1</td>\n",
       "    </tr>\n",
       "    <tr>\n",
       "      <th>Name_family_Palsson</th>\n",
       "      <td>1</td>\n",
       "    </tr>\n",
       "    <tr>\n",
       "      <th>Name_family_Rice</th>\n",
       "      <td>1</td>\n",
       "    </tr>\n",
       "    <tr>\n",
       "      <th>Name_family_Panula</th>\n",
       "      <td>1</td>\n",
       "    </tr>\n",
       "    <tr>\n",
       "      <th>Name_family_Goodwin</th>\n",
       "      <td>1</td>\n",
       "    </tr>\n",
       "    <tr>\n",
       "      <th>Name_family_Skoog</th>\n",
       "      <td>1</td>\n",
       "    </tr>\n",
       "    <tr>\n",
       "      <th>Name_family_Ford</th>\n",
       "      <td>1</td>\n",
       "    </tr>\n",
       "    <tr>\n",
       "      <th>Name_family_Lefebre</th>\n",
       "      <td>1</td>\n",
       "    </tr>\n",
       "    <tr>\n",
       "      <th>Name_family_Strom</th>\n",
       "      <td>1</td>\n",
       "    </tr>\n",
       "    <tr>\n",
       "      <th>Name_family_Allison</th>\n",
       "      <td>1</td>\n",
       "    </tr>\n",
       "    <tr>\n",
       "      <th>Name_family_McCoy</th>\n",
       "      <td>1</td>\n",
       "    </tr>\n",
       "    <tr>\n",
       "      <th>Name_family_Nakid</th>\n",
       "      <td>1</td>\n",
       "    </tr>\n",
       "    <tr>\n",
       "      <th>Name_family_Daly</th>\n",
       "      <td>1</td>\n",
       "    </tr>\n",
       "    <tr>\n",
       "      <th>Name_family_Mack</th>\n",
       "      <td>1</td>\n",
       "    </tr>\n",
       "    <tr>\n",
       "      <th>Name_family_Hedman</th>\n",
       "      <td>1</td>\n",
       "    </tr>\n",
       "    <tr>\n",
       "      <th>Cabin_code_C</th>\n",
       "      <td>1</td>\n",
       "    </tr>\n",
       "  </tbody>\n",
       "</table>\n",
       "</div>"
      ],
      "text/plain": [
       "                     0\n",
       "Sex                  1\n",
       "Pclass_3             1\n",
       "Name_title_ Mr       1\n",
       "Name_title_ Master   1\n",
       "Name_title_ Rev      1\n",
       "Name_family_Palsson  1\n",
       "Name_family_Rice     1\n",
       "Name_family_Panula   1\n",
       "Name_family_Goodwin  1\n",
       "Name_family_Skoog    1\n",
       "Name_family_Ford     1\n",
       "Name_family_Lefebre  1\n",
       "Name_family_Strom    1\n",
       "Name_family_Allison  1\n",
       "Name_family_McCoy    1\n",
       "Name_family_Nakid    1\n",
       "Name_family_Daly     1\n",
       "Name_family_Mack     1\n",
       "Name_family_Hedman   1\n",
       "Cabin_code_C         1"
      ]
     },
     "execution_count": 360,
     "metadata": {},
     "output_type": "execute_result"
    }
   ],
   "source": [
    "RFE_ranking[RFE_ranking['0']==1]"
   ]
  },
  {
   "cell_type": "markdown",
   "id": "5a495a4b-3e36-4d16-b0ac-ef4ef4a0c479",
   "metadata": {},
   "source": [
    "# Feature Importance"
   ]
  },
  {
   "cell_type": "code",
   "execution_count": 149,
   "id": "9b49baa2-c468-4c04-b550-f6897180b90f",
   "metadata": {},
   "outputs": [],
   "source": [
    "df_pred1 =  pp_pipe.transform(df_pred)\n",
    "rf.fit(x_1,y)\n",
    "pred = rf.predict(df_pred1)\n",
    "feat_imp = pd.DataFrame(rf.feature_importances_, index=x_1.columns)"
   ]
  },
  {
   "cell_type": "code",
   "execution_count": 150,
   "id": "884fff0d-b449-428d-8599-b7e52b86f795",
   "metadata": {},
   "outputs": [
    {
     "data": {
      "text/plain": [
       "<AxesSubplot:>"
      ]
     },
     "execution_count": 150,
     "metadata": {},
     "output_type": "execute_result"
    },
    {
     "data": {
      "image/png": "[encoded data removed]",
      "text/plain": [
       "<Figure size 432x288 with 1 Axes>"
      ]
     },
     "metadata": {
      "needs_background": "light"
     },
     "output_type": "display_data"
    }
   ],
   "source": [
    "feat_imp.sort_values(by=0,ascending=False).head(20).plot.bar()"
   ]
  },
  {
   "cell_type": "markdown",
   "id": "981d9838-ac6d-4c87-95c6-8428d400fd9e",
   "metadata": {},
   "source": [
    "# Learning Curve"
   ]
  },
  {
   "cell_type": "code",
   "execution_count": 16,
   "id": "8e0af666-7479-4e9a-bc8e-40fc53a71fdc",
   "metadata": {
    "tags": []
   },
   "outputs": [
    {
     "name": "stdout",
     "output_type": "stream",
     "text": [
      "train_scores_mean:  0.9073033707865168 \n",
      "test_scores_mean 0.8249325214989642\n"
     ]
    },
    {
     "data": {
      "text/plain": [
       "<module 'matplotlib.pyplot' from 'C:\\\\Users\\\\ticom\\\\anaconda3\\\\lib\\\\site-packages\\\\matplotlib\\\\pyplot.py'>"
      ]
     },
     "execution_count": 16,
     "metadata": {},
     "output_type": "execute_result"
    },
    {
     "data": {
      "image/png": "[encoded data removed]",
      "text/plain": [
       "<Figure size 1440x720 with 1 Axes>"
      ]
     },
     "metadata": {
      "needs_background": "light"
     },
     "output_type": "display_data"
    }
   ],
   "source": [
    "title = \"Learning Curves\"\n",
    "plot_learning_curve(vt, title, x_1, y, ylim=(0.75, 1),\n",
    "                    cv=5, n_jobs=-1)"
   ]
  },
  {
   "cell_type": "code",
   "execution_count": 147,
   "id": "71f37aad-59fe-4432-9755-5427efcd3bd5",
   "metadata": {
    "collapsed": true,
    "jupyter": {
     "outputs_hidden": true
    },
    "tags": []
   },
   "outputs": [
    {
     "name": "stdout",
     "output_type": "stream",
     "text": [
      "train_scores_mean:  0.8946629213483147 \n",
      "test_scores_mean 0.8372669637813068\n"
     ]
    },
    {
     "data": {
      "text/plain": [
       "<module 'matplotlib.pyplot' from 'C:\\\\Users\\\\ticom\\\\anaconda3\\\\lib\\\\site-packages\\\\matplotlib\\\\pyplot.py'>"
      ]
     },
     "execution_count": 147,
     "metadata": {},
     "output_type": "execute_result"
    },
    {
     "data": {
      "image/png": "[encoded data removed]",
      "text/plain": [
       "<Figure size 1440x720 with 1 Axes>"
      ]
     },
     "metadata": {
      "needs_background": "light"
     },
     "output_type": "display_data"
    }
   ],
   "source": [
    "plot_learning_curve(vt, title, x_1, y, ylim=(0.75, 1),\n",
    "                    cv=5, n_jobs=-1)"
   ]
  },
  {
   "cell_type": "markdown",
   "id": "a20ccb0a-9b90-4db6-b807-1bc6817b568d",
   "metadata": {},
   "source": [
    "Best Result so far: Acc = 0.80382 on the leaderboard"
   ]
  },
  {
   "cell_type": "markdown",
   "id": "310b7d77-9308-4e20-a21c-6402ff58d1fc",
   "metadata": {},
   "source": [
    "# Error analysis"
   ]
  },
  {
   "cell_type": "code",
   "execution_count": 207,
   "id": "e6de896e-ea94-4500-a303-41ce12243875",
   "metadata": {},
   "outputs": [],
   "source": [
    "make_sub(final_pipe, 'best_score', save_to_drive=False)"
   ]
  },
  {
   "cell_type": "code",
   "execution_count": 208,
   "id": "0e52147a-753e-4e36-9535-394029c6ee7c",
   "metadata": {},
   "outputs": [
    {
     "name": "stdout",
     "output_type": "stream",
     "text": [
      "Survived_best:  0\n",
      "\n",
      "Survived_last:  0\n"
     ]
    },
    {
     "data": {
      "text/html": [
       "<div>\n",
       "<style scoped>\n",
       "    .dataframe tbody tr th:only-of-type {\n",
       "        vertical-align: middle;\n",
       "    }\n",
       "\n",
       "    .dataframe tbody tr th {\n",
       "        vertical-align: top;\n",
       "    }\n",
       "\n",
       "    .dataframe thead th {\n",
       "        text-align: right;\n",
       "    }\n",
       "</style>\n",
       "<table border=\"1\" class=\"dataframe\">\n",
       "  <thead>\n",
       "    <tr style=\"text-align: right;\">\n",
       "      <th></th>\n",
       "      <th>Pclass</th>\n",
       "      <th>Name</th>\n",
       "      <th>Sex</th>\n",
       "      <th>Age</th>\n",
       "      <th>SibSp</th>\n",
       "      <th>Parch</th>\n",
       "      <th>Ticket</th>\n",
       "      <th>Fare</th>\n",
       "      <th>Cabin</th>\n",
       "      <th>Embarked</th>\n",
       "      <th>Survived_best</th>\n",
       "      <th>Survived_last</th>\n",
       "    </tr>\n",
       "    <tr>\n",
       "      <th>PassengerId</th>\n",
       "      <th></th>\n",
       "      <th></th>\n",
       "      <th></th>\n",
       "      <th></th>\n",
       "      <th></th>\n",
       "      <th></th>\n",
       "      <th></th>\n",
       "      <th></th>\n",
       "      <th></th>\n",
       "      <th></th>\n",
       "      <th></th>\n",
       "      <th></th>\n",
       "    </tr>\n",
       "  </thead>\n",
       "  <tbody>\n",
       "  </tbody>\n",
       "</table>\n",
       "</div>"
      ],
      "text/plain": [
       "Empty DataFrame\n",
       "Columns: [Pclass, Name, Sex, Age, SibSp, Parch, Ticket, Fare, Cabin, Embarked, Survived_best, Survived_last]\n",
       "Index: []"
      ]
     },
     "execution_count": 208,
     "metadata": {},
     "output_type": "execute_result"
    }
   ],
   "source": [
    "err_analysis()"
   ]
  },
  {
   "cell_type": "code",
   "execution_count": 377,
   "id": "1575fd86-bd6a-4741-acaf-9676409d3596",
   "metadata": {},
   "outputs": [],
   "source": [
    "best_sub = pd.read_csv('best_sub.csv', index_col='PassengerId')"
   ]
  },
  {
   "cell_type": "code",
   "execution_count": 383,
   "id": "6609e049-164f-4011-b046-b33509922b50",
   "metadata": {},
   "outputs": [
    {
     "data": {
      "text/plain": [
       "15"
      ]
     },
     "execution_count": 383,
     "metadata": {},
     "output_type": "execute_result"
    }
   ],
   "source": [
    "best_sub.join(df_pred,on='PassengerId')[df_pred['Sex']=='male']['Survived'].sum()"
   ]
  },
  {
   "cell_type": "code",
   "execution_count": 389,
   "id": "fa6cdd0a-b78c-4f99-bdfb-50952c2202c1",
   "metadata": {},
   "outputs": [
    {
     "data": {
      "text/plain": [
       "109"
      ]
     },
     "execution_count": 389,
     "metadata": {},
     "output_type": "execute_result"
    }
   ],
   "source": [
    "df[df['Sex']=='male']['Survived'].sum()"
   ]
  },
  {
   "cell_type": "code",
   "execution_count": null,
   "id": "b4544dfd-1943-42ea-8c00-316ef0126690",
   "metadata": {},
   "outputs": [],
   "source": []
  },
  {
   "cell_type": "code",
   "execution_count": null,
   "id": "59b0910e-a8e6-4a95-bb8e-ec78b875f989",
   "metadata": {},
   "outputs": [],
   "source": []
  },
  {
   "cell_type": "code",
   "execution_count": null,
   "id": "0288fda0-6023-4722-ba39-56eee6890a15",
   "metadata": {},
   "outputs": [],
   "source": []
  },
  {
   "cell_type": "code",
   "execution_count": 84,
   "id": "8f59b8c5-9f4c-4d28-877d-b0b997b98a94",
   "metadata": {},
   "outputs": [
    {
     "name": "stdout",
     "output_type": "stream",
     "text": [
      "accuracy of 0.8219 and standard deviation of 0.0307\n"
     ]
    }
   ],
   "source": [
    "pipe_name_title = make_pipeline(\n",
    "    \n",
    "                        #categorical features transformations\n",
    "                          get_feature_name,\n",
    "                          DropFeatures(features_to_drop=['Name','Ticket','Cabin','Embarked']),\n",
    "                          Mapper,\n",
    "                          OneHotEncoderFE(variables=['Name_title','Name_family']),\n",
    "                        # numeric features transformations\n",
    "                          MeanMedianImputer(imputation_method='mean', variables=['Age','Fare']),\n",
    "                        # model  \n",
    "                        RandomForestClassifier(random_state=0))\n",
    "get_cross_score(pipe_name_title)"
   ]
  }
 ],
 "metadata": {
  "kernelspec": {
   "display_name": "Python 3 (ipykernel)",
   "language": "python",
   "name": "python3"
  },
  "language_info": {
   "codemirror_mode": {
    "name": "ipython",
    "version": 3
   },
   "file_extension": ".py",
   "mimetype": "text/x-python",
   "name": "python",
   "nbconvert_exporter": "python",
   "pygments_lexer": "ipython3",
   "version": "3.8.10"
  },
  "toc-showtags": true
 },
 "nbformat": 4,
 "nbformat_minor": 5
}
