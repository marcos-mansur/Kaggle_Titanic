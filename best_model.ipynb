{
 "cells": [
  {
   "cell_type": "code",
   "execution_count": 3,
   "id": "b33cfdd7",
   "metadata": {},
   "outputs": [],
   "source": [
    "import pandas as pd \n",
    "import numpy as np\n",
    "import matplotlib.pyplot as plt\n",
    "\n",
    "# Learning curve\n",
    "from sklearn.model_selection import learning_curve\n",
    "\n",
    "# algorithms\n",
    "from sklearn.ensemble import RandomForestClassifier, GradientBoostingClassifier, VotingClassifier\n",
    "from sklearn.linear_model import LogisticRegression\n",
    "from lightgbm import LGBMClassifier\n",
    "\n",
    "# Feature engineer \n",
    "from feature_engine.selection import DropFeatures\n",
    "from feature_engine.encoding import RareLabelEncoder\n",
    "from sklearn.preprocessing import OneHotEncoder\n",
    "from feature_engine.imputation import (MeanMedianImputer, CategoricalImputer)\n",
    "from sklearn.impute import SimpleImputer\n",
    "from sklearn.preprocessing import FunctionTransformer\n",
    "from sklearn.compose import ColumnTransformer, make_column_selector, make_column_transformer\n",
    "from sklearn.pipeline import make_pipeline, Pipeline\n",
    "from sklearn.base import BaseEstimator, TransformerMixin\n",
    "\n",
    "# Model_Selection\n",
    "from sklearn.model_selection import train_test_split, cross_val_score"
   ]
  },
  {
   "cell_type": "code",
   "execution_count": 4,
   "id": "9873738e-cc82-409d-9666-37a58a5af0a4",
   "metadata": {},
   "outputs": [],
   "source": [
    "import warnings\n",
    "warnings.filterwarnings(\"ignore\")"
   ]
  },
  {
   "cell_type": "markdown",
   "id": "c85eadab-18a6-431b-846f-09e37b24372f",
   "metadata": {},
   "source": [
    "# Load Data"
   ]
  },
  {
   "cell_type": "code",
   "execution_count": 5,
   "id": "b229fbfa",
   "metadata": {},
   "outputs": [],
   "source": [
    "def load_data():\n",
    "    global df\n",
    "    df = pd.read_csv(\"Dados/train.csv\",index_col=0)\n",
    "    global df_pred\n",
    "    df_pred = pd.read_csv(\"Dados/test.csv\",index_col=0)\n",
    "    global x\n",
    "    x = df.drop('Survived',axis=1)\n",
    "    global y\n",
    "    y = df.Survived\n",
    "    global seed\n",
    "    seed = 42\n",
    "    \n",
    "    global x_train, x_test, y_train, y_test\n",
    "    x_train, x_test, y_train, y_test = train_test_split(x,y,test_size=0.3, random_state = 42)\n",
    "    \n",
    "    global num_var, cat_var, target\n",
    "    num_var = ['Pclass','Age','SibSp','Parch','Fare','Cabin_Size']\n",
    "    cat_var = ['Sex','Cabin_code','Embarked','Name_Title', 'Name_family']\n",
    "    target = ['Survived']"
   ]
  },
  {
   "cell_type": "code",
   "execution_count": 6,
   "id": "eabb221d",
   "metadata": {},
   "outputs": [],
   "source": [
    "load_data()"
   ]
  },
  {
   "cell_type": "markdown",
   "id": "483de835-dd2f-4c53-8a5e-e3faa957a028",
   "metadata": {},
   "source": [
    "# Functions"
   ]
  },
  {
   "cell_type": "code",
   "execution_count": 7,
   "id": "a1b4eb30-d20c-4fe8-89ec-5dc4ba4634fb",
   "metadata": {
    "tags": []
   },
   "outputs": [],
   "source": [
    "def plot_learning_curve(estimator, title, X, y, axes=None, ylim=None, cv=None,\n",
    "                        n_jobs=None, train_sizes=np.linspace(.1, 1.0, 5)):\n",
    "    \"\"\"\n",
    "    Generate plot: the test and training learning curve\n",
    "    \"\"\"\n",
    "    if axes is None:\n",
    "        _, axes = plt.subplots(1, figsize=(20, 10))\n",
    "\n",
    "    axes.set_title(title)\n",
    "    if ylim is not None:\n",
    "        axes.set_ylim(*ylim)\n",
    "    axes.set_xlabel(\"Training examples\")\n",
    "    axes.set_ylabel(\"Score\")\n",
    "\n",
    "    train_sizes, train_scores, test_scores, fit_times, _ = \\\n",
    "        learning_curve(estimator, X, y, cv=cv, n_jobs=n_jobs,\n",
    "                       train_sizes=train_sizes, scoring='accuracy',\n",
    "                       return_times=True)\n",
    "    train_scores_mean = np.mean(train_scores, axis=1)\n",
    "    train_scores_std = np.std(train_scores, axis=1)\n",
    "    test_scores_mean = np.mean(test_scores, axis=1)\n",
    "    test_scores_std = np.std(test_scores, axis=1)\n",
    "    fit_times_mean = np.mean(fit_times, axis=1)\n",
    "    fit_times_std = np.std(fit_times, axis=1)\n",
    "\n",
    "    # Plot learning curve\n",
    "    axes.grid()\n",
    "    axes.fill_between(train_sizes, train_scores_mean - train_scores_std,\n",
    "                         train_scores_mean + train_scores_std, alpha=0.1,\n",
    "                         color=\"r\")\n",
    "    axes.fill_between(train_sizes, test_scores_mean - test_scores_std,\n",
    "                         test_scores_mean + test_scores_std, alpha=0.1,\n",
    "                         color=\"g\")\n",
    "    axes.plot(train_sizes, train_scores_mean, 'o-', color=\"r\",\n",
    "                 label=\"Training score\")\n",
    "    axes.plot(train_sizes, test_scores_mean, 'o-', color=\"g\",\n",
    "                 label=\"Cross-validation score\")\n",
    "    axes.legend(loc=\"best\")\n",
    "    print('train_scores_mean: ',train_scores_mean[-1], '\\ntest_scores_mean',test_scores_mean[-1])\n",
    "    return plt"
   ]
  },
  {
   "cell_type": "code",
   "execution_count": 13,
   "id": "2224d566-6cca-4431-bbd6-a54778af4bfc",
   "metadata": {},
   "outputs": [],
   "source": [
    "def get_cross_score(pipe,cv=5):\n",
    "    score = cross_val_score(pipe, x_train, y_train, cv=cv, scoring='accuracy')\n",
    "    print(f'accuracy of {np.round(score.mean(),4)} and standard deviation of {np.round(score.std(),4)}')\n",
    "\n",
    "def make_sub(pipe,subname,save_to_drive=True):\n",
    "    pipe.fit(x,y)\n",
    "    pred = pipe.predict(df_pred)\n",
    "    \n",
    "    global last_sub\n",
    "    last_sub = pd.DataFrame({'PassengerId': df_pred.index,\n",
    "                             'Survived': pred})\n",
    "    if save_to_drive:\n",
    "        last_sub.to_csv('Predições/Experiments_nb/' +subname+'.csv',header=True, index=False)"
   ]
  },
  {
   "cell_type": "markdown",
   "id": "2125f6bb-4a48-4a56-ac35-a903020aaae7",
   "metadata": {},
   "source": [
    "# Feature Engineer"
   ]
  },
  {
   "cell_type": "code",
   "execution_count": 9,
   "id": "20c87e3d-8809-4a01-a525-a0ef03a12fd4",
   "metadata": {
    "tags": []
   },
   "outputs": [],
   "source": [
    "class get_feature_name(BaseEstimator, TransformerMixin):\n",
    "    \"\"\"create column with family name  and title of each passenger\"\"\"\n",
    "    def __init__(self, title:bool=True,family:bool=True):\n",
    "        self.title = title\n",
    "        self.family = family\n",
    "        pass\n",
    "    \n",
    "    def fit(self, x:pd.DataFrame, y:pd.Series=None):\n",
    "        return self\n",
    "    \n",
    "    def transform(self, x:pd.DataFrame, y:pd.Series=None):\n",
    "        df = x.copy()\n",
    "        try:\n",
    "            if self.title:\n",
    "                df['Name_title'] = df['Name'].apply(lambda x: x.split(\",\")[1]).apply(lambda x: x.split(\".\")[0])\n",
    "            \n",
    "            if self.family:\n",
    "                df['Name_family'] = df['Name'].apply(lambda x: x.split(\",\")[0])\n",
    "            \n",
    "        except:\n",
    "            print('erro em get_name')\n",
    "        return df\n",
    "    \n",
    "class dtype_fix(BaseEstimator,TransformerMixin):\n",
    "    \"\"\" corrects dtype of all initial features\"\"\"\n",
    "    \n",
    "    def __init__(self, Pclass_type=True):\n",
    "        self.Pclass_type=Pclass_type\n",
    "        pass\n",
    "    \n",
    "    def fit(self, x:pd.DataFrame, y:pd.Series=None):\n",
    "        return self\n",
    "    \n",
    "    def transform(self, x:pd.DataFrame,y:pd.Series=None):\n",
    "        df=x.copy()\n",
    "        try:\n",
    "            if self.Pclass_type:\n",
    "                df['Pclass']=df['Pclass'].astype('O')            \n",
    "            df['Fare']=df['Fare'].astype('float')\n",
    "            df['Sex']=df['Sex'].astype('object')\n",
    "            df['Age']=df['Age'].astype('float')\n",
    "            df['Cabin']=df['Cabin'].astype('object')\n",
    "            df['Embarked']=df['Embarked'].astype('object')\n",
    "        except:\n",
    "            print('erro em dtype_fix')\n",
    "        return df\n",
    "\n",
    "class Mapper(BaseEstimator, TransformerMixin):\n",
    "    \"\"\"Create column with first character of the first Cabin and how many cabins\"\"\"\n",
    "    \n",
    "    def __init__(self,features:list=['Sex'],map_dicts=[{'male':1,'female':0}]):\n",
    "        \n",
    "        if not isinstance(map_dicts,list):\n",
    "            raise ValueError('map_dicts should be a list of dictionarys')\n",
    "            \n",
    "        self.features = features\n",
    "        self.map_dicts = map_dicts\n",
    "        pass\n",
    "    \n",
    "    def fit(self, x:pd.DataFrame ,y:pd.Series=None):\n",
    "        return self\n",
    "    \n",
    "    def transform(self,x:pd.DataFrame):\n",
    "        x = x.copy()\n",
    "        \n",
    "        for i,feature in enumerate(self.features):\n",
    "            x[feature] = x[feature].map(self.map_dicts[i])\n",
    "        return x\n",
    "\n",
    "class Cabin_code(BaseEstimator, TransformerMixin):\n",
    "    \"\"\"Create column with first character of the first Cabin and how many cabins\"\"\"\n",
    "    \n",
    "    def __init__(self,code=True,size=True):\n",
    "        self.code=code\n",
    "        self.size=size\n",
    "        pass\n",
    "        \n",
    "    def fit(self, x:pd.DataFrame ,y:pd.Series=None):\n",
    "        return self\n",
    "    \n",
    "    def transform(self,x:pd.DataFrame,y:pd.Series=None):\n",
    "        x = x.copy()\n",
    "        try:\n",
    "            if self.code:\n",
    "                x['Cabin_code'] = x['Cabin'].apply(lambda x: x[0])\n",
    "            if self.size:\n",
    "                x['Cabin_Size'] = x['Cabin'].apply(lambda x: len(x.split(\" \")))\n",
    "        except Exception as err:\n",
    "            print('erro no Cabin_code')\n",
    "            print(err)\n",
    "        return x"
   ]
  },
  {
   "cell_type": "code",
   "execution_count": 11,
   "id": "a676b7b4-7f8a-408e-b96b-b59010a648af",
   "metadata": {},
   "outputs": [
    {
     "name": "stdout",
     "output_type": "stream",
     "text": [
      "accuracy of 0.8315 and standard deviation of 0.0413\n"
     ]
    }
   ],
   "source": [
    "#dict for enconding \"Sex\"\n",
    "sex_map = {'male':1,\n",
    "           'female':0}\n",
    "\n",
    "# pipeline for imputing missing values\n",
    "impute_pipe = Pipeline([\n",
    "   ('Fix dtypes',dtype_fix(Pclass_type=True)),\n",
    "   ('Cabin imputer',CategoricalImputer(variables=['Cabin'], fill_value='C')),\n",
    "   ('Embarked imputer',CategoricalImputer(variables=['Embarked'], imputation_method='frequent')),\n",
    "   ('Numeric imputer', MeanMedianImputer(variables=['Age','Fare'],imputation_method='median'))\n",
    "                    ])\n",
    "\n",
    "# pipeline for extracting features\n",
    "ext_pp = make_pipeline(\n",
    "    get_feature_name(family=True, title=True),\n",
    "    Cabin_code(code=True,size=True)\n",
    "                    )\n",
    "# pipeline for categorical features processing\n",
    "onehot_ct = make_column_transformer((OneHotEncoder(handle_unknown='ignore'),\n",
    "                                     make_column_selector(dtype_include='object')),\n",
    "                                   remainder='drop')\n",
    "cat_pp = Pipeline([\n",
    "    ('Binary encode Sex',Mapper(features=['Sex'],map_dict = sex_map)),\n",
    "    ('OneHot', onehot_ct)\n",
    "                ])\n",
    "\n",
    "seed=42\n",
    "#### MODELS\n",
    "lr = LogisticRegression(random_state=seed)\n",
    "rf = RandomForestClassifier(random_state=seed)\n",
    "gbc = GradientBoostingClassifier(random_state=seed)\n",
    "vt = VotingClassifier(voting='hard',estimators=[('lr', lr), ('rf', rf), ('gbc', gbc)])\n",
    "\n",
    "# final pipeline\n",
    "exp_pipe = Pipeline([\n",
    "    ('Impute missing values',impute_pipe),\n",
    "    ('Extract features',ext_pp), \n",
    "    ('Drop bad features',DropFeatures(features_to_drop=['Name','Cabin','Ticket'])), \n",
    "    ('Categorical Preprocess', cat_pp),\n",
    "                      ])\n",
    "\n",
    "final_pipe = make_pipeline(exp_pipe,\n",
    "                         vt)\n",
    "# cross validation\n",
    "get_cross_score(final_pipe,cv=5)\n",
    "\n",
    "x_1 =  exp_pipe.fit_transform(x)"
   ]
  },
  {
   "cell_type": "code",
   "execution_count": 331,
   "id": "8e0af666-7479-4e9a-bc8e-40fc53a71fdc",
   "metadata": {
    "tags": []
   },
   "outputs": [
    {
     "name": "stdout",
     "output_type": "stream",
     "text": [
      "train_scores_mean:  0.8365168539325843 \n",
      "test_scores_mean 0.8126169104262132\n"
     ]
    },
    {
     "data": {
      "text/plain": [
       "<module 'matplotlib.pyplot' from 'C:\\\\Users\\\\ticom\\\\anaconda3\\\\lib\\\\site-packages\\\\matplotlib\\\\pyplot.py'>"
      ]
     },
     "execution_count": 331,
     "metadata": {},
     "output_type": "execute_result"
    },
    {
     "data": {
      "image/png": "[encoded data removed]",
      "text/plain": [
       "<Figure size 1440x720 with 1 Axes>"
      ]
     },
     "metadata": {
      "needs_background": "light"
     },
     "output_type": "display_data"
    }
   ],
   "source": [
    "lgbm = LGBMClassifier(random_state=seed, n_estimators=100)\n",
    "\n",
    "title = \"Learning Curves\"\n",
    "plot_learning_curve(lgbm, title, x_1, y, ylim=(0.75, 0.9),\n",
    "                    cv=5, n_jobs=-1)"
   ]
  },
  {
   "cell_type": "markdown",
   "id": "a20ccb0a-9b90-4db6-b807-1bc6817b568d",
   "metadata": {},
   "source": [
    "Best Result so far: Acc = 0.80382 on the leaderboard"
   ]
  },
  {
   "cell_type": "code",
   "execution_count": 335,
   "id": "e6de896e-ea94-4500-a303-41ce12243875",
   "metadata": {},
   "outputs": [],
   "source": [
    "make_sub(final_pipe, 'best_score', save_to_drive=True)"
   ]
  }
 ],
 "metadata": {
  "kernelspec": {
   "display_name": "Python 3 (ipykernel)",
   "language": "python",
   "name": "python3"
  },
  "language_info": {
   "codemirror_mode": {
    "name": "ipython",
    "version": 3
   },
   "file_extension": ".py",
   "mimetype": "text/x-python",
   "name": "python",
   "nbconvert_exporter": "python",
   "pygments_lexer": "ipython3",
   "version": "3.8.10"
  },
  "toc-showtags": true
 },
 "nbformat": 4,
 "nbformat_minor": 5
}
