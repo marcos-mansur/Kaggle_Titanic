{
 "cells": [
  {
   "cell_type": "code",
   "execution_count": 385,
   "id": "832c7206",
   "metadata": {},
   "outputs": [],
   "source": [
    "import pandas as pd \n",
    "import numpy as np\n",
    "import re\n",
    "\n",
    "from sklearn.model_selection import train_test_split\n",
    "from sklearn.base import BaseEstimator, TransformerMixin\n",
    "from sklearn.preprocessing import FunctionTransformer, StandardScaler\n",
    "from sklearn.compose import ColumnTransformer, make_column_selector, make_column_transformer\n",
    "from sklearn.pipeline import make_pipeline, Pipeline\n",
    "from sklearn.ensemble import RandomForestClassifier\n",
    "\n",
    "# Feature engineer \n",
    "from feature_engine.selection import DropFeatures\n",
    "from feature_engine.encoding import OneHotEncoder as OneHotFE\n",
    "from feature_engine.encoding import RareLabelEncoder\n",
    "from sklearn.preprocessing import OneHotEncoder as OneHotSK\n",
    "from feature_engine.outliers import Winsorizer, ArbitraryOutlierCapper\n",
    "from feature_engine.imputation import (AddMissingIndicator, MeanMedianImputer, CategoricalImputer)\n",
    "from sklearn.impute import SimpleImputer\n",
    "\n",
    "# Model_Selection\n",
    "from sklearn.model_selection import train_test_split, cross_val_score, KFold, GridSearchCV"
   ]
  },
  {
   "cell_type": "markdown",
   "id": "18f4bb1e",
   "metadata": {},
   "source": [
    "# Load the Data"
   ]
  },
  {
   "cell_type": "code",
   "execution_count": 1063,
   "id": "e910e71b",
   "metadata": {},
   "outputs": [],
   "source": [
    "df = pd.read_csv(\"Dados/train.csv\",index_col=0)\n",
    "df_pred = pd.read_csv(\"Dados/test.csv\",index_col=0)\n",
    "\n",
    "x = df.drop('Survived',axis=1)\n",
    "y = df.Survived\n",
    "\n",
    "x_train, x_test, y_train, y_test = train_test_split(x,y,test_size=0.3, random_state = 0)\n",
    "\n",
    "num_var = ['Pclass','Age','SibSp','Parch','Fare','Cabin_Size']\n",
    "cat_var = ['Sex','Cabin_code','Embarked','Name_Title', 'Name_family']\n",
    "target = ['Survived']"
   ]
  },
  {
   "cell_type": "code",
   "execution_count": 517,
   "id": "200d0a71",
   "metadata": {},
   "outputs": [
    {
     "data": {
      "text/plain": [
       "Survived      0\n",
       "Pclass        0\n",
       "Name          0\n",
       "Sex           0\n",
       "Age         177\n",
       "SibSp         0\n",
       "Parch         0\n",
       "Ticket        0\n",
       "Fare          0\n",
       "Cabin       687\n",
       "Embarked      2\n",
       "dtype: int64"
      ]
     },
     "execution_count": 517,
     "metadata": {},
     "output_type": "execute_result"
    }
   ],
   "source": [
    "df.isna().sum()"
   ]
  },
  {
   "cell_type": "markdown",
   "id": "c0107966",
   "metadata": {},
   "source": [
    "# Custom Transformers"
   ]
  },
  {
   "cell_type": "code",
   "execution_count": 252,
   "id": "c2f5679c",
   "metadata": {},
   "outputs": [],
   "source": [
    "class Fill_na_transf(BaseEstimator, TransformerMixin):\n",
    "    \"\"\"Fills NA with fill_na value\"\"\"\n",
    "    \n",
    "    def __init__(self,fill_na):\n",
    "        self.fill_na = fill_na\n",
    "    \n",
    "    def fit(self, x:pd.DataFrame ,y:pd.Series=None):\n",
    "        return self\n",
    "    \n",
    "    def transform(self,x:pd.DataFrame):\n",
    "        x = x.copy()\n",
    "        x = x.replace(np.nan, self.fill_na)\n",
    "        return x\n",
    "\n",
    "    \n",
    "class dtype_fix(BaseEstimator,TransformerMixin):\n",
    "    \"\"\" corrects dtype of all initial features\"\"\"\n",
    "    \n",
    "    def __init__(self):\n",
    "        pass\n",
    "    \n",
    "    def fit(self, x:pd.DataFrame=None, y:pd.Series=None):\n",
    "        return self\n",
    "    \n",
    "    def transform(self, x:pd.DataFrame,y:pd.Series=None):\n",
    "        df=df.copy()\n",
    "        try:\n",
    "            df['Pclass']=df['Pclass'].astype('object')\n",
    "            df['Sex']=df['Sex'].astype('object')\n",
    "            df['Age']=df['Age'].astype('float')\n",
    "            df['SibSp']=df['SibSp'].astype('int')\n",
    "            df['Parch']=df['Parch'].astype('int')\n",
    "            df['Fare']=df['Fare'].astype('float')\n",
    "            df['Cabin']=df['Cabin'].astype('object')\n",
    "            df['Embarked']=df['Embarked'].astype('object')\n",
    "        except:\n",
    "            print('erro em dtype_fix')\n",
    "        return df"
   ]
  },
  {
   "cell_type": "code",
   "execution_count": 323,
   "id": "996b907d",
   "metadata": {},
   "outputs": [],
   "source": [
    "def get_cross_score(pipe,cv=5):\n",
    "    score = cross_val_score(pipe, x_train, y_train, cv=cv)\n",
    "    print(f'accuracy of {np.round(score.mean(),4)} and standard deviation of {np.round(score.std(),4)}')"
   ]
  },
  {
   "cell_type": "markdown",
   "id": "86bab4b2",
   "metadata": {},
   "source": [
    "# 1. Baseline"
   ]
  },
  {
   "cell_type": "code",
   "execution_count": 12,
   "id": "434fa18d",
   "metadata": {},
   "outputs": [
    {
     "data": {
      "text/html": [
       "<div>\n",
       "<style scoped>\n",
       "    .dataframe tbody tr th:only-of-type {\n",
       "        vertical-align: middle;\n",
       "    }\n",
       "\n",
       "    .dataframe tbody tr th {\n",
       "        vertical-align: top;\n",
       "    }\n",
       "\n",
       "    .dataframe thead th {\n",
       "        text-align: right;\n",
       "    }\n",
       "</style>\n",
       "<table border=\"1\" class=\"dataframe\">\n",
       "  <thead>\n",
       "    <tr style=\"text-align: right;\">\n",
       "      <th></th>\n",
       "      <th>Pclass</th>\n",
       "      <th>Name</th>\n",
       "      <th>Sex</th>\n",
       "      <th>Age</th>\n",
       "      <th>SibSp</th>\n",
       "      <th>Parch</th>\n",
       "      <th>Ticket</th>\n",
       "      <th>Fare</th>\n",
       "      <th>Cabin</th>\n",
       "      <th>Embarked</th>\n",
       "    </tr>\n",
       "    <tr>\n",
       "      <th>PassengerId</th>\n",
       "      <th></th>\n",
       "      <th></th>\n",
       "      <th></th>\n",
       "      <th></th>\n",
       "      <th></th>\n",
       "      <th></th>\n",
       "      <th></th>\n",
       "      <th></th>\n",
       "      <th></th>\n",
       "      <th></th>\n",
       "    </tr>\n",
       "  </thead>\n",
       "  <tbody>\n",
       "    <tr>\n",
       "      <th>446</th>\n",
       "      <td>1</td>\n",
       "      <td>Dodge, Master. Washington</td>\n",
       "      <td>male</td>\n",
       "      <td>4.0</td>\n",
       "      <td>0</td>\n",
       "      <td>2</td>\n",
       "      <td>33638</td>\n",
       "      <td>81.8583</td>\n",
       "      <td>A34</td>\n",
       "      <td>S</td>\n",
       "    </tr>\n",
       "    <tr>\n",
       "      <th>651</th>\n",
       "      <td>3</td>\n",
       "      <td>Mitkoff, Mr. Mito</td>\n",
       "      <td>male</td>\n",
       "      <td>NaN</td>\n",
       "      <td>0</td>\n",
       "      <td>0</td>\n",
       "      <td>349221</td>\n",
       "      <td>7.8958</td>\n",
       "      <td>NaN</td>\n",
       "      <td>S</td>\n",
       "    </tr>\n",
       "    <tr>\n",
       "      <th>173</th>\n",
       "      <td>3</td>\n",
       "      <td>Johnson, Miss. Eleanor Ileen</td>\n",
       "      <td>female</td>\n",
       "      <td>1.0</td>\n",
       "      <td>1</td>\n",
       "      <td>1</td>\n",
       "      <td>347742</td>\n",
       "      <td>11.1333</td>\n",
       "      <td>NaN</td>\n",
       "      <td>S</td>\n",
       "    </tr>\n",
       "    <tr>\n",
       "      <th>451</th>\n",
       "      <td>2</td>\n",
       "      <td>West, Mr. Edwy Arthur</td>\n",
       "      <td>male</td>\n",
       "      <td>36.0</td>\n",
       "      <td>1</td>\n",
       "      <td>2</td>\n",
       "      <td>C.A. 34651</td>\n",
       "      <td>27.7500</td>\n",
       "      <td>NaN</td>\n",
       "      <td>S</td>\n",
       "    </tr>\n",
       "    <tr>\n",
       "      <th>315</th>\n",
       "      <td>2</td>\n",
       "      <td>Hart, Mr. Benjamin</td>\n",
       "      <td>male</td>\n",
       "      <td>43.0</td>\n",
       "      <td>1</td>\n",
       "      <td>1</td>\n",
       "      <td>F.C.C. 13529</td>\n",
       "      <td>26.2500</td>\n",
       "      <td>NaN</td>\n",
       "      <td>S</td>\n",
       "    </tr>\n",
       "  </tbody>\n",
       "</table>\n",
       "</div>"
      ],
      "text/plain": [
       "             Pclass                          Name     Sex   Age  SibSp  Parch  \\\n",
       "PassengerId                                                                     \n",
       "446               1     Dodge, Master. Washington    male   4.0      0      2   \n",
       "651               3             Mitkoff, Mr. Mito    male   NaN      0      0   \n",
       "173               3  Johnson, Miss. Eleanor Ileen  female   1.0      1      1   \n",
       "451               2         West, Mr. Edwy Arthur    male  36.0      1      2   \n",
       "315               2            Hart, Mr. Benjamin    male  43.0      1      1   \n",
       "\n",
       "                   Ticket     Fare Cabin Embarked  \n",
       "PassengerId                                        \n",
       "446                 33638  81.8583   A34        S  \n",
       "651                349221   7.8958   NaN        S  \n",
       "173                347742  11.1333   NaN        S  \n",
       "451            C.A. 34651  27.7500   NaN        S  \n",
       "315          F.C.C. 13529  26.2500   NaN        S  "
      ]
     },
     "execution_count": 12,
     "metadata": {},
     "output_type": "execute_result"
    }
   ],
   "source": [
    "x_train.head()"
   ]
  },
  {
   "cell_type": "code",
   "execution_count": 522,
   "id": "30878c73",
   "metadata": {},
   "outputs": [
    {
     "name": "stdout",
     "output_type": "stream",
     "text": [
      "accuracy of 0.6565 and standard deviation of 0.0223\n"
     ]
    }
   ],
   "source": [
    "# baseline simple pipeline\n",
    "pipe_base = make_pipeline(\n",
    "                        MeanMedianImputer(imputation_method='mean', variables=['Age']),\n",
    "                        DropFeatures(features_to_drop=['Name','Sex','Ticket','Cabin','Embarked']),\n",
    "                        RandomForestClassifier(random_state=0))\n",
    "get_cross_score(pipe_base,5)"
   ]
  },
  {
   "cell_type": "code",
   "execution_count": 1109,
   "id": "1a7a3fcc",
   "metadata": {},
   "outputs": [
    {
     "name": "stdout",
     "output_type": "stream",
     "text": [
      "accuracy of 0.6565 and standard deviation of 0.0223\n"
     ]
    }
   ],
   "source": [
    "# baseline simple pipeline\n",
    "pipe_base = make_pipeline(DropFeatures(features_to_drop=['Name','Sex','Ticket','Cabin','Embarked']),\n",
    "                          SimpleImputer(missing_values=np.nan, strategy='mean'),\n",
    "                          RandomForestClassifier(random_state=0))\n",
    "get_cross_score(pipe_base,5)"
   ]
  },
  {
   "cell_type": "markdown",
   "id": "a2958c9d",
   "metadata": {},
   "source": [
    "So we have our baseline model and score now."
   ]
  },
  {
   "cell_type": "markdown",
   "id": "f56f47ed",
   "metadata": {},
   "source": [
    "set_config(display='diagram') shows pipelines structures in HTML"
   ]
  },
  {
   "cell_type": "code",
   "execution_count": 1110,
   "id": "33427ba8",
   "metadata": {},
   "outputs": [
    {
     "data": {
      "text/html": [
       "<style>#sk-616ff731-6b7f-47b8-8ec7-7b57c58abfd4 {color: black;background-color: white;}#sk-616ff731-6b7f-47b8-8ec7-7b57c58abfd4 pre{padding: 0;}#sk-616ff731-6b7f-47b8-8ec7-7b57c58abfd4 div.sk-toggleable {background-color: white;}#sk-616ff731-6b7f-47b8-8ec7-7b57c58abfd4 label.sk-toggleable__label {cursor: pointer;display: block;width: 100%;margin-bottom: 0;padding: 0.2em 0.3em;box-sizing: border-box;text-align: center;}#sk-616ff731-6b7f-47b8-8ec7-7b57c58abfd4 div.sk-toggleable__content {max-height: 0;max-width: 0;overflow: hidden;text-align: left;background-color: #f0f8ff;}#sk-616ff731-6b7f-47b8-8ec7-7b57c58abfd4 div.sk-toggleable__content pre {margin: 0.2em;color: black;border-radius: 0.25em;background-color: #f0f8ff;}#sk-616ff731-6b7f-47b8-8ec7-7b57c58abfd4 input.sk-toggleable__control:checked~div.sk-toggleable__content {max-height: 200px;max-width: 100%;overflow: auto;}#sk-616ff731-6b7f-47b8-8ec7-7b57c58abfd4 div.sk-estimator input.sk-toggleable__control:checked~label.sk-toggleable__label {background-color: #d4ebff;}#sk-616ff731-6b7f-47b8-8ec7-7b57c58abfd4 div.sk-label input.sk-toggleable__control:checked~label.sk-toggleable__label {background-color: #d4ebff;}#sk-616ff731-6b7f-47b8-8ec7-7b57c58abfd4 input.sk-hidden--visually {border: 0;clip: rect(1px 1px 1px 1px);clip: rect(1px, 1px, 1px, 1px);height: 1px;margin: -1px;overflow: hidden;padding: 0;position: absolute;width: 1px;}#sk-616ff731-6b7f-47b8-8ec7-7b57c58abfd4 div.sk-estimator {font-family: monospace;background-color: #f0f8ff;margin: 0.25em 0.25em;border: 1px dotted black;border-radius: 0.25em;box-sizing: border-box;}#sk-616ff731-6b7f-47b8-8ec7-7b57c58abfd4 div.sk-estimator:hover {background-color: #d4ebff;}#sk-616ff731-6b7f-47b8-8ec7-7b57c58abfd4 div.sk-parallel-item::after {content: \"\";width: 100%;border-bottom: 1px solid gray;flex-grow: 1;}#sk-616ff731-6b7f-47b8-8ec7-7b57c58abfd4 div.sk-label:hover label.sk-toggleable__label {background-color: #d4ebff;}#sk-616ff731-6b7f-47b8-8ec7-7b57c58abfd4 div.sk-serial::before {content: \"\";position: absolute;border-left: 1px solid gray;box-sizing: border-box;top: 2em;bottom: 0;left: 50%;}#sk-616ff731-6b7f-47b8-8ec7-7b57c58abfd4 div.sk-serial {display: flex;flex-direction: column;align-items: center;background-color: white;}#sk-616ff731-6b7f-47b8-8ec7-7b57c58abfd4 div.sk-item {z-index: 1;}#sk-616ff731-6b7f-47b8-8ec7-7b57c58abfd4 div.sk-parallel {display: flex;align-items: stretch;justify-content: center;background-color: white;}#sk-616ff731-6b7f-47b8-8ec7-7b57c58abfd4 div.sk-parallel-item {display: flex;flex-direction: column;position: relative;background-color: white;}#sk-616ff731-6b7f-47b8-8ec7-7b57c58abfd4 div.sk-parallel-item:first-child::after {align-self: flex-end;width: 50%;}#sk-616ff731-6b7f-47b8-8ec7-7b57c58abfd4 div.sk-parallel-item:last-child::after {align-self: flex-start;width: 50%;}#sk-616ff731-6b7f-47b8-8ec7-7b57c58abfd4 div.sk-parallel-item:only-child::after {width: 0;}#sk-616ff731-6b7f-47b8-8ec7-7b57c58abfd4 div.sk-dashed-wrapped {border: 1px dashed gray;margin: 0.2em;box-sizing: border-box;padding-bottom: 0.1em;background-color: white;position: relative;}#sk-616ff731-6b7f-47b8-8ec7-7b57c58abfd4 div.sk-label label {font-family: monospace;font-weight: bold;background-color: white;display: inline-block;line-height: 1.2em;}#sk-616ff731-6b7f-47b8-8ec7-7b57c58abfd4 div.sk-label-container {position: relative;z-index: 2;text-align: center;}#sk-616ff731-6b7f-47b8-8ec7-7b57c58abfd4 div.sk-container {display: inline-block;position: relative;}</style><div id=\"sk-616ff731-6b7f-47b8-8ec7-7b57c58abfd4\" class\"sk-top-container\"><div class=\"sk-container\"><div class=\"sk-item sk-dashed-wrapped\"><div class=\"sk-label-container\"><div class=\"sk-label sk-toggleable\"><input class=\"sk-toggleable__control sk-hidden--visually\" id=\"fa5f6296-ff1b-45f1-8f64-4b2f907126e2\" type=\"checkbox\" ><label class=\"sk-toggleable__label\" for=\"fa5f6296-ff1b-45f1-8f64-4b2f907126e2\">Pipeline</label><div class=\"sk-toggleable__content\"><pre>Pipeline(steps=[('dropfeatures',\n",
       "                 DropFeatures(features_to_drop=['Name', 'Sex', 'Ticket',\n",
       "                                                'Cabin', 'Embarked'])),\n",
       "                ('simpleimputer', SimpleImputer()),\n",
       "                ('randomforestclassifier',\n",
       "                 RandomForestClassifier(random_state=0))])</pre></div></div></div><div class=\"sk-serial\"><div class=\"sk-item\"><div class=\"sk-estimator sk-toggleable\"><input class=\"sk-toggleable__control sk-hidden--visually\" id=\"fa5c0705-97c6-446d-8c68-8a25f565b5bb\" type=\"checkbox\" ><label class=\"sk-toggleable__label\" for=\"fa5c0705-97c6-446d-8c68-8a25f565b5bb\">DropFeatures</label><div class=\"sk-toggleable__content\"><pre>DropFeatures(features_to_drop=['Name', 'Sex', 'Ticket', 'Cabin', 'Embarked'])</pre></div></div></div><div class=\"sk-item\"><div class=\"sk-estimator sk-toggleable\"><input class=\"sk-toggleable__control sk-hidden--visually\" id=\"6f7fc070-3cb3-4bc5-94d3-f59137c7c730\" type=\"checkbox\" ><label class=\"sk-toggleable__label\" for=\"6f7fc070-3cb3-4bc5-94d3-f59137c7c730\">SimpleImputer</label><div class=\"sk-toggleable__content\"><pre>SimpleImputer()</pre></div></div></div><div class=\"sk-item\"><div class=\"sk-estimator sk-toggleable\"><input class=\"sk-toggleable__control sk-hidden--visually\" id=\"b9386d64-fa11-4e2c-98b4-6e0f8795ad9a\" type=\"checkbox\" ><label class=\"sk-toggleable__label\" for=\"b9386d64-fa11-4e2c-98b4-6e0f8795ad9a\">RandomForestClassifier</label><div class=\"sk-toggleable__content\"><pre>RandomForestClassifier(random_state=0)</pre></div></div></div></div></div></div></div>"
      ],
      "text/plain": [
       "Pipeline(steps=[('dropfeatures',\n",
       "                 DropFeatures(features_to_drop=['Name', 'Sex', 'Ticket',\n",
       "                                                'Cabin', 'Embarked'])),\n",
       "                ('simpleimputer', SimpleImputer()),\n",
       "                ('randomforestclassifier',\n",
       "                 RandomForestClassifier(random_state=0))])"
      ]
     },
     "execution_count": 1110,
     "metadata": {},
     "output_type": "execute_result"
    }
   ],
   "source": [
    "from sklearn import set_config\n",
    "\n",
    "set_config(display='diagram')\n",
    "pipe_base"
   ]
  },
  {
   "cell_type": "markdown",
   "id": "db394aae",
   "metadata": {},
   "source": [
    "# 2. Feature Engineer"
   ]
  },
  {
   "cell_type": "markdown",
   "id": "04674d6f",
   "metadata": {},
   "source": [
    "## 2.1 \"Age\"\n",
    "\n",
    "There's only one thing to be done in Age: impute missing values. Let's check which imputing strategy is the best."
   ]
  },
  {
   "cell_type": "code",
   "execution_count": 1064,
   "id": "cbc8b65d",
   "metadata": {},
   "outputs": [
    {
     "name": "stdout",
     "output_type": "stream",
     "text": [
      "accuracy of 0.6549 and standard deviation of 0.0084\n"
     ]
    }
   ],
   "source": [
    "# baseline simple pipeline\n",
    "pipe_age = make_pipeline(DropFeatures(features_to_drop=['Name','Sex','Ticket','Cabin','Embarked']),\n",
    "                          SimpleImputer(missing_values=np.nan, strategy='median'),\n",
    "                          RandomForestClassifier(random_state=0))\n",
    "get_cross_score(pipe_age,5)"
   ]
  },
  {
   "cell_type": "markdown",
   "id": "4ee0a87c",
   "metadata": {},
   "source": [
    "Imputing with median lowers very slightly the acc but also lowers the OOF std."
   ]
  },
  {
   "cell_type": "markdown",
   "id": "cd6fbe13",
   "metadata": {},
   "source": [
    "Sklearn SimpleImputer imputes each feature with it's mean, meadian or mode. We can create a custom imputer to impute the mean of more specific groups than just the whole feature. \n",
    "\n",
    "In the following example we create a custom imputer to impute missing values for age based on the mean of 2 grouped features. Unless we discretize the numerical features, we'll have to pick categorical features to group by. Pclass and sex both have big predictive impact so it seems logical to group by those two."
   ]
  },
  {
   "cell_type": "code",
   "execution_count": 1091,
   "id": "546415fd",
   "metadata": {},
   "outputs": [],
   "source": [
    "class GroupImputer(BaseEstimator, TransformerMixin):\n",
    "    \"\"\"Impute missing values with the mean of the group\"\"\"\n",
    "    def __init__(self,group:list=['Pclass','Sex']):\n",
    "        super().__init__()\n",
    "        self.group = group\n",
    "        self.age_means_ = {}\n",
    "\n",
    "    def fit(self, x:pd.DataFrame, y:pd.Series=None):\n",
    "        self.age_means_ = x.groupby(self.group).Age.mean()\n",
    "        return self\n",
    "\n",
    "    def transform(self, x:pd.DataFrame, y:pd.Series=None):\n",
    "        x = x.copy()\n",
    "        for key, value in self.age_means_.items():\n",
    "            x.loc[((np.isnan(x[\"Age\"])) & (x[self.group[0]] == key[0]) & (x[self.group[1]] == key[1])), 'Age'] = value\n",
    "\n",
    "        return x"
   ]
  },
  {
   "cell_type": "code",
   "execution_count": 1096,
   "id": "d89ec6d8",
   "metadata": {},
   "outputs": [
    {
     "data": {
      "text/plain": [
       "Pclass  Sex   \n",
       "1       female    34.934426\n",
       "        male      40.772267\n",
       "2       female    29.405660\n",
       "        male      29.504521\n",
       "3       female    20.979508\n",
       "        male      27.019553\n",
       "Name: Age, dtype: float64"
      ]
     },
     "execution_count": 1096,
     "metadata": {},
     "output_type": "execute_result"
    }
   ],
   "source": [
    "gp = GroupImputer(group=['Pclass','Sex'])\n",
    "x_age = gp.fit_transform(x_train_)\n",
    "gp.age_means_"
   ]
  },
  {
   "cell_type": "code",
   "execution_count": 1098,
   "id": "4386ec49",
   "metadata": {},
   "outputs": [
    {
     "name": "stdout",
     "output_type": "stream",
     "text": [
      "accuracy of 0.6917 and standard deviation of 0.026\n"
     ]
    }
   ],
   "source": [
    "pipe_age = make_pipeline(GroupImputer(group=['Pclass','Sex']),\n",
    "                        DropFeatures(features_to_drop=['Name','Sex','Ticket','Cabin','Embarked']),\n",
    "                        RandomForestClassifier(random_state=0))\n",
    "get_cross_score(pipe_age,5)"
   ]
  },
  {
   "cell_type": "markdown",
   "id": "cd9d5ddf",
   "metadata": {},
   "source": [
    "There was a big improvement in acc by imputing the values for Age by Pclass and Sex goupby."
   ]
  },
  {
   "cell_type": "markdown",
   "id": "759b7231",
   "metadata": {},
   "source": [
    "## 2.2 \"Fare\"\n",
    "\n",
    "Tree algorithms usually doesn't benefit much from scaling numerical features but let's try it anyway."
   ]
  },
  {
   "cell_type": "code",
   "execution_count": 1158,
   "id": "1ccdfccb",
   "metadata": {},
   "outputs": [
    {
     "name": "stdout",
     "output_type": "stream",
     "text": [
      "accuracy of 0.6597 and standard deviation of 0.0214\n"
     ]
    }
   ],
   "source": [
    "pipe_fare = make_pipeline(DropFeatures(features_to_drop=['Name','Sex','Ticket','Cabin','Embarked']),\n",
    "                          MeanMedianImputer(imputation_method='mean', variables=['Age','Fare']),\n",
    "                          StandardScaler(),\n",
    "                          RandomForestClassifier(random_state=0))\n",
    "get_cross_score(pipe_fare,5)"
   ]
  },
  {
   "cell_type": "markdown",
   "id": "12b3ce2e",
   "metadata": {},
   "source": [
    "There was a slight improvement in OOF acc but std also increased."
   ]
  },
  {
   "cell_type": "markdown",
   "id": "77c688d6",
   "metadata": {},
   "source": [
    "# 2.3 \"Name\""
   ]
  },
  {
   "cell_type": "markdown",
   "id": "e88a9bce",
   "metadata": {},
   "source": [
    "Extract Title and Family name from feature \"Name\""
   ]
  },
  {
   "cell_type": "code",
   "execution_count": 1100,
   "id": "f12b8f9c",
   "metadata": {},
   "outputs": [
    {
     "data": {
      "text/html": [
       "<div>\n",
       "<style scoped>\n",
       "    .dataframe tbody tr th:only-of-type {\n",
       "        vertical-align: middle;\n",
       "    }\n",
       "\n",
       "    .dataframe tbody tr th {\n",
       "        vertical-align: top;\n",
       "    }\n",
       "\n",
       "    .dataframe thead th {\n",
       "        text-align: right;\n",
       "    }\n",
       "</style>\n",
       "<table border=\"1\" class=\"dataframe\">\n",
       "  <thead>\n",
       "    <tr style=\"text-align: right;\">\n",
       "      <th></th>\n",
       "      <th>Pclass</th>\n",
       "      <th>Name</th>\n",
       "      <th>Sex</th>\n",
       "      <th>Age</th>\n",
       "      <th>SibSp</th>\n",
       "      <th>Parch</th>\n",
       "      <th>Ticket</th>\n",
       "      <th>Fare</th>\n",
       "      <th>Cabin</th>\n",
       "      <th>Embarked</th>\n",
       "      <th>Name_title</th>\n",
       "      <th>Name_family</th>\n",
       "    </tr>\n",
       "    <tr>\n",
       "      <th>PassengerId</th>\n",
       "      <th></th>\n",
       "      <th></th>\n",
       "      <th></th>\n",
       "      <th></th>\n",
       "      <th></th>\n",
       "      <th></th>\n",
       "      <th></th>\n",
       "      <th></th>\n",
       "      <th></th>\n",
       "      <th></th>\n",
       "      <th></th>\n",
       "      <th></th>\n",
       "    </tr>\n",
       "  </thead>\n",
       "  <tbody>\n",
       "    <tr>\n",
       "      <th>858</th>\n",
       "      <td>1</td>\n",
       "      <td>Daly, Mr. Peter Denis</td>\n",
       "      <td>male</td>\n",
       "      <td>51.0</td>\n",
       "      <td>0</td>\n",
       "      <td>0</td>\n",
       "      <td>113055</td>\n",
       "      <td>26.5500</td>\n",
       "      <td>E17</td>\n",
       "      <td>S</td>\n",
       "      <td>Mr</td>\n",
       "      <td>Daly</td>\n",
       "    </tr>\n",
       "    <tr>\n",
       "      <th>53</th>\n",
       "      <td>1</td>\n",
       "      <td>Harper, Mrs. Henry Sleeper (Myna Haxtun)</td>\n",
       "      <td>female</td>\n",
       "      <td>49.0</td>\n",
       "      <td>1</td>\n",
       "      <td>0</td>\n",
       "      <td>PC 17572</td>\n",
       "      <td>76.7292</td>\n",
       "      <td>D33</td>\n",
       "      <td>C</td>\n",
       "      <td>Mrs</td>\n",
       "      <td>Harper</td>\n",
       "    </tr>\n",
       "    <tr>\n",
       "      <th>387</th>\n",
       "      <td>3</td>\n",
       "      <td>Goodwin, Master. Sidney Leonard</td>\n",
       "      <td>male</td>\n",
       "      <td>1.0</td>\n",
       "      <td>5</td>\n",
       "      <td>2</td>\n",
       "      <td>CA 2144</td>\n",
       "      <td>46.9000</td>\n",
       "      <td>NaN</td>\n",
       "      <td>S</td>\n",
       "      <td>Master</td>\n",
       "      <td>Goodwin</td>\n",
       "    </tr>\n",
       "    <tr>\n",
       "      <th>125</th>\n",
       "      <td>1</td>\n",
       "      <td>White, Mr. Percival Wayland</td>\n",
       "      <td>male</td>\n",
       "      <td>54.0</td>\n",
       "      <td>0</td>\n",
       "      <td>1</td>\n",
       "      <td>35281</td>\n",
       "      <td>77.2875</td>\n",
       "      <td>D26</td>\n",
       "      <td>S</td>\n",
       "      <td>Mr</td>\n",
       "      <td>White</td>\n",
       "    </tr>\n",
       "    <tr>\n",
       "      <th>579</th>\n",
       "      <td>3</td>\n",
       "      <td>Caram, Mrs. Joseph (Maria Elias)</td>\n",
       "      <td>female</td>\n",
       "      <td>NaN</td>\n",
       "      <td>1</td>\n",
       "      <td>0</td>\n",
       "      <td>2689</td>\n",
       "      <td>14.4583</td>\n",
       "      <td>NaN</td>\n",
       "      <td>C</td>\n",
       "      <td>Mrs</td>\n",
       "      <td>Caram</td>\n",
       "    </tr>\n",
       "  </tbody>\n",
       "</table>\n",
       "</div>"
      ],
      "text/plain": [
       "             Pclass                                      Name     Sex   Age  \\\n",
       "PassengerId                                                                   \n",
       "858               1                    Daly, Mr. Peter Denis     male  51.0   \n",
       "53                1  Harper, Mrs. Henry Sleeper (Myna Haxtun)  female  49.0   \n",
       "387               3           Goodwin, Master. Sidney Leonard    male   1.0   \n",
       "125               1               White, Mr. Percival Wayland    male  54.0   \n",
       "579               3          Caram, Mrs. Joseph (Maria Elias)  female   NaN   \n",
       "\n",
       "             SibSp  Parch    Ticket     Fare Cabin Embarked Name_title  \\\n",
       "PassengerId                                                              \n",
       "858              0      0    113055  26.5500   E17        S         Mr   \n",
       "53               1      0  PC 17572  76.7292   D33        C        Mrs   \n",
       "387              5      2   CA 2144  46.9000   NaN        S     Master   \n",
       "125              0      1     35281  77.2875   D26        S         Mr   \n",
       "579              1      0      2689  14.4583   NaN        C        Mrs   \n",
       "\n",
       "            Name_family  \n",
       "PassengerId              \n",
       "858                Daly  \n",
       "53               Harper  \n",
       "387             Goodwin  \n",
       "125               White  \n",
       "579               Caram  "
      ]
     },
     "execution_count": 1100,
     "metadata": {},
     "output_type": "execute_result"
    }
   ],
   "source": [
    "class get_name(BaseEstimator, TransformerMixin):\n",
    "    \"\"\"create column with family name  and title of each passenger\"\"\"\n",
    "    def __init__(self, title:bool=True,family:bool=True):\n",
    "        self.title = title\n",
    "        self.family = family\n",
    "        pass\n",
    "    \n",
    "    def fit(self, x:pd.DataFrame, y:pd.Series=None):\n",
    "        return self\n",
    "    \n",
    "    def transform(self, x:pd.DataFrame, y:pd.Series=None):\n",
    "        df = x.copy()\n",
    "        try:\n",
    "            if self.title:\n",
    "                df['Name_title'] = df['Name'].apply(lambda x: x.split(\",\")[1]).apply(lambda x: x.split(\".\")[0])\n",
    "            if self.family:\n",
    "                df['Name_family'] = df['Name'].apply(lambda x: x.split(\",\")[0])\n",
    "            \n",
    "        except:\n",
    "            print('erro em get_name')\n",
    "        return df\n",
    "\n",
    "x_train_ = get_name(family=True,title=True).fit_transform(X=x_train)\n",
    "x_train_.head()"
   ]
  },
  {
   "cell_type": "code",
   "execution_count": 1116,
   "id": "a5c795d4",
   "metadata": {},
   "outputs": [
    {
     "name": "stdout",
     "output_type": "stream",
     "text": [
      "Amount of unique labels in family name: 502\n",
      "\n",
      " Family names with more than 3 occurrences:\n"
     ]
    },
    {
     "data": {
      "text/html": [
       "<div>\n",
       "<style scoped>\n",
       "    .dataframe tbody tr th:only-of-type {\n",
       "        vertical-align: middle;\n",
       "    }\n",
       "\n",
       "    .dataframe tbody tr th {\n",
       "        vertical-align: top;\n",
       "    }\n",
       "\n",
       "    .dataframe thead th {\n",
       "        text-align: right;\n",
       "    }\n",
       "</style>\n",
       "<table border=\"1\" class=\"dataframe\">\n",
       "  <thead>\n",
       "    <tr style=\"text-align: right;\">\n",
       "      <th></th>\n",
       "      <th>Name_family</th>\n",
       "    </tr>\n",
       "  </thead>\n",
       "  <tbody>\n",
       "    <tr>\n",
       "      <th>Sage</th>\n",
       "      <td>7</td>\n",
       "    </tr>\n",
       "    <tr>\n",
       "      <th>Andersson</th>\n",
       "      <td>7</td>\n",
       "    </tr>\n",
       "    <tr>\n",
       "      <th>Brown</th>\n",
       "      <td>4</td>\n",
       "    </tr>\n",
       "    <tr>\n",
       "      <th>Rice</th>\n",
       "      <td>4</td>\n",
       "    </tr>\n",
       "    <tr>\n",
       "      <th>Carter</th>\n",
       "      <td>4</td>\n",
       "    </tr>\n",
       "    <tr>\n",
       "      <th>Lefebre</th>\n",
       "      <td>4</td>\n",
       "    </tr>\n",
       "    <tr>\n",
       "      <th>Ford</th>\n",
       "      <td>4</td>\n",
       "    </tr>\n",
       "    <tr>\n",
       "      <th>Goodwin</th>\n",
       "      <td>4</td>\n",
       "    </tr>\n",
       "  </tbody>\n",
       "</table>\n",
       "</div>"
      ],
      "text/plain": [
       "           Name_family\n",
       "Sage                 7\n",
       "Andersson            7\n",
       "Brown                4\n",
       "Rice                 4\n",
       "Carter               4\n",
       "Lefebre              4\n",
       "Ford                 4\n",
       "Goodwin              4"
      ]
     },
     "execution_count": 1116,
     "metadata": {},
     "output_type": "execute_result"
    }
   ],
   "source": [
    "family_labels = pd.DataFrame(x_train_['Name_family'].value_counts())\n",
    "print(f'Amount of unique labels in family name:', family_labels.shape[0])\n",
    "print(f'\\n Family names with more than 3 occurrences:')\n",
    "family_labels[family_labels[\"Name_family\"]>3]"
   ]
  },
  {
   "cell_type": "markdown",
   "id": "d15332ad",
   "metadata": {},
   "source": [
    "\"Name_family\" is now a categorical feature and we'll have to encode it so the model can use it."
   ]
  },
  {
   "cell_type": "code",
   "execution_count": 1119,
   "id": "04ef5b24",
   "metadata": {},
   "outputs": [
    {
     "name": "stdout",
     "output_type": "stream",
     "text": [
      "Amount of unique labels in title: 14\n",
      "\n",
      "Titles with more than 3 occurrences:\n"
     ]
    },
    {
     "data": {
      "text/html": [
       "<div>\n",
       "<style scoped>\n",
       "    .dataframe tbody tr th:only-of-type {\n",
       "        vertical-align: middle;\n",
       "    }\n",
       "\n",
       "    .dataframe tbody tr th {\n",
       "        vertical-align: top;\n",
       "    }\n",
       "\n",
       "    .dataframe thead th {\n",
       "        text-align: right;\n",
       "    }\n",
       "</style>\n",
       "<table border=\"1\" class=\"dataframe\">\n",
       "  <thead>\n",
       "    <tr style=\"text-align: right;\">\n",
       "      <th></th>\n",
       "      <th>Name_title</th>\n",
       "    </tr>\n",
       "  </thead>\n",
       "  <tbody>\n",
       "    <tr>\n",
       "      <th>Mr</th>\n",
       "      <td>367</td>\n",
       "    </tr>\n",
       "    <tr>\n",
       "      <th>Miss</th>\n",
       "      <td>121</td>\n",
       "    </tr>\n",
       "    <tr>\n",
       "      <th>Mrs</th>\n",
       "      <td>88</td>\n",
       "    </tr>\n",
       "    <tr>\n",
       "      <th>Master</th>\n",
       "      <td>31</td>\n",
       "    </tr>\n",
       "    <tr>\n",
       "      <th>Rev</th>\n",
       "      <td>3</td>\n",
       "    </tr>\n",
       "    <tr>\n",
       "      <th>Dr</th>\n",
       "      <td>3</td>\n",
       "    </tr>\n",
       "  </tbody>\n",
       "</table>\n",
       "</div>"
      ],
      "text/plain": [
       "         Name_title\n",
       " Mr             367\n",
       " Miss           121\n",
       " Mrs             88\n",
       " Master          31\n",
       " Rev              3\n",
       " Dr               3"
      ]
     },
     "execution_count": 1119,
     "metadata": {},
     "output_type": "execute_result"
    }
   ],
   "source": [
    "title_labels = pd.DataFrame(x_train_['Name_title'].value_counts())\n",
    "print(f'Amount of unique labels in title:', title_labels.shape[0])\n",
    "print(f'\\nTitles with more than 3 occurrences:')\n",
    "title_labels[title_labels[\"Name_title\"]>2]"
   ]
  },
  {
   "cell_type": "markdown",
   "id": "87c031cb",
   "metadata": {},
   "source": [
    "### 2.3.1 Scikit-Learn Approach"
   ]
  },
  {
   "cell_type": "markdown",
   "id": "9f40194f",
   "metadata": {},
   "source": [
    "If we're to use Scikit Learn approach instead of feature-engine (it returns pd.DataFrame instead of np.array and let's you select which columns each transformer will be applied by name), we're going to need to develop a custom transformer to deal with rare labels. "
   ]
  },
  {
   "cell_type": "code",
   "execution_count": 1148,
   "id": "0d979d7d",
   "metadata": {},
   "outputs": [],
   "source": [
    "class fix_rare_labels(BaseEstimator,TransformerMixin):\n",
    "    \"\"\"transforms rare labels values in 'Rare'.\n",
    "      Make sure to use the same order calling \"variables\" for train and predict\"\"\"\n",
    "    \n",
    "    def __init__(self,variables:list,threshold:list):\n",
    "        super().__init__()\n",
    "        self.threshold = threshold  #frequency threshold\n",
    "        #self.freq_list= []\n",
    "        self.variables = variables\n",
    "        self.freq_labels = []\n",
    "        pass\n",
    "    \n",
    "    def fit(self, x:pd.DataFrame, y:pd.Series=None):\n",
    "        \"\"\" Saves in memory a list of which each item is a list \n",
    "            of frequent labels for a initializes variable \"\"\"\n",
    "\n",
    "        x = x.copy()\n",
    "        try:\n",
    "            # for each variable\n",
    "            for c,var in enumerate(self.variables):\n",
    "                # dic with keys for unique labels and occurrence count of said label for value \n",
    "                label_occurrence = x[var].value_counts().to_dict()\n",
    "                # initialize an empty list for the frequent labels of var\n",
    "                frequent_by_feat = []\n",
    "                # loop for each unique label of var\n",
    "                for (key,value) in label_occurrence.items():\n",
    "                    # if the label has more than threshold occurrences\n",
    "                    if value > self.threshold[c]:\n",
    "                        # append this label to the list of frequent labels of var\n",
    "                        frequent_by_feat.append(key)\n",
    "                # append the list of frequent labels of this feature to a list. \n",
    "                # \"freq_labels\" is a list of wich each item is a list of frequent labels for a variable\n",
    "                    # exp.: the first item of \"freq_labels\" is a list of frequent labels \n",
    "                    # for the first var from self.variables and so on\n",
    "                self.freq_labels.append(frequent_by_feat)\n",
    "                \n",
    "        except Exception as err:\n",
    "            print(err)\n",
    "            print('error in fix_rare_labels fit')\n",
    "        return self\n",
    "    \n",
    "    def transform(self, x:pd.DataFrame, y:pd.Series=None):\n",
    "        \"\"\" replaces rare labels for the str \"Rare\" \"\"\"\n",
    "        x = x.copy()\n",
    "        try: \n",
    "            # loop for each feature\n",
    "            for c,var in enumerate(self.variables):\n",
    "                # dataframe with unique labels as index and occurrence count of said label as values for this loop's feat\n",
    "                label_occurrence = pd.DataFrame(x[var].value_counts())\n",
    "                # loop for each unique label\n",
    "                for unique_label in label_occurrence.index:\n",
    "                    # we need a df with value True of False if the label from index is in list of frequent labels \n",
    "                    # if label is in list of frequent labels of his feature\n",
    "                    if unique_label in self.freq_labels[c]:\n",
    "                        # replace the occurrence count with \"False\"\n",
    "                        label_occurrence.loc[unique_label]= False\n",
    "                    else:\n",
    "                        # replace the occurrence count with \"True\"\n",
    "                        label_occurrence.loc[unique_label]= True\n",
    "                # transform list to boolean type\n",
    "                label_occurrence_bool = (label_occurrence.iloc[:,0]).astype(bool)\n",
    "                # replaces rare labels for the string \"Rare\"\n",
    "                x[var] = x[var].mask(x[var].map(label_occurrence_bool),\"Rare\")\n",
    "        except Exception as err:\n",
    "            print('error in fix_rare_labels transform') \n",
    "            print(err)\n",
    "        return x"
   ]
  },
  {
   "cell_type": "code",
   "execution_count": 1150,
   "id": "9f05d063",
   "metadata": {},
   "outputs": [
    {
     "data": {
      "text/plain": [
       "[['Sage',\n",
       "  'Andersson',\n",
       "  'Brown',\n",
       "  'Rice',\n",
       "  'Carter',\n",
       "  'Lefebre',\n",
       "  'Ford',\n",
       "  'Goodwin'],\n",
       " [' Mr', ' Miss', ' Mrs', ' Master']]"
      ]
     },
     "execution_count": 1150,
     "metadata": {},
     "output_type": "execute_result"
    }
   ],
   "source": [
    "fl = fix_rare_labels(variables=['Name_family', 'Name_title'], threshold=[3,10])\n",
    "x_rare = fl.fit_transform(x_train_)\n",
    "fl.freq_labels"
   ]
  },
  {
   "cell_type": "markdown",
   "id": "9ceb27c5",
   "metadata": {},
   "source": [
    "And the pipeline would look like this:"
   ]
  },
  {
   "cell_type": "code",
   "execution_count": 1151,
   "id": "5852a843",
   "metadata": {
    "scrolled": false
   },
   "outputs": [
    {
     "data": {
      "text/html": [
       "<style>#sk-9cb329f5-ae9f-412a-bb48-a3f4bb990911 {color: black;background-color: white;}#sk-9cb329f5-ae9f-412a-bb48-a3f4bb990911 pre{padding: 0;}#sk-9cb329f5-ae9f-412a-bb48-a3f4bb990911 div.sk-toggleable {background-color: white;}#sk-9cb329f5-ae9f-412a-bb48-a3f4bb990911 label.sk-toggleable__label {cursor: pointer;display: block;width: 100%;margin-bottom: 0;padding: 0.2em 0.3em;box-sizing: border-box;text-align: center;}#sk-9cb329f5-ae9f-412a-bb48-a3f4bb990911 div.sk-toggleable__content {max-height: 0;max-width: 0;overflow: hidden;text-align: left;background-color: #f0f8ff;}#sk-9cb329f5-ae9f-412a-bb48-a3f4bb990911 div.sk-toggleable__content pre {margin: 0.2em;color: black;border-radius: 0.25em;background-color: #f0f8ff;}#sk-9cb329f5-ae9f-412a-bb48-a3f4bb990911 input.sk-toggleable__control:checked~div.sk-toggleable__content {max-height: 200px;max-width: 100%;overflow: auto;}#sk-9cb329f5-ae9f-412a-bb48-a3f4bb990911 div.sk-estimator input.sk-toggleable__control:checked~label.sk-toggleable__label {background-color: #d4ebff;}#sk-9cb329f5-ae9f-412a-bb48-a3f4bb990911 div.sk-label input.sk-toggleable__control:checked~label.sk-toggleable__label {background-color: #d4ebff;}#sk-9cb329f5-ae9f-412a-bb48-a3f4bb990911 input.sk-hidden--visually {border: 0;clip: rect(1px 1px 1px 1px);clip: rect(1px, 1px, 1px, 1px);height: 1px;margin: -1px;overflow: hidden;padding: 0;position: absolute;width: 1px;}#sk-9cb329f5-ae9f-412a-bb48-a3f4bb990911 div.sk-estimator {font-family: monospace;background-color: #f0f8ff;margin: 0.25em 0.25em;border: 1px dotted black;border-radius: 0.25em;box-sizing: border-box;}#sk-9cb329f5-ae9f-412a-bb48-a3f4bb990911 div.sk-estimator:hover {background-color: #d4ebff;}#sk-9cb329f5-ae9f-412a-bb48-a3f4bb990911 div.sk-parallel-item::after {content: \"\";width: 100%;border-bottom: 1px solid gray;flex-grow: 1;}#sk-9cb329f5-ae9f-412a-bb48-a3f4bb990911 div.sk-label:hover label.sk-toggleable__label {background-color: #d4ebff;}#sk-9cb329f5-ae9f-412a-bb48-a3f4bb990911 div.sk-serial::before {content: \"\";position: absolute;border-left: 1px solid gray;box-sizing: border-box;top: 2em;bottom: 0;left: 50%;}#sk-9cb329f5-ae9f-412a-bb48-a3f4bb990911 div.sk-serial {display: flex;flex-direction: column;align-items: center;background-color: white;}#sk-9cb329f5-ae9f-412a-bb48-a3f4bb990911 div.sk-item {z-index: 1;}#sk-9cb329f5-ae9f-412a-bb48-a3f4bb990911 div.sk-parallel {display: flex;align-items: stretch;justify-content: center;background-color: white;}#sk-9cb329f5-ae9f-412a-bb48-a3f4bb990911 div.sk-parallel-item {display: flex;flex-direction: column;position: relative;background-color: white;}#sk-9cb329f5-ae9f-412a-bb48-a3f4bb990911 div.sk-parallel-item:first-child::after {align-self: flex-end;width: 50%;}#sk-9cb329f5-ae9f-412a-bb48-a3f4bb990911 div.sk-parallel-item:last-child::after {align-self: flex-start;width: 50%;}#sk-9cb329f5-ae9f-412a-bb48-a3f4bb990911 div.sk-parallel-item:only-child::after {width: 0;}#sk-9cb329f5-ae9f-412a-bb48-a3f4bb990911 div.sk-dashed-wrapped {border: 1px dashed gray;margin: 0.2em;box-sizing: border-box;padding-bottom: 0.1em;background-color: white;position: relative;}#sk-9cb329f5-ae9f-412a-bb48-a3f4bb990911 div.sk-label label {font-family: monospace;font-weight: bold;background-color: white;display: inline-block;line-height: 1.2em;}#sk-9cb329f5-ae9f-412a-bb48-a3f4bb990911 div.sk-label-container {position: relative;z-index: 2;text-align: center;}#sk-9cb329f5-ae9f-412a-bb48-a3f4bb990911 div.sk-container {display: inline-block;position: relative;}</style><div id=\"sk-9cb329f5-ae9f-412a-bb48-a3f4bb990911\" class\"sk-top-container\"><div class=\"sk-container\"><div class=\"sk-item sk-dashed-wrapped\"><div class=\"sk-label-container\"><div class=\"sk-label sk-toggleable\"><input class=\"sk-toggleable__control sk-hidden--visually\" id=\"82587c7d-0d81-49d5-bab5-e3d2b9b8e7d0\" type=\"checkbox\" ><label class=\"sk-toggleable__label\" for=\"82587c7d-0d81-49d5-bab5-e3d2b9b8e7d0\">Pipeline</label><div class=\"sk-toggleable__content\"><pre>Pipeline(steps=[('get_name', get_name()),\n",
       "                ('dropfeatures',\n",
       "                 DropFeatures(features_to_drop=['Name', 'Sex', 'Ticket',\n",
       "                                                'Cabin', 'Embarked'])),\n",
       "                ('columntransformer',\n",
       "                 ColumnTransformer(transformers=[('Numerical transformations',\n",
       "                                                  Pipeline(steps=[('simpleimputer',\n",
       "                                                                   SimpleImputer())]),\n",
       "                                                  <sklearn.compose._column_transformer.make_column_selector object at 0x0000025C87608CD0>),\n",
       "                                                 ('Categorcial transformations',\n",
       "                                                  Pipeline(steps=[('Rare '\n",
       "                                                                   'Encode '\n",
       "                                                                   'Title and '\n",
       "                                                                   'Family',\n",
       "                                                                   fix_rare_labels(threshold=[3,\n",
       "                                                                                              10],\n",
       "                                                                                   variables=['Name_family',\n",
       "                                                                                              'Name_title'])),\n",
       "                                                                  ('OneHot',\n",
       "                                                                   OneHotEncoder(handle_unknown='ignore'))]),\n",
       "                                                  <sklearn.compose._column_transformer.make_column_selector object at 0x0000025C87456D00>)])),\n",
       "                ('randomforestclassifier',\n",
       "                 RandomForestClassifier(random_state=0))])</pre></div></div></div><div class=\"sk-serial\"><div class=\"sk-item\"><div class=\"sk-estimator sk-toggleable\"><input class=\"sk-toggleable__control sk-hidden--visually\" id=\"370b49d8-a7e2-477a-aa36-0c20f28bbb33\" type=\"checkbox\" ><label class=\"sk-toggleable__label\" for=\"370b49d8-a7e2-477a-aa36-0c20f28bbb33\">get_name</label><div class=\"sk-toggleable__content\"><pre>get_name()</pre></div></div></div><div class=\"sk-item\"><div class=\"sk-estimator sk-toggleable\"><input class=\"sk-toggleable__control sk-hidden--visually\" id=\"eba991f0-6b68-45fd-9eb7-45d40b65b5ed\" type=\"checkbox\" ><label class=\"sk-toggleable__label\" for=\"eba991f0-6b68-45fd-9eb7-45d40b65b5ed\">DropFeatures</label><div class=\"sk-toggleable__content\"><pre>DropFeatures(features_to_drop=['Name', 'Sex', 'Ticket', 'Cabin', 'Embarked'])</pre></div></div></div><div class=\"sk-item sk-dashed-wrapped\"><div class=\"sk-label-container\"><div class=\"sk-label sk-toggleable\"><input class=\"sk-toggleable__control sk-hidden--visually\" id=\"6bffcc49-4d8c-4d7c-bfbc-c874a539b838\" type=\"checkbox\" ><label class=\"sk-toggleable__label\" for=\"6bffcc49-4d8c-4d7c-bfbc-c874a539b838\">columntransformer: ColumnTransformer</label><div class=\"sk-toggleable__content\"><pre>ColumnTransformer(transformers=[('Numerical transformations',\n",
       "                                 Pipeline(steps=[('simpleimputer',\n",
       "                                                  SimpleImputer())]),\n",
       "                                 <sklearn.compose._column_transformer.make_column_selector object at 0x0000025C87608CD0>),\n",
       "                                ('Categorcial transformations',\n",
       "                                 Pipeline(steps=[('Rare Encode Title and '\n",
       "                                                  'Family',\n",
       "                                                  fix_rare_labels(threshold=[3,\n",
       "                                                                             10],\n",
       "                                                                  variables=['Name_family',\n",
       "                                                                             'Name_title'])),\n",
       "                                                 ('OneHot',\n",
       "                                                  OneHotEncoder(handle_unknown='ignore'))]),\n",
       "                                 <sklearn.compose._column_transformer.make_column_selector object at 0x0000025C87456D00>)])</pre></div></div></div><div class=\"sk-parallel\"><div class=\"sk-parallel-item\"><div class=\"sk-item\"><div class=\"sk-label-container\"><div class=\"sk-label sk-toggleable\"><input class=\"sk-toggleable__control sk-hidden--visually\" id=\"85af0491-265e-409e-ae45-3194b6a27102\" type=\"checkbox\" ><label class=\"sk-toggleable__label\" for=\"85af0491-265e-409e-ae45-3194b6a27102\">Numerical transformations</label><div class=\"sk-toggleable__content\"><pre><sklearn.compose._column_transformer.make_column_selector object at 0x0000025C87608CD0></pre></div></div></div><div class=\"sk-serial\"><div class=\"sk-item\"><div class=\"sk-serial\"><div class=\"sk-item\"><div class=\"sk-estimator sk-toggleable\"><input class=\"sk-toggleable__control sk-hidden--visually\" id=\"cd9de110-d4af-4eda-aaff-6e499942a2dc\" type=\"checkbox\" ><label class=\"sk-toggleable__label\" for=\"cd9de110-d4af-4eda-aaff-6e499942a2dc\">SimpleImputer</label><div class=\"sk-toggleable__content\"><pre>SimpleImputer()</pre></div></div></div></div></div></div></div></div><div class=\"sk-parallel-item\"><div class=\"sk-item\"><div class=\"sk-label-container\"><div class=\"sk-label sk-toggleable\"><input class=\"sk-toggleable__control sk-hidden--visually\" id=\"1515de30-d415-402a-ac37-d6559ad06653\" type=\"checkbox\" ><label class=\"sk-toggleable__label\" for=\"1515de30-d415-402a-ac37-d6559ad06653\">Categorcial transformations</label><div class=\"sk-toggleable__content\"><pre><sklearn.compose._column_transformer.make_column_selector object at 0x0000025C87456D00></pre></div></div></div><div class=\"sk-serial\"><div class=\"sk-item\"><div class=\"sk-serial\"><div class=\"sk-item\"><div class=\"sk-estimator sk-toggleable\"><input class=\"sk-toggleable__control sk-hidden--visually\" id=\"acf01b47-6100-47a3-b780-4fab86a97282\" type=\"checkbox\" ><label class=\"sk-toggleable__label\" for=\"acf01b47-6100-47a3-b780-4fab86a97282\">fix_rare_labels</label><div class=\"sk-toggleable__content\"><pre>fix_rare_labels(threshold=[3, 10], variables=['Name_family', 'Name_title'])</pre></div></div></div><div class=\"sk-item\"><div class=\"sk-estimator sk-toggleable\"><input class=\"sk-toggleable__control sk-hidden--visually\" id=\"6d93d11e-0eba-448d-94a8-32beab7f8c7d\" type=\"checkbox\" ><label class=\"sk-toggleable__label\" for=\"6d93d11e-0eba-448d-94a8-32beab7f8c7d\">OneHotEncoder</label><div class=\"sk-toggleable__content\"><pre>OneHotEncoder(handle_unknown='ignore')</pre></div></div></div></div></div></div></div></div></div></div><div class=\"sk-item\"><div class=\"sk-estimator sk-toggleable\"><input class=\"sk-toggleable__control sk-hidden--visually\" id=\"2b6a9e4f-b750-4a00-bf69-6ba71c744db8\" type=\"checkbox\" ><label class=\"sk-toggleable__label\" for=\"2b6a9e4f-b750-4a00-bf69-6ba71c744db8\">RandomForestClassifier</label><div class=\"sk-toggleable__content\"><pre>RandomForestClassifier(random_state=0)</pre></div></div></div></div></div></div></div>"
      ],
      "text/plain": [
       "Pipeline(steps=[('get_name', get_name()),\n",
       "                ('dropfeatures',\n",
       "                 DropFeatures(features_to_drop=['Name', 'Sex', 'Ticket',\n",
       "                                                'Cabin', 'Embarked'])),\n",
       "                ('columntransformer',\n",
       "                 ColumnTransformer(transformers=[('Numerical transformations',\n",
       "                                                  Pipeline(steps=[('simpleimputer',\n",
       "                                                                   SimpleImputer())]),\n",
       "                                                  <sklearn.compose._column_transformer.make_column_selector object at 0x0000025C87608CD0>),\n",
       "                                                 ('Categorcial transformations',\n",
       "                                                  Pipeline(steps=[('Rare '\n",
       "                                                                   'Encode '\n",
       "                                                                   'Title and '\n",
       "                                                                   'Family',\n",
       "                                                                   fix_rare_labels(threshold=[3,\n",
       "                                                                                              10],\n",
       "                                                                                   variables=['Name_family',\n",
       "                                                                                              'Name_title'])),\n",
       "                                                                  ('OneHot',\n",
       "                                                                   OneHotEncoder(handle_unknown='ignore'))]),\n",
       "                                                  <sklearn.compose._column_transformer.make_column_selector object at 0x0000025C87456D00>)])),\n",
       "                ('randomforestclassifier',\n",
       "                 RandomForestClassifier(random_state=0))])"
      ]
     },
     "execution_count": 1151,
     "metadata": {},
     "output_type": "execute_result"
    }
   ],
   "source": [
    "# pipeline for categorical variables preprocessing \n",
    "cat_pp = Pipeline([\n",
    "    ('Rare Encode Title and Family',fix_rare_labels(variables=['Name_family', 'Name_title'], threshold=[3,10])),\n",
    "    ('OneHot', OneHotSK(handle_unknown='ignore')),])\n",
    "\n",
    "# pipeline for numerical variables\n",
    "num_pp = make_pipeline(SimpleImputer(missing_values=np.nan, strategy='mean', add_indicator=False))\n",
    "\n",
    "# ColumnTransformer to apply diferent pipelines for diferent data types\n",
    "merge_ct = ColumnTransformer(\n",
    "    [('Numerical transformations',num_pp, make_column_selector(dtype_exclude='object')),\n",
    "     ('Categorcial transformations', cat_pp, make_column_selector(dtype_include='object'))])\n",
    "\n",
    "# final pipeline\n",
    "sk_pipe_family = make_pipeline(get_name(family=True, title=True),\n",
    "                              DropFeatures(features_to_drop=['Name','Sex','Ticket','Cabin','Embarked']),\n",
    "                              merge_ct,\n",
    "                              RandomForestClassifier(random_state=0))\n",
    "sk_pipe_family"
   ]
  },
  {
   "cell_type": "code",
   "execution_count": 1134,
   "id": "ffc9680d",
   "metadata": {},
   "outputs": [
    {
     "name": "stdout",
     "output_type": "stream",
     "text": [
      "accuracy of 0.7946 and standard deviation of 0.0445\n"
     ]
    }
   ],
   "source": [
    "get_cross_score(sk_pipe_family,cv=5)"
   ]
  },
  {
   "cell_type": "markdown",
   "id": "e8608f7c",
   "metadata": {},
   "source": [
    "## 2.3.2 Feature-Engine Approach"
   ]
  },
  {
   "cell_type": "markdown",
   "id": "95e2f782",
   "metadata": {},
   "source": [
    " Feature-engine transformers returns pd.DataFrame instead of np.array (as sklearn) and let's you select which columns each transformer will be applied by name. As it returns pd.DataFrame, we don't loose the feature name and can build more linear pipelines, as we select exactly where each transformation must be done.\n",
    " \n",
    " It also has a transformer called RareLabelEncoder that deals with rare labels easily."
   ]
  },
  {
   "cell_type": "code",
   "execution_count": 1120,
   "id": "e1037fcc",
   "metadata": {},
   "outputs": [
    {
     "name": "stdout",
     "output_type": "stream",
     "text": [
      "accuracy of 0.8026 and standard deviation of 0.0368\n"
     ]
    }
   ],
   "source": [
    "pipe_name_title = make_pipeline(\n",
    "    \n",
    "                        #categorical features transformations\n",
    "                          get_name(family=True,title=True),\n",
    "                          RareLabelEncoder(max_n_categories=8,tol=0,variables=['Name_family']),\n",
    "                          RareLabelEncoder(max_n_categories=4,tol=0,variables=['Name_title']),\n",
    "                          OneHotEncoder(variables=['Name_family','Name_title']),\n",
    "                          DropFeatures(features_to_drop=['Name','Sex','Ticket','Cabin','Embarked']),\n",
    "                        # numerical features transformation\n",
    "                          MeanMedianImputer(imputation_method='mean', variables=['Age','Fare']),\n",
    "                        # model  \n",
    "                        RandomForestClassifier(random_state=0))\n",
    "get_cross_score(pipe_name_title,5)\n",
    "\n",
    "#x_train_1 = pipe_name_title.fit_transform(x_train)\n",
    "#x_train_1.head()"
   ]
  },
  {
   "cell_type": "code",
   "execution_count": 359,
   "id": "3aa20b2f",
   "metadata": {},
   "outputs": [
    {
     "data": {
      "text/html": [
       "<style>#sk-8b0d7878-ed99-4d43-8d0c-cef9cf23cee2 {color: black;background-color: white;}#sk-8b0d7878-ed99-4d43-8d0c-cef9cf23cee2 pre{padding: 0;}#sk-8b0d7878-ed99-4d43-8d0c-cef9cf23cee2 div.sk-toggleable {background-color: white;}#sk-8b0d7878-ed99-4d43-8d0c-cef9cf23cee2 label.sk-toggleable__label {cursor: pointer;display: block;width: 100%;margin-bottom: 0;padding: 0.2em 0.3em;box-sizing: border-box;text-align: center;}#sk-8b0d7878-ed99-4d43-8d0c-cef9cf23cee2 div.sk-toggleable__content {max-height: 0;max-width: 0;overflow: hidden;text-align: left;background-color: #f0f8ff;}#sk-8b0d7878-ed99-4d43-8d0c-cef9cf23cee2 div.sk-toggleable__content pre {margin: 0.2em;color: black;border-radius: 0.25em;background-color: #f0f8ff;}#sk-8b0d7878-ed99-4d43-8d0c-cef9cf23cee2 input.sk-toggleable__control:checked~div.sk-toggleable__content {max-height: 200px;max-width: 100%;overflow: auto;}#sk-8b0d7878-ed99-4d43-8d0c-cef9cf23cee2 div.sk-estimator input.sk-toggleable__control:checked~label.sk-toggleable__label {background-color: #d4ebff;}#sk-8b0d7878-ed99-4d43-8d0c-cef9cf23cee2 div.sk-label input.sk-toggleable__control:checked~label.sk-toggleable__label {background-color: #d4ebff;}#sk-8b0d7878-ed99-4d43-8d0c-cef9cf23cee2 input.sk-hidden--visually {border: 0;clip: rect(1px 1px 1px 1px);clip: rect(1px, 1px, 1px, 1px);height: 1px;margin: -1px;overflow: hidden;padding: 0;position: absolute;width: 1px;}#sk-8b0d7878-ed99-4d43-8d0c-cef9cf23cee2 div.sk-estimator {font-family: monospace;background-color: #f0f8ff;margin: 0.25em 0.25em;border: 1px dotted black;border-radius: 0.25em;box-sizing: border-box;}#sk-8b0d7878-ed99-4d43-8d0c-cef9cf23cee2 div.sk-estimator:hover {background-color: #d4ebff;}#sk-8b0d7878-ed99-4d43-8d0c-cef9cf23cee2 div.sk-parallel-item::after {content: \"\";width: 100%;border-bottom: 1px solid gray;flex-grow: 1;}#sk-8b0d7878-ed99-4d43-8d0c-cef9cf23cee2 div.sk-label:hover label.sk-toggleable__label {background-color: #d4ebff;}#sk-8b0d7878-ed99-4d43-8d0c-cef9cf23cee2 div.sk-serial::before {content: \"\";position: absolute;border-left: 1px solid gray;box-sizing: border-box;top: 2em;bottom: 0;left: 50%;}#sk-8b0d7878-ed99-4d43-8d0c-cef9cf23cee2 div.sk-serial {display: flex;flex-direction: column;align-items: center;background-color: white;}#sk-8b0d7878-ed99-4d43-8d0c-cef9cf23cee2 div.sk-item {z-index: 1;}#sk-8b0d7878-ed99-4d43-8d0c-cef9cf23cee2 div.sk-parallel {display: flex;align-items: stretch;justify-content: center;background-color: white;}#sk-8b0d7878-ed99-4d43-8d0c-cef9cf23cee2 div.sk-parallel-item {display: flex;flex-direction: column;position: relative;background-color: white;}#sk-8b0d7878-ed99-4d43-8d0c-cef9cf23cee2 div.sk-parallel-item:first-child::after {align-self: flex-end;width: 50%;}#sk-8b0d7878-ed99-4d43-8d0c-cef9cf23cee2 div.sk-parallel-item:last-child::after {align-self: flex-start;width: 50%;}#sk-8b0d7878-ed99-4d43-8d0c-cef9cf23cee2 div.sk-parallel-item:only-child::after {width: 0;}#sk-8b0d7878-ed99-4d43-8d0c-cef9cf23cee2 div.sk-dashed-wrapped {border: 1px dashed gray;margin: 0.2em;box-sizing: border-box;padding-bottom: 0.1em;background-color: white;position: relative;}#sk-8b0d7878-ed99-4d43-8d0c-cef9cf23cee2 div.sk-label label {font-family: monospace;font-weight: bold;background-color: white;display: inline-block;line-height: 1.2em;}#sk-8b0d7878-ed99-4d43-8d0c-cef9cf23cee2 div.sk-label-container {position: relative;z-index: 2;text-align: center;}#sk-8b0d7878-ed99-4d43-8d0c-cef9cf23cee2 div.sk-container {display: inline-block;position: relative;}</style><div id=\"sk-8b0d7878-ed99-4d43-8d0c-cef9cf23cee2\" class\"sk-top-container\"><div class=\"sk-container\"><div class=\"sk-item sk-dashed-wrapped\"><div class=\"sk-label-container\"><div class=\"sk-label sk-toggleable\"><input class=\"sk-toggleable__control sk-hidden--visually\" id=\"fcf22c61-19f5-432b-aa57-d46081143971\" type=\"checkbox\" ><label class=\"sk-toggleable__label\" for=\"fcf22c61-19f5-432b-aa57-d46081143971\">Pipeline</label><div class=\"sk-toggleable__content\"><pre>Pipeline(steps=[('get_name', get_name()),\n",
       "                ('rarelabelencoder-1',\n",
       "                 RareLabelEncoder(max_n_categories=8, tol=0,\n",
       "                                  variables=['Name_family'])),\n",
       "                ('rarelabelencoder-2',\n",
       "                 RareLabelEncoder(max_n_categories=4, tol=0,\n",
       "                                  variables=['Name_title'])),\n",
       "                ('onehotencoder',\n",
       "                 OneHotEncoder(variables=['Name_family', 'Name_title'])),\n",
       "                ('dropfeatures',\n",
       "                 DropFeatures(features_to_drop=['Name', 'Sex', 'Ticket',\n",
       "                                                'Cabin', 'Embarked'])),\n",
       "                ('meanmedianimputer',\n",
       "                 MeanMedianImputer(imputation_method='mean',\n",
       "                                   variables=['Age', 'Fare'])),\n",
       "                ('randomforestclassifier',\n",
       "                 RandomForestClassifier(random_state=0))])</pre></div></div></div><div class=\"sk-serial\"><div class=\"sk-item\"><div class=\"sk-estimator sk-toggleable\"><input class=\"sk-toggleable__control sk-hidden--visually\" id=\"f228ec89-f6a3-45a1-a527-96be262976c9\" type=\"checkbox\" ><label class=\"sk-toggleable__label\" for=\"f228ec89-f6a3-45a1-a527-96be262976c9\">get_name</label><div class=\"sk-toggleable__content\"><pre>get_name()</pre></div></div></div><div class=\"sk-item\"><div class=\"sk-estimator sk-toggleable\"><input class=\"sk-toggleable__control sk-hidden--visually\" id=\"76fd3449-b157-4c96-ae3e-cf4d21b24c0f\" type=\"checkbox\" ><label class=\"sk-toggleable__label\" for=\"76fd3449-b157-4c96-ae3e-cf4d21b24c0f\">RareLabelEncoder</label><div class=\"sk-toggleable__content\"><pre>RareLabelEncoder(max_n_categories=8, tol=0, variables=['Name_family'])</pre></div></div></div><div class=\"sk-item\"><div class=\"sk-estimator sk-toggleable\"><input class=\"sk-toggleable__control sk-hidden--visually\" id=\"02f6f95c-68e3-4466-8eba-98ebb25514f6\" type=\"checkbox\" ><label class=\"sk-toggleable__label\" for=\"02f6f95c-68e3-4466-8eba-98ebb25514f6\">RareLabelEncoder</label><div class=\"sk-toggleable__content\"><pre>RareLabelEncoder(max_n_categories=4, tol=0, variables=['Name_title'])</pre></div></div></div><div class=\"sk-item\"><div class=\"sk-estimator sk-toggleable\"><input class=\"sk-toggleable__control sk-hidden--visually\" id=\"60b75184-7bae-4dc8-af57-5a38ea6007cb\" type=\"checkbox\" ><label class=\"sk-toggleable__label\" for=\"60b75184-7bae-4dc8-af57-5a38ea6007cb\">OneHotEncoder</label><div class=\"sk-toggleable__content\"><pre>OneHotEncoder(variables=['Name_family', 'Name_title'])</pre></div></div></div><div class=\"sk-item\"><div class=\"sk-estimator sk-toggleable\"><input class=\"sk-toggleable__control sk-hidden--visually\" id=\"711b2dab-b771-44c7-81e2-11ae353f157c\" type=\"checkbox\" ><label class=\"sk-toggleable__label\" for=\"711b2dab-b771-44c7-81e2-11ae353f157c\">DropFeatures</label><div class=\"sk-toggleable__content\"><pre>DropFeatures(features_to_drop=['Name', 'Sex', 'Ticket', 'Cabin', 'Embarked'])</pre></div></div></div><div class=\"sk-item\"><div class=\"sk-estimator sk-toggleable\"><input class=\"sk-toggleable__control sk-hidden--visually\" id=\"3564b551-c7a3-4138-bd08-e7c28fb446f2\" type=\"checkbox\" ><label class=\"sk-toggleable__label\" for=\"3564b551-c7a3-4138-bd08-e7c28fb446f2\">MeanMedianImputer</label><div class=\"sk-toggleable__content\"><pre>MeanMedianImputer(imputation_method='mean', variables=['Age', 'Fare'])</pre></div></div></div><div class=\"sk-item\"><div class=\"sk-estimator sk-toggleable\"><input class=\"sk-toggleable__control sk-hidden--visually\" id=\"def0abca-bd82-41cd-86b7-3b81dd72fa06\" type=\"checkbox\" ><label class=\"sk-toggleable__label\" for=\"def0abca-bd82-41cd-86b7-3b81dd72fa06\">RandomForestClassifier</label><div class=\"sk-toggleable__content\"><pre>RandomForestClassifier(random_state=0)</pre></div></div></div></div></div></div></div>"
      ],
      "text/plain": [
       "Pipeline(steps=[('get_name', get_name()),\n",
       "                ('rarelabelencoder-1',\n",
       "                 RareLabelEncoder(max_n_categories=8, tol=0,\n",
       "                                  variables=['Name_family'])),\n",
       "                ('rarelabelencoder-2',\n",
       "                 RareLabelEncoder(max_n_categories=4, tol=0,\n",
       "                                  variables=['Name_title'])),\n",
       "                ('onehotencoder',\n",
       "                 OneHotEncoder(variables=['Name_family', 'Name_title'])),\n",
       "                ('dropfeatures',\n",
       "                 DropFeatures(features_to_drop=['Name', 'Sex', 'Ticket',\n",
       "                                                'Cabin', 'Embarked'])),\n",
       "                ('meanmedianimputer',\n",
       "                 MeanMedianImputer(imputation_method='mean',\n",
       "                                   variables=['Age', 'Fare'])),\n",
       "                ('randomforestclassifier',\n",
       "                 RandomForestClassifier(random_state=0))])"
      ]
     },
     "execution_count": 359,
     "metadata": {},
     "output_type": "execute_result"
    }
   ],
   "source": [
    "pipe_name_title"
   ]
  },
  {
   "cell_type": "markdown",
   "id": "02745d20",
   "metadata": {},
   "source": [
    "Let's remove Name_family again to see it anything changes."
   ]
  },
  {
   "cell_type": "code",
   "execution_count": 1080,
   "id": "59b13bdd",
   "metadata": {},
   "outputs": [
    {
     "name": "stdout",
     "output_type": "stream",
     "text": [
      "accuracy of 0.8042 and standard deviation of 0.0437\n"
     ]
    }
   ],
   "source": [
    "pipe_name_title_1 = make_pipeline(\n",
    "    \n",
    "                        #categorical features transformations\n",
    "                          get_name(family=False,title=True),\n",
    "                          RareLabelEncoder(max_n_categories=4,tol=0,variables=['Name_title']),\n",
    "                          OneHotEncoder(variables=['Name_title']),\n",
    "                          DropFeatures(features_to_drop=['Name','Sex','Ticket','Cabin','Embarked']),\n",
    "                        # numerical features transformation\n",
    "                          MeanMedianImputer(imputation_method='mean', variables=['Age','Fare']),\n",
    "                        # model  \n",
    "                        RandomForestClassifier(random_state=0))\n",
    "get_cross_score(pipe_name_title_1,5)"
   ]
  },
  {
   "cell_type": "markdown",
   "id": "f45695d3",
   "metadata": {},
   "source": [
    "# 4.5 Sex"
   ]
  },
  {
   "cell_type": "markdown",
   "id": "895018c8",
   "metadata": {},
   "source": [
    "Sex needs to be binary encoded. Let's develop a \"Mapper\" class to make this transformation."
   ]
  },
  {
   "cell_type": "code",
   "execution_count": 1153,
   "id": "cc9e29a6",
   "metadata": {},
   "outputs": [],
   "source": [
    "class Mapper(BaseEstimator, TransformerMixin):\n",
    "    \"\"\"Create column with first character of the first Cabin and how many cabins\"\"\"\n",
    "    \n",
    "    def __init__(self,features:list,map_dict:dict):\n",
    "        \n",
    "        if not isinstance(features,list):\n",
    "            raise ValueError('Features should be a list')\n",
    "            \n",
    "        self.features = features\n",
    "        self.map_dict = map_dict\n",
    "        pass\n",
    "    \n",
    "    def fit(self, x:pd.DataFrame ,y:pd.Series=None):\n",
    "        return self\n",
    "    \n",
    "    def transform(self,x:pd.DataFrame):\n",
    "        x = x.copy()\n",
    "        \n",
    "        for feature in self.features:\n",
    "            x[feature] = x[feature].map(self.map_dict)\n",
    "        return x\n"
   ]
  },
  {
   "cell_type": "code",
   "execution_count": 1232,
   "id": "84ebe061",
   "metadata": {},
   "outputs": [
    {
     "name": "stdout",
     "output_type": "stream",
     "text": [
      "accuracy of 0.7914 and standard deviation of 0.0401\n"
     ]
    },
    {
     "data": {
      "text/html": [
       "<style>#sk-6fb6a0b4-b80a-45d4-95c6-e03ea27d6184 {color: black;background-color: white;}#sk-6fb6a0b4-b80a-45d4-95c6-e03ea27d6184 pre{padding: 0;}#sk-6fb6a0b4-b80a-45d4-95c6-e03ea27d6184 div.sk-toggleable {background-color: white;}#sk-6fb6a0b4-b80a-45d4-95c6-e03ea27d6184 label.sk-toggleable__label {cursor: pointer;display: block;width: 100%;margin-bottom: 0;padding: 0.2em 0.3em;box-sizing: border-box;text-align: center;}#sk-6fb6a0b4-b80a-45d4-95c6-e03ea27d6184 div.sk-toggleable__content {max-height: 0;max-width: 0;overflow: hidden;text-align: left;background-color: #f0f8ff;}#sk-6fb6a0b4-b80a-45d4-95c6-e03ea27d6184 div.sk-toggleable__content pre {margin: 0.2em;color: black;border-radius: 0.25em;background-color: #f0f8ff;}#sk-6fb6a0b4-b80a-45d4-95c6-e03ea27d6184 input.sk-toggleable__control:checked~div.sk-toggleable__content {max-height: 200px;max-width: 100%;overflow: auto;}#sk-6fb6a0b4-b80a-45d4-95c6-e03ea27d6184 div.sk-estimator input.sk-toggleable__control:checked~label.sk-toggleable__label {background-color: #d4ebff;}#sk-6fb6a0b4-b80a-45d4-95c6-e03ea27d6184 div.sk-label input.sk-toggleable__control:checked~label.sk-toggleable__label {background-color: #d4ebff;}#sk-6fb6a0b4-b80a-45d4-95c6-e03ea27d6184 input.sk-hidden--visually {border: 0;clip: rect(1px 1px 1px 1px);clip: rect(1px, 1px, 1px, 1px);height: 1px;margin: -1px;overflow: hidden;padding: 0;position: absolute;width: 1px;}#sk-6fb6a0b4-b80a-45d4-95c6-e03ea27d6184 div.sk-estimator {font-family: monospace;background-color: #f0f8ff;margin: 0.25em 0.25em;border: 1px dotted black;border-radius: 0.25em;box-sizing: border-box;}#sk-6fb6a0b4-b80a-45d4-95c6-e03ea27d6184 div.sk-estimator:hover {background-color: #d4ebff;}#sk-6fb6a0b4-b80a-45d4-95c6-e03ea27d6184 div.sk-parallel-item::after {content: \"\";width: 100%;border-bottom: 1px solid gray;flex-grow: 1;}#sk-6fb6a0b4-b80a-45d4-95c6-e03ea27d6184 div.sk-label:hover label.sk-toggleable__label {background-color: #d4ebff;}#sk-6fb6a0b4-b80a-45d4-95c6-e03ea27d6184 div.sk-serial::before {content: \"\";position: absolute;border-left: 1px solid gray;box-sizing: border-box;top: 2em;bottom: 0;left: 50%;}#sk-6fb6a0b4-b80a-45d4-95c6-e03ea27d6184 div.sk-serial {display: flex;flex-direction: column;align-items: center;background-color: white;}#sk-6fb6a0b4-b80a-45d4-95c6-e03ea27d6184 div.sk-item {z-index: 1;}#sk-6fb6a0b4-b80a-45d4-95c6-e03ea27d6184 div.sk-parallel {display: flex;align-items: stretch;justify-content: center;background-color: white;}#sk-6fb6a0b4-b80a-45d4-95c6-e03ea27d6184 div.sk-parallel-item {display: flex;flex-direction: column;position: relative;background-color: white;}#sk-6fb6a0b4-b80a-45d4-95c6-e03ea27d6184 div.sk-parallel-item:first-child::after {align-self: flex-end;width: 50%;}#sk-6fb6a0b4-b80a-45d4-95c6-e03ea27d6184 div.sk-parallel-item:last-child::after {align-self: flex-start;width: 50%;}#sk-6fb6a0b4-b80a-45d4-95c6-e03ea27d6184 div.sk-parallel-item:only-child::after {width: 0;}#sk-6fb6a0b4-b80a-45d4-95c6-e03ea27d6184 div.sk-dashed-wrapped {border: 1px dashed gray;margin: 0.2em;box-sizing: border-box;padding-bottom: 0.1em;background-color: white;position: relative;}#sk-6fb6a0b4-b80a-45d4-95c6-e03ea27d6184 div.sk-label label {font-family: monospace;font-weight: bold;background-color: white;display: inline-block;line-height: 1.2em;}#sk-6fb6a0b4-b80a-45d4-95c6-e03ea27d6184 div.sk-label-container {position: relative;z-index: 2;text-align: center;}#sk-6fb6a0b4-b80a-45d4-95c6-e03ea27d6184 div.sk-container {display: inline-block;position: relative;}</style><div id=\"sk-6fb6a0b4-b80a-45d4-95c6-e03ea27d6184\" class\"sk-top-container\"><div class=\"sk-container\"><div class=\"sk-item sk-dashed-wrapped\"><div class=\"sk-label-container\"><div class=\"sk-label sk-toggleable\"><input class=\"sk-toggleable__control sk-hidden--visually\" id=\"26fac75e-d341-487e-b8a1-c2f0fb858e94\" type=\"checkbox\" ><label class=\"sk-toggleable__label\" for=\"26fac75e-d341-487e-b8a1-c2f0fb858e94\">Pipeline</label><div class=\"sk-toggleable__content\"><pre>Pipeline(steps=[('mapper',\n",
       "                 Mapper(features=['Sex'], map_dict={'female': 0, 'male': 1})),\n",
       "                ('dropfeatures',\n",
       "                 DropFeatures(features_to_drop=['Name', 'Ticket', 'Cabin',\n",
       "                                                'Embarked'])),\n",
       "                ('meanmedianimputer',\n",
       "                 MeanMedianImputer(imputation_method='mean',\n",
       "                                   variables=['Age', 'Fare'])),\n",
       "                ('randomforestclassifier',\n",
       "                 RandomForestClassifier(random_state=0))])</pre></div></div></div><div class=\"sk-serial\"><div class=\"sk-item\"><div class=\"sk-estimator sk-toggleable\"><input class=\"sk-toggleable__control sk-hidden--visually\" id=\"3edf1963-ab3c-4c4f-a843-9974a394685a\" type=\"checkbox\" ><label class=\"sk-toggleable__label\" for=\"3edf1963-ab3c-4c4f-a843-9974a394685a\">Mapper</label><div class=\"sk-toggleable__content\"><pre>Mapper(features=['Sex'], map_dict={'female': 0, 'male': 1})</pre></div></div></div><div class=\"sk-item\"><div class=\"sk-estimator sk-toggleable\"><input class=\"sk-toggleable__control sk-hidden--visually\" id=\"a746de40-88f4-4223-a1fb-7e95702fe7f9\" type=\"checkbox\" ><label class=\"sk-toggleable__label\" for=\"a746de40-88f4-4223-a1fb-7e95702fe7f9\">DropFeatures</label><div class=\"sk-toggleable__content\"><pre>DropFeatures(features_to_drop=['Name', 'Ticket', 'Cabin', 'Embarked'])</pre></div></div></div><div class=\"sk-item\"><div class=\"sk-estimator sk-toggleable\"><input class=\"sk-toggleable__control sk-hidden--visually\" id=\"828fcf90-1762-45fa-a31c-1030b9058aa8\" type=\"checkbox\" ><label class=\"sk-toggleable__label\" for=\"828fcf90-1762-45fa-a31c-1030b9058aa8\">MeanMedianImputer</label><div class=\"sk-toggleable__content\"><pre>MeanMedianImputer(imputation_method='mean', variables=['Age', 'Fare'])</pre></div></div></div><div class=\"sk-item\"><div class=\"sk-estimator sk-toggleable\"><input class=\"sk-toggleable__control sk-hidden--visually\" id=\"c8626f5f-9e97-41e3-b706-2f5995cc6a73\" type=\"checkbox\" ><label class=\"sk-toggleable__label\" for=\"c8626f5f-9e97-41e3-b706-2f5995cc6a73\">RandomForestClassifier</label><div class=\"sk-toggleable__content\"><pre>RandomForestClassifier(random_state=0)</pre></div></div></div></div></div></div></div>"
      ],
      "text/plain": [
       "Pipeline(steps=[('mapper',\n",
       "                 Mapper(features=['Sex'], map_dict={'female': 0, 'male': 1})),\n",
       "                ('dropfeatures',\n",
       "                 DropFeatures(features_to_drop=['Name', 'Ticket', 'Cabin',\n",
       "                                                'Embarked'])),\n",
       "                ('meanmedianimputer',\n",
       "                 MeanMedianImputer(imputation_method='mean',\n",
       "                                   variables=['Age', 'Fare'])),\n",
       "                ('randomforestclassifier',\n",
       "                 RandomForestClassifier(random_state=0))])"
      ]
     },
     "execution_count": 1232,
     "metadata": {},
     "output_type": "execute_result"
    }
   ],
   "source": [
    "#dict for enconding \"Sex\"\n",
    "sex_map = {'male':1,\n",
    "           'female':0}\n",
    "pipe_sex_base = make_pipeline(\n",
    "    \n",
    "                        #categorical features transformations\n",
    "                          Mapper(features=['Sex'],map_dict = sex_map),\n",
    "                          DropFeatures(features_to_drop=['Name','Ticket','Cabin','Embarked']),\n",
    "                        # numerical features transformation\n",
    "                          MeanMedianImputer(imputation_method='mean', variables=['Age','Fare']),\n",
    "                        # model  \n",
    "                        RandomForestClassifier(random_state=0))\n",
    "get_cross_score(pipe_sex_base,5)\n",
    "pipe_sex_base"
   ]
  },
  {
   "cell_type": "markdown",
   "id": "85e084e2",
   "metadata": {},
   "source": [
    "Sex improves acc a great deal versus the baseline of 0.6565."
   ]
  },
  {
   "cell_type": "code",
   "execution_count": 1230,
   "id": "81f176e7",
   "metadata": {},
   "outputs": [
    {
     "name": "stdout",
     "output_type": "stream",
     "text": [
      "accuracy of 0.801 and standard deviation of 0.0445\n"
     ]
    },
    {
     "data": {
      "text/html": [
       "<style>#sk-705b6ac3-e576-465e-8c7b-5f99f0718f95 {color: black;background-color: white;}#sk-705b6ac3-e576-465e-8c7b-5f99f0718f95 pre{padding: 0;}#sk-705b6ac3-e576-465e-8c7b-5f99f0718f95 div.sk-toggleable {background-color: white;}#sk-705b6ac3-e576-465e-8c7b-5f99f0718f95 label.sk-toggleable__label {cursor: pointer;display: block;width: 100%;margin-bottom: 0;padding: 0.2em 0.3em;box-sizing: border-box;text-align: center;}#sk-705b6ac3-e576-465e-8c7b-5f99f0718f95 div.sk-toggleable__content {max-height: 0;max-width: 0;overflow: hidden;text-align: left;background-color: #f0f8ff;}#sk-705b6ac3-e576-465e-8c7b-5f99f0718f95 div.sk-toggleable__content pre {margin: 0.2em;color: black;border-radius: 0.25em;background-color: #f0f8ff;}#sk-705b6ac3-e576-465e-8c7b-5f99f0718f95 input.sk-toggleable__control:checked~div.sk-toggleable__content {max-height: 200px;max-width: 100%;overflow: auto;}#sk-705b6ac3-e576-465e-8c7b-5f99f0718f95 div.sk-estimator input.sk-toggleable__control:checked~label.sk-toggleable__label {background-color: #d4ebff;}#sk-705b6ac3-e576-465e-8c7b-5f99f0718f95 div.sk-label input.sk-toggleable__control:checked~label.sk-toggleable__label {background-color: #d4ebff;}#sk-705b6ac3-e576-465e-8c7b-5f99f0718f95 input.sk-hidden--visually {border: 0;clip: rect(1px 1px 1px 1px);clip: rect(1px, 1px, 1px, 1px);height: 1px;margin: -1px;overflow: hidden;padding: 0;position: absolute;width: 1px;}#sk-705b6ac3-e576-465e-8c7b-5f99f0718f95 div.sk-estimator {font-family: monospace;background-color: #f0f8ff;margin: 0.25em 0.25em;border: 1px dotted black;border-radius: 0.25em;box-sizing: border-box;}#sk-705b6ac3-e576-465e-8c7b-5f99f0718f95 div.sk-estimator:hover {background-color: #d4ebff;}#sk-705b6ac3-e576-465e-8c7b-5f99f0718f95 div.sk-parallel-item::after {content: \"\";width: 100%;border-bottom: 1px solid gray;flex-grow: 1;}#sk-705b6ac3-e576-465e-8c7b-5f99f0718f95 div.sk-label:hover label.sk-toggleable__label {background-color: #d4ebff;}#sk-705b6ac3-e576-465e-8c7b-5f99f0718f95 div.sk-serial::before {content: \"\";position: absolute;border-left: 1px solid gray;box-sizing: border-box;top: 2em;bottom: 0;left: 50%;}#sk-705b6ac3-e576-465e-8c7b-5f99f0718f95 div.sk-serial {display: flex;flex-direction: column;align-items: center;background-color: white;}#sk-705b6ac3-e576-465e-8c7b-5f99f0718f95 div.sk-item {z-index: 1;}#sk-705b6ac3-e576-465e-8c7b-5f99f0718f95 div.sk-parallel {display: flex;align-items: stretch;justify-content: center;background-color: white;}#sk-705b6ac3-e576-465e-8c7b-5f99f0718f95 div.sk-parallel-item {display: flex;flex-direction: column;position: relative;background-color: white;}#sk-705b6ac3-e576-465e-8c7b-5f99f0718f95 div.sk-parallel-item:first-child::after {align-self: flex-end;width: 50%;}#sk-705b6ac3-e576-465e-8c7b-5f99f0718f95 div.sk-parallel-item:last-child::after {align-self: flex-start;width: 50%;}#sk-705b6ac3-e576-465e-8c7b-5f99f0718f95 div.sk-parallel-item:only-child::after {width: 0;}#sk-705b6ac3-e576-465e-8c7b-5f99f0718f95 div.sk-dashed-wrapped {border: 1px dashed gray;margin: 0.2em;box-sizing: border-box;padding-bottom: 0.1em;background-color: white;position: relative;}#sk-705b6ac3-e576-465e-8c7b-5f99f0718f95 div.sk-label label {font-family: monospace;font-weight: bold;background-color: white;display: inline-block;line-height: 1.2em;}#sk-705b6ac3-e576-465e-8c7b-5f99f0718f95 div.sk-label-container {position: relative;z-index: 2;text-align: center;}#sk-705b6ac3-e576-465e-8c7b-5f99f0718f95 div.sk-container {display: inline-block;position: relative;}</style><div id=\"sk-705b6ac3-e576-465e-8c7b-5f99f0718f95\" class\"sk-top-container\"><div class=\"sk-container\"><div class=\"sk-item sk-dashed-wrapped\"><div class=\"sk-label-container\"><div class=\"sk-label sk-toggleable\"><input class=\"sk-toggleable__control sk-hidden--visually\" id=\"b2a400d2-ae11-413b-9eb9-3765d05ab250\" type=\"checkbox\" ><label class=\"sk-toggleable__label\" for=\"b2a400d2-ae11-413b-9eb9-3765d05ab250\">Pipeline</label><div class=\"sk-toggleable__content\"><pre>Pipeline(steps=[('get_name', get_name()),\n",
       "                ('rarelabelencoder-1',\n",
       "                 RareLabelEncoder(max_n_categories=8, tol=0,\n",
       "                                  variables=['Name_family'])),\n",
       "                ('rarelabelencoder-2',\n",
       "                 RareLabelEncoder(max_n_categories=4, tol=0,\n",
       "                                  variables=['Name_title'])),\n",
       "                ('onehotencoder',\n",
       "                 OneHotEncoder(variables=['Name_family', 'Name_title'])),\n",
       "                ('mapper',\n",
       "                 Mapper(features=['Sex'], map_dict={'female': 0, 'male': 1})),\n",
       "                ('dropfeatures',\n",
       "                 DropFeatures(features_to_drop=['Name', 'Ticket', 'Cabin',\n",
       "                                                'Embarked'])),\n",
       "                ('meanmedianimputer',\n",
       "                 MeanMedianImputer(imputation_method='mean',\n",
       "                                   variables=['Age', 'Fare'])),\n",
       "                ('randomforestclassifier',\n",
       "                 RandomForestClassifier(random_state=0))])</pre></div></div></div><div class=\"sk-serial\"><div class=\"sk-item\"><div class=\"sk-estimator sk-toggleable\"><input class=\"sk-toggleable__control sk-hidden--visually\" id=\"b2f23b4a-c037-4dd6-adc9-c736a35fbfaa\" type=\"checkbox\" ><label class=\"sk-toggleable__label\" for=\"b2f23b4a-c037-4dd6-adc9-c736a35fbfaa\">get_name</label><div class=\"sk-toggleable__content\"><pre>get_name()</pre></div></div></div><div class=\"sk-item\"><div class=\"sk-estimator sk-toggleable\"><input class=\"sk-toggleable__control sk-hidden--visually\" id=\"f6a97f9d-ae8c-44c4-a683-1d40c7d0c0fe\" type=\"checkbox\" ><label class=\"sk-toggleable__label\" for=\"f6a97f9d-ae8c-44c4-a683-1d40c7d0c0fe\">RareLabelEncoder</label><div class=\"sk-toggleable__content\"><pre>RareLabelEncoder(max_n_categories=8, tol=0, variables=['Name_family'])</pre></div></div></div><div class=\"sk-item\"><div class=\"sk-estimator sk-toggleable\"><input class=\"sk-toggleable__control sk-hidden--visually\" id=\"93dd62b9-b8bc-4096-9598-f70593199b79\" type=\"checkbox\" ><label class=\"sk-toggleable__label\" for=\"93dd62b9-b8bc-4096-9598-f70593199b79\">RareLabelEncoder</label><div class=\"sk-toggleable__content\"><pre>RareLabelEncoder(max_n_categories=4, tol=0, variables=['Name_title'])</pre></div></div></div><div class=\"sk-item\"><div class=\"sk-estimator sk-toggleable\"><input class=\"sk-toggleable__control sk-hidden--visually\" id=\"d1085236-ec99-494a-85e0-ac832f024464\" type=\"checkbox\" ><label class=\"sk-toggleable__label\" for=\"d1085236-ec99-494a-85e0-ac832f024464\">OneHotEncoder</label><div class=\"sk-toggleable__content\"><pre>OneHotEncoder(variables=['Name_family', 'Name_title'])</pre></div></div></div><div class=\"sk-item\"><div class=\"sk-estimator sk-toggleable\"><input class=\"sk-toggleable__control sk-hidden--visually\" id=\"b7c70fcc-0090-4a9e-9335-f9d98e99dd72\" type=\"checkbox\" ><label class=\"sk-toggleable__label\" for=\"b7c70fcc-0090-4a9e-9335-f9d98e99dd72\">Mapper</label><div class=\"sk-toggleable__content\"><pre>Mapper(features=['Sex'], map_dict={'female': 0, 'male': 1})</pre></div></div></div><div class=\"sk-item\"><div class=\"sk-estimator sk-toggleable\"><input class=\"sk-toggleable__control sk-hidden--visually\" id=\"9b8eb3bb-d6f3-4661-9720-93ed208c499f\" type=\"checkbox\" ><label class=\"sk-toggleable__label\" for=\"9b8eb3bb-d6f3-4661-9720-93ed208c499f\">DropFeatures</label><div class=\"sk-toggleable__content\"><pre>DropFeatures(features_to_drop=['Name', 'Ticket', 'Cabin', 'Embarked'])</pre></div></div></div><div class=\"sk-item\"><div class=\"sk-estimator sk-toggleable\"><input class=\"sk-toggleable__control sk-hidden--visually\" id=\"ab9b8407-c001-4edd-9039-8749131fd860\" type=\"checkbox\" ><label class=\"sk-toggleable__label\" for=\"ab9b8407-c001-4edd-9039-8749131fd860\">MeanMedianImputer</label><div class=\"sk-toggleable__content\"><pre>MeanMedianImputer(imputation_method='mean', variables=['Age', 'Fare'])</pre></div></div></div><div class=\"sk-item\"><div class=\"sk-estimator sk-toggleable\"><input class=\"sk-toggleable__control sk-hidden--visually\" id=\"b16bfcef-64fc-4234-822e-1ec495858430\" type=\"checkbox\" ><label class=\"sk-toggleable__label\" for=\"b16bfcef-64fc-4234-822e-1ec495858430\">RandomForestClassifier</label><div class=\"sk-toggleable__content\"><pre>RandomForestClassifier(random_state=0)</pre></div></div></div></div></div></div></div>"
      ],
      "text/plain": [
       "Pipeline(steps=[('get_name', get_name()),\n",
       "                ('rarelabelencoder-1',\n",
       "                 RareLabelEncoder(max_n_categories=8, tol=0,\n",
       "                                  variables=['Name_family'])),\n",
       "                ('rarelabelencoder-2',\n",
       "                 RareLabelEncoder(max_n_categories=4, tol=0,\n",
       "                                  variables=['Name_title'])),\n",
       "                ('onehotencoder',\n",
       "                 OneHotEncoder(variables=['Name_family', 'Name_title'])),\n",
       "                ('mapper',\n",
       "                 Mapper(features=['Sex'], map_dict={'female': 0, 'male': 1})),\n",
       "                ('dropfeatures',\n",
       "                 DropFeatures(features_to_drop=['Name', 'Ticket', 'Cabin',\n",
       "                                                'Embarked'])),\n",
       "                ('meanmedianimputer',\n",
       "                 MeanMedianImputer(imputation_method='mean',\n",
       "                                   variables=['Age', 'Fare'])),\n",
       "                ('randomforestclassifier',\n",
       "                 RandomForestClassifier(random_state=0))])"
      ]
     },
     "execution_count": 1230,
     "metadata": {},
     "output_type": "execute_result"
    }
   ],
   "source": [
    "#dict for enconding \"Sex\"\n",
    "sex_map = {'male':1,\n",
    "           'female':0}\n",
    "pipe_sex = make_pipeline(\n",
    "    \n",
    "                        #categorical features transformations\n",
    "                          get_name(family=True,title=True),\n",
    "                          RareLabelEncoder(max_n_categories=8,tol=0,variables=['Name_family']),\n",
    "                          RareLabelEncoder(max_n_categories=4,tol=0,variables=['Name_title']),\n",
    "                          OneHotEncoder(variables=['Name_family','Name_title']),\n",
    "                          Mapper(features=['Sex'],map_dict = sex_map),\n",
    "                          DropFeatures(features_to_drop=['Name','Ticket','Cabin','Embarked']),\n",
    "                        # numerical features transformation\n",
    "                          MeanMedianImputer(imputation_method='mean', variables=['Age','Fare']),\n",
    "                        # model  \n",
    "                        RandomForestClassifier(random_state=0))\n",
    "get_cross_score(pipe_sex,5)\n",
    "pipe_sex"
   ]
  },
  {
   "cell_type": "markdown",
   "id": "60b3e9ab",
   "metadata": {},
   "source": [
    "If we add Sex on top of Name_title, it doesn't improve accuracy. Probably, Name_title already carries the info about sex, since \"Rare\" has only 16 occurences and women fall under \"Mr\" and \"Mrs\""
   ]
  },
  {
   "cell_type": "code",
   "execution_count": 1245,
   "id": "53a2dec4",
   "metadata": {},
   "outputs": [
    {
     "name": "stderr",
     "output_type": "stream",
     "text": [
      "C:\\Users\\ticom\\anaconda3\\lib\\site-packages\\seaborn\\_decorators.py:36: FutureWarning: Pass the following variables as keyword args: x, y. From version 0.12, the only valid positional argument will be `data`, and passing other arguments without an explicit keyword will result in an error or misinterpretation.\n",
      "  warnings.warn(\n"
     ]
    },
    {
     "data": {
      "image/png": "[encoded data removed]",
      "text/plain": [
       "<Figure size 432x288 with 1 Axes>"
      ]
     },
     "metadata": {
      "needs_background": "light"
     },
     "output_type": "display_data"
    }
   ],
   "source": [
    "import seaborn as sns\n",
    "import matplotlib.pyplot as plt\n",
    "\n",
    "pipe_violin_title_age = make_pipeline(    \n",
    "                        #categorical features transformations\n",
    "                          get_name(family=True,title=True),\n",
    "                          RareLabelEncoder(max_n_categories=8,tol=0,variables=['Name_family']),\n",
    "                          RareLabelEncoder(max_n_categories=4,tol=0,variables=['Name_title']),\n",
    "                          Mapper(features=['Sex'],map_dict=sex_map),\n",
    "                          DropFeatures(features_to_drop=['Name','Ticket','Cabin','Embarked']),\n",
    "                        # numerical features transformation\n",
    "                          MeanMedianImputer(imputation_method='mean', variables=['Age','Fare']),)\n",
    "x_train_2 = pipe_violin_title_age.fit_transform(x_train)\n",
    "\n",
    "sns.violinplot(x_train_2['Name_title'],x_train_2['Age'])\n",
    "plt.title('Violinplot: Title x Age')\n",
    "plt.show()"
   ]
  },
  {
   "cell_type": "markdown",
   "id": "d6120cd5",
   "metadata": {},
   "source": [
    "More so, it even carries some info about age and as seen in the EDA in pt 1 of this notebook, it also carries info about Fare/Pclass."
   ]
  },
  {
   "cell_type": "markdown",
   "id": "eb2d2ffe",
   "metadata": {},
   "source": [
    "# 4.6 Cabin"
   ]
  },
  {
   "cell_type": "code",
   "execution_count": 1287,
   "id": "059d096d",
   "metadata": {},
   "outputs": [],
   "source": [
    "class Cabin_code(BaseEstimator, TransformerMixin):\n",
    "    \"\"\"Create column with first character of the first Cabin and how many cabins\"\"\"\n",
    "    \n",
    "    def __init__(self):\n",
    "        pass\n",
    "    def fit(self, x:pd.DataFrame ,y:pd.Series=None):\n",
    "        return self\n",
    "    \n",
    "    def transform(self,x:pd.DataFrame,y:pd.Series=None):\n",
    "        x = x.copy()\n",
    "        try:\n",
    "            x['Cabin_code'] = x['Cabin'].apply(lambda x: x[0])\n",
    "            x['Cabin_Size'] = x['Cabin'].apply(lambda x: len(x.split(\" \")))\n",
    "        except Exception as err:\n",
    "            print('erro no Cabin_code')\n",
    "            print(err)\n",
    "        return x"
   ]
  },
  {
   "cell_type": "code",
   "execution_count": 1303,
   "id": "ef237683",
   "metadata": {},
   "outputs": [
    {
     "name": "stdout",
     "output_type": "stream",
     "text": [
      "accuracy of 0.7994 and standard deviation of 0.037\n"
     ]
    }
   ],
   "source": [
    "pipe_cabin = make_pipeline(\n",
    "    \n",
    "                        #categorical features transformations\n",
    "                          get_name(family=True,title=True),\n",
    "                          CategoricalImputer(variables='Cabin',fill_value='Missing'),\n",
    "                          Cabin_code(),                          \n",
    "                          OneHotEncoder(top_categories=4, variables=['Name_family','Name_title','Cabin_code']),\n",
    "                          DropFeatures(features_to_drop=['Name','Sex','Ticket','Cabin','Embarked']),\n",
    "                        # numerical features transformation\n",
    "                          MeanMedianImputer(imputation_method='mean', variables=['Age','Fare']),\n",
    "                        # model  \n",
    "                          RandomForestClassifier(random_state=0))\n",
    "get_cross_score(pipe_cabin,5)"
   ]
  },
  {
   "cell_type": "code",
   "execution_count": 1311,
   "id": "62b34a3a",
   "metadata": {},
   "outputs": [
    {
     "name": "stdout",
     "output_type": "stream",
     "text": [
      "accuracy of 0.7994 and standard deviation of 0.037\n"
     ]
    }
   ],
   "source": [
    "pipe_cabin = make_pipeline(\n",
    "                        #categorical features transformations\n",
    "                          get_name(family=True,title=True),\n",
    "                          CategoricalImputer(variables='Cabin',fill_value='?'),\n",
    "                          Cabin_code(),\n",
    "                          #RareLabelEncoder(max_n_categories=8,tol=0,variables=['Name_family']),\n",
    "                          #RareLabelEncoder(max_n_categories=4,tol=0,variables=['Name_title']),\n",
    "                          #fix_rare_labels(variables=['Cabin_code'], threshold=[25]),\n",
    "                          OneHotEncoder(top_categories=4, variables=['Name_family','Name_title','Cabin_code']),\n",
    "                          DropFeatures(features_to_drop=['Name','Sex','Ticket','Cabin','Embarked']),\n",
    "                        # numerical features transformation\n",
    "                          MeanMedianImputer(imputation_method='mean', variables=['Age','Fare']),\n",
    "                        # model  \n",
    "                          RandomForestClassifier(random_state=0))\n",
    "get_cross_score(pipe_cabin,5)"
   ]
  },
  {
   "cell_type": "code",
   "execution_count": 1299,
   "id": "20148819",
   "metadata": {},
   "outputs": [
    {
     "data": {
      "text/plain": [
       "?    471\n",
       "C     42\n",
       "B     31\n",
       "E     27\n",
       "D     26\n",
       "A     14\n",
       "F      9\n",
       "G      2\n",
       "T      1\n",
       "Name: Cabin_code, dtype: int64"
      ]
     },
     "execution_count": 1299,
     "metadata": {},
     "output_type": "execute_result"
    }
   ],
   "source": [
    "pipe_cabin = make_pipeline(\n",
    "                        #categorical features transformations\n",
    "                          get_name(family=True,title=True),\n",
    "                          CategoricalImputer(variables='Cabin',fill_value='?'),\n",
    "                          Cabin_code(),\n",
    "                          RareLabelEncoder(max_n_categories=8,tol=0,variables=['Name_family']),\n",
    "                          RareLabelEncoder(max_n_categories=4,tol=0,variables=['Name_title']),\n",
    "                          RareLabelEncoder(max_n_categories=4,tol=0,variables=['Cabin_code']),)\n",
    "x_cabin = pipe_cabin.fit_transform(x_train)\n",
    "x_cabin['Cabin_code'].value_counts()"
   ]
  },
  {
   "cell_type": "markdown",
   "id": "f367d25f",
   "metadata": {},
   "source": [
    "# 4.7 Embarked "
   ]
  },
  {
   "cell_type": "code",
   "execution_count": null,
   "id": "3cbaa790",
   "metadata": {},
   "outputs": [],
   "source": []
  },
  {
   "cell_type": "markdown",
   "id": "0d7d922f",
   "metadata": {},
   "source": [
    "# ======== why does my custom rare label encoder lowers the acc?\n",
    "\n",
    "It seem to be doing the same thing. switching rarelabelencoder to tol=0.005 also decreases the acc but it shouldn't do anything diferent."
   ]
  },
  {
   "cell_type": "code",
   "execution_count": 1178,
   "id": "a0b4f08a",
   "metadata": {},
   "outputs": [
    {
     "name": "stdout",
     "output_type": "stream",
     "text": [
      "accuracy of 0.7946 and standard deviation of 0.0466\n"
     ]
    }
   ],
   "source": [
    "pipe_test = make_pipeline(    \n",
    "                        #categorical features transformations\n",
    "                          get_name(family=True,title=True),\n",
    "                          fix_rare_labels(variables=['Name_family', 'Name_title'], threshold=[3,10]),\n",
    "                          OneHotEncoder(variables=['Name_family','Name_title']),\n",
    "                          DropFeatures(features_to_drop=['Name','Sex','Ticket','Cabin','Embarked']),\n",
    "                        # numerical features transformation\n",
    "                          MeanMedianImputer(imputation_method='mean', variables=['Age','Fare']),\n",
    "                        # model  \n",
    "                        RandomForestClassifier(random_state=0))\n",
    "get_cross_score(pipe_test,5)"
   ]
  },
  {
   "cell_type": "code",
   "execution_count": 1211,
   "id": "8b52b988",
   "metadata": {},
   "outputs": [
    {
     "data": {
      "text/plain": [
       "Rare         585\n",
       "Andersson      7\n",
       "Sage           7\n",
       "Goodwin        4\n",
       "Lefebre        4\n",
       "Brown          4\n",
       "Rice           4\n",
       "Ford           4\n",
       "Carter         4\n",
       "Name: Name_family, dtype: int64"
      ]
     },
     "execution_count": 1211,
     "metadata": {},
     "output_type": "execute_result"
    }
   ],
   "source": [
    "pipe_test = make_pipeline(    \n",
    "                        #categorical features transformations\n",
    "                          get_name(family=True,title=True),\n",
    "                          RareLabelEncoder(tol=0.005,variables=['Name_family']),\n",
    "                          RareLabelEncoder(tol=0.005,variables=['Name_title']),)\n",
    "x_sex = pipe_test.fit_transform(x_train)\n",
    "x_sex[\"Name_family\"].value_counts()"
   ]
  },
  {
   "cell_type": "code",
   "execution_count": 1191,
   "id": "663861d2",
   "metadata": {},
   "outputs": [
    {
     "data": {
      "text/plain": [
       "0.006420545746388443"
      ]
     },
     "execution_count": 1191,
     "metadata": {},
     "output_type": "execute_result"
    }
   ],
   "source": [
    "4/len(x_train)"
   ]
  },
  {
   "cell_type": "code",
   "execution_count": 1172,
   "id": "01bc83e6",
   "metadata": {},
   "outputs": [
    {
     "data": {
      "text/plain": [
       "Rare         585\n",
       "Andersson      7\n",
       "Sage           7\n",
       "Goodwin        4\n",
       "Lefebre        4\n",
       "Brown          4\n",
       "Rice           4\n",
       "Ford           4\n",
       "Carter         4\n",
       "Name: Name_family, dtype: int64"
      ]
     },
     "execution_count": 1172,
     "metadata": {},
     "output_type": "execute_result"
    }
   ],
   "source": [
    "pipe_test = make_pipeline(    \n",
    "                        #categorical features transformations\n",
    "                          get_name(family=True,title=True),\n",
    "                          fix_rare_labels(variables=['Name_family', 'Name_title'], threshold=[3,10]))\n",
    "x_sex = pipe_test.fit_transform(x_train)\n",
    "x_sex[\"Name_family\"].value_counts()"
   ]
  },
  {
   "cell_type": "markdown",
   "id": "084a90ec",
   "metadata": {},
   "source": [
    "# Under development\n",
    "# =========below this line, everything is \"thrash\" code ============"
   ]
  },
  {
   "cell_type": "markdown",
   "id": "4033cb42",
   "metadata": {},
   "source": [
    "## Scikit-learn approach\n",
    "\n",
    "Using pipeline and column transformers"
   ]
  },
  {
   "cell_type": "code",
   "execution_count": 109,
   "id": "20d8d488",
   "metadata": {},
   "outputs": [],
   "source": [
    "cat_pipe = make_pipeline( SimpleImputer(missing_values=np.nan, strategy='most_frequent', add_indicator=False),\n",
    "                                    OneHotSK(handle_unknown='ignore'))\n",
    "\n",
    "num_pipe = make_pipeline( SimpleImputer(missing_values=np.nan, strategy='median',add_indicator=False))\n",
    "\n",
    "pipe_merge = ColumnTransformer( [(\"numeric_transf\", num_pipe, make_column_selector(dtype_exclude=object)),\n",
    "                                        (\"categorical_transf\", cat_pipe, make_column_selector(dtype_include=object))])\n"
   ]
  },
  {
   "cell_type": "code",
   "execution_count": 110,
   "id": "b7e9a698",
   "metadata": {},
   "outputs": [],
   "source": [
    "sk_pipe = Pipeline(steps=[\n",
    "                    ('Fix dtype',dtype_fix),\n",
    "                    ('Get name infos',get_name),\n",
    "                    ('Get cabin infos', Cabin_code()),\n",
    "                    return_title\n",
    "                    ('Encode SEX', Mapper(features=['Sex'],map_dict = sex_map)),\n",
    "                    ('Merge Cat and Num',pipe_merge),\n",
    "                    ('RF model',RandomForestClassifier(random_state=0))])"
   ]
  },
  {
   "cell_type": "code",
   "execution_count": 111,
   "id": "8e49b16a",
   "metadata": {},
   "outputs": [
    {
     "name": "stdout",
     "output_type": "stream",
     "text": [
      "accuracy of 0.8121 and standard deviation of 0.0415\n"
     ]
    }
   ],
   "source": [
    "get_cross_score(sk_pipe)"
   ]
  },
  {
   "cell_type": "code",
   "execution_count": 104,
   "id": "9d4e5fef",
   "metadata": {},
   "outputs": [],
   "source": [
    "from sklearn import set_config  \n",
    "set_config(display='diagram')  "
   ]
  },
  {
   "cell_type": "code",
   "execution_count": 105,
   "id": "fbee8490",
   "metadata": {},
   "outputs": [
    {
     "data": {
      "text/html": [
       "<style>#sk-f98ee9a6-cf22-4362-99a3-188c13e307db {color: black;background-color: white;}#sk-f98ee9a6-cf22-4362-99a3-188c13e307db pre{padding: 0;}#sk-f98ee9a6-cf22-4362-99a3-188c13e307db div.sk-toggleable {background-color: white;}#sk-f98ee9a6-cf22-4362-99a3-188c13e307db label.sk-toggleable__label {cursor: pointer;display: block;width: 100%;margin-bottom: 0;padding: 0.2em 0.3em;box-sizing: border-box;text-align: center;}#sk-f98ee9a6-cf22-4362-99a3-188c13e307db div.sk-toggleable__content {max-height: 0;max-width: 0;overflow: hidden;text-align: left;background-color: #f0f8ff;}#sk-f98ee9a6-cf22-4362-99a3-188c13e307db div.sk-toggleable__content pre {margin: 0.2em;color: black;border-radius: 0.25em;background-color: #f0f8ff;}#sk-f98ee9a6-cf22-4362-99a3-188c13e307db input.sk-toggleable__control:checked~div.sk-toggleable__content {max-height: 200px;max-width: 100%;overflow: auto;}#sk-f98ee9a6-cf22-4362-99a3-188c13e307db div.sk-estimator input.sk-toggleable__control:checked~label.sk-toggleable__label {background-color: #d4ebff;}#sk-f98ee9a6-cf22-4362-99a3-188c13e307db div.sk-label input.sk-toggleable__control:checked~label.sk-toggleable__label {background-color: #d4ebff;}#sk-f98ee9a6-cf22-4362-99a3-188c13e307db input.sk-hidden--visually {border: 0;clip: rect(1px 1px 1px 1px);clip: rect(1px, 1px, 1px, 1px);height: 1px;margin: -1px;overflow: hidden;padding: 0;position: absolute;width: 1px;}#sk-f98ee9a6-cf22-4362-99a3-188c13e307db div.sk-estimator {font-family: monospace;background-color: #f0f8ff;margin: 0.25em 0.25em;border: 1px dotted black;border-radius: 0.25em;box-sizing: border-box;}#sk-f98ee9a6-cf22-4362-99a3-188c13e307db div.sk-estimator:hover {background-color: #d4ebff;}#sk-f98ee9a6-cf22-4362-99a3-188c13e307db div.sk-parallel-item::after {content: \"\";width: 100%;border-bottom: 1px solid gray;flex-grow: 1;}#sk-f98ee9a6-cf22-4362-99a3-188c13e307db div.sk-label:hover label.sk-toggleable__label {background-color: #d4ebff;}#sk-f98ee9a6-cf22-4362-99a3-188c13e307db div.sk-serial::before {content: \"\";position: absolute;border-left: 1px solid gray;box-sizing: border-box;top: 2em;bottom: 0;left: 50%;}#sk-f98ee9a6-cf22-4362-99a3-188c13e307db div.sk-serial {display: flex;flex-direction: column;align-items: center;background-color: white;}#sk-f98ee9a6-cf22-4362-99a3-188c13e307db div.sk-item {z-index: 1;}#sk-f98ee9a6-cf22-4362-99a3-188c13e307db div.sk-parallel {display: flex;align-items: stretch;justify-content: center;background-color: white;}#sk-f98ee9a6-cf22-4362-99a3-188c13e307db div.sk-parallel-item {display: flex;flex-direction: column;position: relative;background-color: white;}#sk-f98ee9a6-cf22-4362-99a3-188c13e307db div.sk-parallel-item:first-child::after {align-self: flex-end;width: 50%;}#sk-f98ee9a6-cf22-4362-99a3-188c13e307db div.sk-parallel-item:last-child::after {align-self: flex-start;width: 50%;}#sk-f98ee9a6-cf22-4362-99a3-188c13e307db div.sk-parallel-item:only-child::after {width: 0;}#sk-f98ee9a6-cf22-4362-99a3-188c13e307db div.sk-dashed-wrapped {border: 1px dashed gray;margin: 0.2em;box-sizing: border-box;padding-bottom: 0.1em;background-color: white;position: relative;}#sk-f98ee9a6-cf22-4362-99a3-188c13e307db div.sk-label label {font-family: monospace;font-weight: bold;background-color: white;display: inline-block;line-height: 1.2em;}#sk-f98ee9a6-cf22-4362-99a3-188c13e307db div.sk-label-container {position: relative;z-index: 2;text-align: center;}#sk-f98ee9a6-cf22-4362-99a3-188c13e307db div.sk-container {display: inline-block;position: relative;}</style><div id=\"sk-f98ee9a6-cf22-4362-99a3-188c13e307db\" class\"sk-top-container\"><div class=\"sk-container\"><div class=\"sk-item sk-dashed-wrapped\"><div class=\"sk-label-container\"><div class=\"sk-label sk-toggleable\"><input class=\"sk-toggleable__control sk-hidden--visually\" id=\"89524702-60bf-4548-8a59-14437caa55a5\" type=\"checkbox\" ><label class=\"sk-toggleable__label\" for=\"89524702-60bf-4548-8a59-14437caa55a5\">Pipeline</label><div class=\"sk-toggleable__content\"><pre>Pipeline(steps=[('Fix dtype',\n",
       "                 FunctionTransformer(func=<function corrige_type at 0x0000025CFFD061F0>)),\n",
       "                ('Get name infos',\n",
       "                 FunctionTransformer(func=<function name_information at 0x0000025CFFCB31F0>)),\n",
       "                ('Get cabin infos', Cabin_code()),\n",
       "                ('Encode SEX',\n",
       "                 Mapper(features=['Sex'],\n",
       "                        map_dict={'?': -999, 'female': 0, 'male': 1})),\n",
       "                ('Merge Cat and Num',\n",
       "                 ColumnTransformer(transformers=[('...\n",
       "                                                  <sklearn.compose._column_transformer.make_column_selector object at 0x0000025CFFD8BD90>),\n",
       "                                                 ('categorical_transf',\n",
       "                                                  Pipeline(steps=[('simpleimputer',\n",
       "                                                                   SimpleImputer(strategy='most_frequent')),\n",
       "                                                                  ('onehotencoder',\n",
       "                                                                   OneHotEncoder(handle_unknown='ignore'))]),\n",
       "                                                  <sklearn.compose._column_transformer.make_column_selector object at 0x0000025CFFD8B1F0>)])),\n",
       "                ('RF model', RandomForestClassifier(random_state=0))])</pre></div></div></div><div class=\"sk-serial\"><div class=\"sk-item\"><div class=\"sk-estimator sk-toggleable\"><input class=\"sk-toggleable__control sk-hidden--visually\" id=\"524220a6-c704-4289-a9b8-65a9ffe537c9\" type=\"checkbox\" ><label class=\"sk-toggleable__label\" for=\"524220a6-c704-4289-a9b8-65a9ffe537c9\">FunctionTransformer</label><div class=\"sk-toggleable__content\"><pre>FunctionTransformer(func=<function corrige_type at 0x0000025CFFD061F0>)</pre></div></div></div><div class=\"sk-item\"><div class=\"sk-estimator sk-toggleable\"><input class=\"sk-toggleable__control sk-hidden--visually\" id=\"c9565032-8b1c-4aac-8383-91008415e1ec\" type=\"checkbox\" ><label class=\"sk-toggleable__label\" for=\"c9565032-8b1c-4aac-8383-91008415e1ec\">FunctionTransformer</label><div class=\"sk-toggleable__content\"><pre>FunctionTransformer(func=<function name_information at 0x0000025CFFCB31F0>)</pre></div></div></div><div class=\"sk-item\"><div class=\"sk-estimator sk-toggleable\"><input class=\"sk-toggleable__control sk-hidden--visually\" id=\"36d94762-a6cf-4a14-956a-908ce8f8f8a0\" type=\"checkbox\" ><label class=\"sk-toggleable__label\" for=\"36d94762-a6cf-4a14-956a-908ce8f8f8a0\">Cabin_code</label><div class=\"sk-toggleable__content\"><pre>Cabin_code()</pre></div></div></div><div class=\"sk-item\"><div class=\"sk-estimator sk-toggleable\"><input class=\"sk-toggleable__control sk-hidden--visually\" id=\"e518e19d-3d98-4e72-a36d-b4c113bb65dd\" type=\"checkbox\" ><label class=\"sk-toggleable__label\" for=\"e518e19d-3d98-4e72-a36d-b4c113bb65dd\">Mapper</label><div class=\"sk-toggleable__content\"><pre>Mapper(features=['Sex'], map_dict={'?': -999, 'female': 0, 'male': 1})</pre></div></div></div><div class=\"sk-item sk-dashed-wrapped\"><div class=\"sk-label-container\"><div class=\"sk-label sk-toggleable\"><input class=\"sk-toggleable__control sk-hidden--visually\" id=\"8df582f7-4771-414c-9a73-497b87d8b4c4\" type=\"checkbox\" ><label class=\"sk-toggleable__label\" for=\"8df582f7-4771-414c-9a73-497b87d8b4c4\">Merge Cat and Num: ColumnTransformer</label><div class=\"sk-toggleable__content\"><pre>ColumnTransformer(transformers=[('numeric_transf',\n",
       "                                 Pipeline(steps=[('simpleimputer',\n",
       "                                                  SimpleImputer(strategy='median'))]),\n",
       "                                 <sklearn.compose._column_transformer.make_column_selector object at 0x0000025CFFD8BD90>),\n",
       "                                ('categorical_transf',\n",
       "                                 Pipeline(steps=[('simpleimputer',\n",
       "                                                  SimpleImputer(strategy='most_frequent')),\n",
       "                                                 ('onehotencoder',\n",
       "                                                  OneHotEncoder(handle_unknown='ignore'))]),\n",
       "                                 <sklearn.compose._column_transformer.make_column_selector object at 0x0000025CFFD8B1F0>)])</pre></div></div></div><div class=\"sk-parallel\"><div class=\"sk-parallel-item\"><div class=\"sk-item\"><div class=\"sk-label-container\"><div class=\"sk-label sk-toggleable\"><input class=\"sk-toggleable__control sk-hidden--visually\" id=\"13f0767e-6b22-4ae6-ab58-2719a706ba95\" type=\"checkbox\" ><label class=\"sk-toggleable__label\" for=\"13f0767e-6b22-4ae6-ab58-2719a706ba95\">numeric_transf</label><div class=\"sk-toggleable__content\"><pre><sklearn.compose._column_transformer.make_column_selector object at 0x0000025CFFD8BD90></pre></div></div></div><div class=\"sk-serial\"><div class=\"sk-item\"><div class=\"sk-serial\"><div class=\"sk-item\"><div class=\"sk-estimator sk-toggleable\"><input class=\"sk-toggleable__control sk-hidden--visually\" id=\"ee58ad2f-8b2c-44c8-9a5c-577e5cc17fb5\" type=\"checkbox\" ><label class=\"sk-toggleable__label\" for=\"ee58ad2f-8b2c-44c8-9a5c-577e5cc17fb5\">SimpleImputer</label><div class=\"sk-toggleable__content\"><pre>SimpleImputer(strategy='median')</pre></div></div></div></div></div></div></div></div><div class=\"sk-parallel-item\"><div class=\"sk-item\"><div class=\"sk-label-container\"><div class=\"sk-label sk-toggleable\"><input class=\"sk-toggleable__control sk-hidden--visually\" id=\"156ee923-e8ca-476c-a5be-71788308d43d\" type=\"checkbox\" ><label class=\"sk-toggleable__label\" for=\"156ee923-e8ca-476c-a5be-71788308d43d\">categorical_transf</label><div class=\"sk-toggleable__content\"><pre><sklearn.compose._column_transformer.make_column_selector object at 0x0000025CFFD8B1F0></pre></div></div></div><div class=\"sk-serial\"><div class=\"sk-item\"><div class=\"sk-serial\"><div class=\"sk-item\"><div class=\"sk-estimator sk-toggleable\"><input class=\"sk-toggleable__control sk-hidden--visually\" id=\"5304d4f4-3af1-4cd1-a021-cc6a5872e028\" type=\"checkbox\" ><label class=\"sk-toggleable__label\" for=\"5304d4f4-3af1-4cd1-a021-cc6a5872e028\">SimpleImputer</label><div class=\"sk-toggleable__content\"><pre>SimpleImputer(strategy='most_frequent')</pre></div></div></div><div class=\"sk-item\"><div class=\"sk-estimator sk-toggleable\"><input class=\"sk-toggleable__control sk-hidden--visually\" id=\"0ac3635a-090a-4dfb-9a08-62791e7e3fd8\" type=\"checkbox\" ><label class=\"sk-toggleable__label\" for=\"0ac3635a-090a-4dfb-9a08-62791e7e3fd8\">OneHotEncoder</label><div class=\"sk-toggleable__content\"><pre>OneHotEncoder(handle_unknown='ignore')</pre></div></div></div></div></div></div></div></div></div></div><div class=\"sk-item\"><div class=\"sk-estimator sk-toggleable\"><input class=\"sk-toggleable__control sk-hidden--visually\" id=\"9327fea3-9318-487f-b23b-3dfffd45c98b\" type=\"checkbox\" ><label class=\"sk-toggleable__label\" for=\"9327fea3-9318-487f-b23b-3dfffd45c98b\">RandomForestClassifier</label><div class=\"sk-toggleable__content\"><pre>RandomForestClassifier(random_state=0)</pre></div></div></div></div></div></div></div>"
      ],
      "text/plain": [
       "Pipeline(steps=[('Fix dtype',\n",
       "                 FunctionTransformer(func=<function corrige_type at 0x0000025CFFD061F0>)),\n",
       "                ('Get name infos',\n",
       "                 FunctionTransformer(func=<function name_information at 0x0000025CFFCB31F0>)),\n",
       "                ('Get cabin infos', Cabin_code()),\n",
       "                ('Encode SEX',\n",
       "                 Mapper(features=['Sex'],\n",
       "                        map_dict={'?': -999, 'female': 0, 'male': 1})),\n",
       "                ('Merge Cat and Num',\n",
       "                 ColumnTransformer(transformers=[('...\n",
       "                                                  <sklearn.compose._column_transformer.make_column_selector object at 0x0000025CFFD8BD90>),\n",
       "                                                 ('categorical_transf',\n",
       "                                                  Pipeline(steps=[('simpleimputer',\n",
       "                                                                   SimpleImputer(strategy='most_frequent')),\n",
       "                                                                  ('onehotencoder',\n",
       "                                                                   OneHotEncoder(handle_unknown='ignore'))]),\n",
       "                                                  <sklearn.compose._column_transformer.make_column_selector object at 0x0000025CFFD8B1F0>)])),\n",
       "                ('RF model', RandomForestClassifier(random_state=0))])"
      ]
     },
     "execution_count": 105,
     "metadata": {},
     "output_type": "execute_result"
    }
   ],
   "source": [
    "sk_pipe"
   ]
  },
  {
   "cell_type": "markdown",
   "id": "b5e6550c",
   "metadata": {},
   "source": [
    "## Feature-engine approach"
   ]
  },
  {
   "cell_type": "code",
   "execution_count": 106,
   "id": "4f92c291",
   "metadata": {},
   "outputs": [],
   "source": [
    "#basic pre processing \n",
    "pipe_pp = make_pipeline(\n",
    "                        MeanMedianImputer(imputation_method='mean', variables=['Age']),\n",
    "                        Fill_na_transf(fill_na=\"?\"),\n",
    "                        Cabin_code(),\n",
    "                        Get_title(),\n",
    "                        Mapper(features=['Sex'],map_dict = sex_map),\n",
    "                        OneHotEncoder(top_categories = 3, variables=['Cabin_code','Title','Embarked']),\n",
    "                        DropFeatures(features_to_drop=['Name','Ticket','Cabin']),)"
   ]
  },
  {
   "cell_type": "code",
   "execution_count": 107,
   "id": "2c049fe0",
   "metadata": {},
   "outputs": [
    {
     "data": {
      "text/html": [
       "<style>#sk-b47a3e0e-ce1c-4f4a-a559-45ebef9470ac {color: black;background-color: white;}#sk-b47a3e0e-ce1c-4f4a-a559-45ebef9470ac pre{padding: 0;}#sk-b47a3e0e-ce1c-4f4a-a559-45ebef9470ac div.sk-toggleable {background-color: white;}#sk-b47a3e0e-ce1c-4f4a-a559-45ebef9470ac label.sk-toggleable__label {cursor: pointer;display: block;width: 100%;margin-bottom: 0;padding: 0.2em 0.3em;box-sizing: border-box;text-align: center;}#sk-b47a3e0e-ce1c-4f4a-a559-45ebef9470ac div.sk-toggleable__content {max-height: 0;max-width: 0;overflow: hidden;text-align: left;background-color: #f0f8ff;}#sk-b47a3e0e-ce1c-4f4a-a559-45ebef9470ac div.sk-toggleable__content pre {margin: 0.2em;color: black;border-radius: 0.25em;background-color: #f0f8ff;}#sk-b47a3e0e-ce1c-4f4a-a559-45ebef9470ac input.sk-toggleable__control:checked~div.sk-toggleable__content {max-height: 200px;max-width: 100%;overflow: auto;}#sk-b47a3e0e-ce1c-4f4a-a559-45ebef9470ac div.sk-estimator input.sk-toggleable__control:checked~label.sk-toggleable__label {background-color: #d4ebff;}#sk-b47a3e0e-ce1c-4f4a-a559-45ebef9470ac div.sk-label input.sk-toggleable__control:checked~label.sk-toggleable__label {background-color: #d4ebff;}#sk-b47a3e0e-ce1c-4f4a-a559-45ebef9470ac input.sk-hidden--visually {border: 0;clip: rect(1px 1px 1px 1px);clip: rect(1px, 1px, 1px, 1px);height: 1px;margin: -1px;overflow: hidden;padding: 0;position: absolute;width: 1px;}#sk-b47a3e0e-ce1c-4f4a-a559-45ebef9470ac div.sk-estimator {font-family: monospace;background-color: #f0f8ff;margin: 0.25em 0.25em;border: 1px dotted black;border-radius: 0.25em;box-sizing: border-box;}#sk-b47a3e0e-ce1c-4f4a-a559-45ebef9470ac div.sk-estimator:hover {background-color: #d4ebff;}#sk-b47a3e0e-ce1c-4f4a-a559-45ebef9470ac div.sk-parallel-item::after {content: \"\";width: 100%;border-bottom: 1px solid gray;flex-grow: 1;}#sk-b47a3e0e-ce1c-4f4a-a559-45ebef9470ac div.sk-label:hover label.sk-toggleable__label {background-color: #d4ebff;}#sk-b47a3e0e-ce1c-4f4a-a559-45ebef9470ac div.sk-serial::before {content: \"\";position: absolute;border-left: 1px solid gray;box-sizing: border-box;top: 2em;bottom: 0;left: 50%;}#sk-b47a3e0e-ce1c-4f4a-a559-45ebef9470ac div.sk-serial {display: flex;flex-direction: column;align-items: center;background-color: white;}#sk-b47a3e0e-ce1c-4f4a-a559-45ebef9470ac div.sk-item {z-index: 1;}#sk-b47a3e0e-ce1c-4f4a-a559-45ebef9470ac div.sk-parallel {display: flex;align-items: stretch;justify-content: center;background-color: white;}#sk-b47a3e0e-ce1c-4f4a-a559-45ebef9470ac div.sk-parallel-item {display: flex;flex-direction: column;position: relative;background-color: white;}#sk-b47a3e0e-ce1c-4f4a-a559-45ebef9470ac div.sk-parallel-item:first-child::after {align-self: flex-end;width: 50%;}#sk-b47a3e0e-ce1c-4f4a-a559-45ebef9470ac div.sk-parallel-item:last-child::after {align-self: flex-start;width: 50%;}#sk-b47a3e0e-ce1c-4f4a-a559-45ebef9470ac div.sk-parallel-item:only-child::after {width: 0;}#sk-b47a3e0e-ce1c-4f4a-a559-45ebef9470ac div.sk-dashed-wrapped {border: 1px dashed gray;margin: 0.2em;box-sizing: border-box;padding-bottom: 0.1em;background-color: white;position: relative;}#sk-b47a3e0e-ce1c-4f4a-a559-45ebef9470ac div.sk-label label {font-family: monospace;font-weight: bold;background-color: white;display: inline-block;line-height: 1.2em;}#sk-b47a3e0e-ce1c-4f4a-a559-45ebef9470ac div.sk-label-container {position: relative;z-index: 2;text-align: center;}#sk-b47a3e0e-ce1c-4f4a-a559-45ebef9470ac div.sk-container {display: inline-block;position: relative;}</style><div id=\"sk-b47a3e0e-ce1c-4f4a-a559-45ebef9470ac\" class\"sk-top-container\"><div class=\"sk-container\"><div class=\"sk-item sk-dashed-wrapped\"><div class=\"sk-label-container\"><div class=\"sk-label sk-toggleable\"><input class=\"sk-toggleable__control sk-hidden--visually\" id=\"33866dae-34b0-46d1-8d5d-43d8e981c900\" type=\"checkbox\" ><label class=\"sk-toggleable__label\" for=\"33866dae-34b0-46d1-8d5d-43d8e981c900\">Pipeline</label><div class=\"sk-toggleable__content\"><pre>Pipeline(steps=[('meanmedianimputer',\n",
       "                 MeanMedianImputer(imputation_method='mean',\n",
       "                                   variables=['Age'])),\n",
       "                ('fill_na_transf', Fill_na_transf(fill_na='?')),\n",
       "                ('cabin_code', Cabin_code()), ('get_title', Get_title()),\n",
       "                ('mapper',\n",
       "                 Mapper(features=['Sex'],\n",
       "                        map_dict={'?': -999, 'female': 0, 'male': 1})),\n",
       "                ('onehotencoder',\n",
       "                 OneHotEncoder(top_categories=3,\n",
       "                               variables=['Cabin_code', 'Title', 'Embarked'])),\n",
       "                ('dropfeatures',\n",
       "                 DropFeatures(features_to_drop=['Name', 'Ticket', 'Cabin']))])</pre></div></div></div><div class=\"sk-serial\"><div class=\"sk-item\"><div class=\"sk-estimator sk-toggleable\"><input class=\"sk-toggleable__control sk-hidden--visually\" id=\"1cb4b0af-5fe1-4d48-b2ed-32ff651d2148\" type=\"checkbox\" ><label class=\"sk-toggleable__label\" for=\"1cb4b0af-5fe1-4d48-b2ed-32ff651d2148\">MeanMedianImputer</label><div class=\"sk-toggleable__content\"><pre>MeanMedianImputer(imputation_method='mean', variables=['Age'])</pre></div></div></div><div class=\"sk-item\"><div class=\"sk-estimator sk-toggleable\"><input class=\"sk-toggleable__control sk-hidden--visually\" id=\"9aa31903-659e-4942-8d57-4332c56f7eb1\" type=\"checkbox\" ><label class=\"sk-toggleable__label\" for=\"9aa31903-659e-4942-8d57-4332c56f7eb1\">Fill_na_transf</label><div class=\"sk-toggleable__content\"><pre>Fill_na_transf(fill_na='?')</pre></div></div></div><div class=\"sk-item\"><div class=\"sk-estimator sk-toggleable\"><input class=\"sk-toggleable__control sk-hidden--visually\" id=\"853c43d4-a19e-4dd3-a99f-26e09abadf9f\" type=\"checkbox\" ><label class=\"sk-toggleable__label\" for=\"853c43d4-a19e-4dd3-a99f-26e09abadf9f\">Cabin_code</label><div class=\"sk-toggleable__content\"><pre>Cabin_code()</pre></div></div></div><div class=\"sk-item\"><div class=\"sk-estimator sk-toggleable\"><input class=\"sk-toggleable__control sk-hidden--visually\" id=\"a97e08cc-bc71-4662-bf56-b62037b0f348\" type=\"checkbox\" ><label class=\"sk-toggleable__label\" for=\"a97e08cc-bc71-4662-bf56-b62037b0f348\">Get_title</label><div class=\"sk-toggleable__content\"><pre>Get_title()</pre></div></div></div><div class=\"sk-item\"><div class=\"sk-estimator sk-toggleable\"><input class=\"sk-toggleable__control sk-hidden--visually\" id=\"bf2f5ddf-e6c5-4455-bd2e-032b58d27108\" type=\"checkbox\" ><label class=\"sk-toggleable__label\" for=\"bf2f5ddf-e6c5-4455-bd2e-032b58d27108\">Mapper</label><div class=\"sk-toggleable__content\"><pre>Mapper(features=['Sex'], map_dict={'?': -999, 'female': 0, 'male': 1})</pre></div></div></div><div class=\"sk-item\"><div class=\"sk-estimator sk-toggleable\"><input class=\"sk-toggleable__control sk-hidden--visually\" id=\"2bb5d7ae-20bc-4453-a9f0-eb1f2269d5bd\" type=\"checkbox\" ><label class=\"sk-toggleable__label\" for=\"2bb5d7ae-20bc-4453-a9f0-eb1f2269d5bd\">OneHotEncoder</label><div class=\"sk-toggleable__content\"><pre>OneHotEncoder(top_categories=3, variables=['Cabin_code', 'Title', 'Embarked'])</pre></div></div></div><div class=\"sk-item\"><div class=\"sk-estimator sk-toggleable\"><input class=\"sk-toggleable__control sk-hidden--visually\" id=\"614db277-a9ea-40af-ba8b-6c5adb009184\" type=\"checkbox\" ><label class=\"sk-toggleable__label\" for=\"614db277-a9ea-40af-ba8b-6c5adb009184\">DropFeatures</label><div class=\"sk-toggleable__content\"><pre>DropFeatures(features_to_drop=['Name', 'Ticket', 'Cabin'])</pre></div></div></div></div></div></div></div>"
      ],
      "text/plain": [
       "Pipeline(steps=[('meanmedianimputer',\n",
       "                 MeanMedianImputer(imputation_method='mean',\n",
       "                                   variables=['Age'])),\n",
       "                ('fill_na_transf', Fill_na_transf(fill_na='?')),\n",
       "                ('cabin_code', Cabin_code()), ('get_title', Get_title()),\n",
       "                ('mapper',\n",
       "                 Mapper(features=['Sex'],\n",
       "                        map_dict={'?': -999, 'female': 0, 'male': 1})),\n",
       "                ('onehotencoder',\n",
       "                 OneHotEncoder(top_categories=3,\n",
       "                               variables=['Cabin_code', 'Title', 'Embarked'])),\n",
       "                ('dropfeatures',\n",
       "                 DropFeatures(features_to_drop=['Name', 'Ticket', 'Cabin']))])"
      ]
     },
     "execution_count": 107,
     "metadata": {},
     "output_type": "execute_result"
    }
   ],
   "source": [
    "pipe_pp"
   ]
  },
  {
   "cell_type": "code",
   "execution_count": 33,
   "id": "cc9cba40",
   "metadata": {},
   "outputs": [
    {
     "data": {
      "text/html": [
       "<div>\n",
       "<style scoped>\n",
       "    .dataframe tbody tr th:only-of-type {\n",
       "        vertical-align: middle;\n",
       "    }\n",
       "\n",
       "    .dataframe tbody tr th {\n",
       "        vertical-align: top;\n",
       "    }\n",
       "\n",
       "    .dataframe thead th {\n",
       "        text-align: right;\n",
       "    }\n",
       "</style>\n",
       "<table border=\"1\" class=\"dataframe\">\n",
       "  <thead>\n",
       "    <tr style=\"text-align: right;\">\n",
       "      <th></th>\n",
       "      <th>Pclass</th>\n",
       "      <th>Sex</th>\n",
       "      <th>Age</th>\n",
       "      <th>SibSp</th>\n",
       "      <th>Parch</th>\n",
       "      <th>Fare</th>\n",
       "      <th>Cabin_Size</th>\n",
       "      <th>Cabin_code_?</th>\n",
       "      <th>Cabin_code_C</th>\n",
       "      <th>Cabin_code_B</th>\n",
       "      <th>Title_Mr</th>\n",
       "      <th>Title_Miss</th>\n",
       "      <th>Title_Mrs</th>\n",
       "      <th>Embarked_S</th>\n",
       "      <th>Embarked_C</th>\n",
       "      <th>Embarked_Q</th>\n",
       "    </tr>\n",
       "    <tr>\n",
       "      <th>PassengerId</th>\n",
       "      <th></th>\n",
       "      <th></th>\n",
       "      <th></th>\n",
       "      <th></th>\n",
       "      <th></th>\n",
       "      <th></th>\n",
       "      <th></th>\n",
       "      <th></th>\n",
       "      <th></th>\n",
       "      <th></th>\n",
       "      <th></th>\n",
       "      <th></th>\n",
       "      <th></th>\n",
       "      <th></th>\n",
       "      <th></th>\n",
       "      <th></th>\n",
       "    </tr>\n",
       "  </thead>\n",
       "  <tbody>\n",
       "    <tr>\n",
       "      <th>446</th>\n",
       "      <td>1</td>\n",
       "      <td>1</td>\n",
       "      <td>4.000000</td>\n",
       "      <td>0</td>\n",
       "      <td>2</td>\n",
       "      <td>81.8583</td>\n",
       "      <td>1</td>\n",
       "      <td>0</td>\n",
       "      <td>0</td>\n",
       "      <td>0</td>\n",
       "      <td>0</td>\n",
       "      <td>0</td>\n",
       "      <td>0</td>\n",
       "      <td>1</td>\n",
       "      <td>0</td>\n",
       "      <td>0</td>\n",
       "    </tr>\n",
       "    <tr>\n",
       "      <th>651</th>\n",
       "      <td>3</td>\n",
       "      <td>1</td>\n",
       "      <td>29.256353</td>\n",
       "      <td>0</td>\n",
       "      <td>0</td>\n",
       "      <td>7.8958</td>\n",
       "      <td>1</td>\n",
       "      <td>1</td>\n",
       "      <td>0</td>\n",
       "      <td>0</td>\n",
       "      <td>1</td>\n",
       "      <td>0</td>\n",
       "      <td>0</td>\n",
       "      <td>1</td>\n",
       "      <td>0</td>\n",
       "      <td>0</td>\n",
       "    </tr>\n",
       "    <tr>\n",
       "      <th>173</th>\n",
       "      <td>3</td>\n",
       "      <td>0</td>\n",
       "      <td>1.000000</td>\n",
       "      <td>1</td>\n",
       "      <td>1</td>\n",
       "      <td>11.1333</td>\n",
       "      <td>1</td>\n",
       "      <td>1</td>\n",
       "      <td>0</td>\n",
       "      <td>0</td>\n",
       "      <td>0</td>\n",
       "      <td>1</td>\n",
       "      <td>0</td>\n",
       "      <td>1</td>\n",
       "      <td>0</td>\n",
       "      <td>0</td>\n",
       "    </tr>\n",
       "    <tr>\n",
       "      <th>451</th>\n",
       "      <td>2</td>\n",
       "      <td>1</td>\n",
       "      <td>36.000000</td>\n",
       "      <td>1</td>\n",
       "      <td>2</td>\n",
       "      <td>27.7500</td>\n",
       "      <td>1</td>\n",
       "      <td>1</td>\n",
       "      <td>0</td>\n",
       "      <td>0</td>\n",
       "      <td>1</td>\n",
       "      <td>0</td>\n",
       "      <td>0</td>\n",
       "      <td>1</td>\n",
       "      <td>0</td>\n",
       "      <td>0</td>\n",
       "    </tr>\n",
       "    <tr>\n",
       "      <th>315</th>\n",
       "      <td>2</td>\n",
       "      <td>1</td>\n",
       "      <td>43.000000</td>\n",
       "      <td>1</td>\n",
       "      <td>1</td>\n",
       "      <td>26.2500</td>\n",
       "      <td>1</td>\n",
       "      <td>1</td>\n",
       "      <td>0</td>\n",
       "      <td>0</td>\n",
       "      <td>1</td>\n",
       "      <td>0</td>\n",
       "      <td>0</td>\n",
       "      <td>1</td>\n",
       "      <td>0</td>\n",
       "      <td>0</td>\n",
       "    </tr>\n",
       "  </tbody>\n",
       "</table>\n",
       "</div>"
      ],
      "text/plain": [
       "             Pclass  Sex        Age  SibSp  Parch     Fare  Cabin_Size  \\\n",
       "PassengerId                                                              \n",
       "446               1    1   4.000000      0      2  81.8583           1   \n",
       "651               3    1  29.256353      0      0   7.8958           1   \n",
       "173               3    0   1.000000      1      1  11.1333           1   \n",
       "451               2    1  36.000000      1      2  27.7500           1   \n",
       "315               2    1  43.000000      1      1  26.2500           1   \n",
       "\n",
       "             Cabin_code_?  Cabin_code_C  Cabin_code_B  Title_Mr  Title_Miss  \\\n",
       "PassengerId                                                                   \n",
       "446                     0             0             0         0           0   \n",
       "651                     1             0             0         1           0   \n",
       "173                     1             0             0         0           1   \n",
       "451                     1             0             0         1           0   \n",
       "315                     1             0             0         1           0   \n",
       "\n",
       "             Title_Mrs  Embarked_S  Embarked_C  Embarked_Q  \n",
       "PassengerId                                                 \n",
       "446                  0           1           0           0  \n",
       "651                  0           1           0           0  \n",
       "173                  0           1           0           0  \n",
       "451                  0           1           0           0  \n",
       "315                  0           1           0           0  "
      ]
     },
     "execution_count": 33,
     "metadata": {},
     "output_type": "execute_result"
    }
   ],
   "source": [
    "x_base = pipe_base.fit_transform(x_train)\n",
    "x_base.head()"
   ]
  },
  {
   "cell_type": "code",
   "execution_count": 38,
   "id": "2c870246",
   "metadata": {},
   "outputs": [
    {
     "name": "stdout",
     "output_type": "stream",
     "text": [
      "accuracy of 0.8203 and standard deviation of 0.0348\n"
     ]
    }
   ],
   "source": [
    "pipe_rf = make_pipeline(pipe_base,RandomForestClassifier(random_state=0))\n",
    "score_base = cross_val_score(pipe_rf, x_train, y_train, cv=5)\n",
    "print(f'accuracy of {np.round(score_base.mean(),4)} and standard deviation of {np.round(score_base.std(),4)}')"
   ]
  },
  {
   "cell_type": "code",
   "execution_count": 330,
   "id": "5fd941e0",
   "metadata": {},
   "outputs": [],
   "source": [
    "# filling na of \"Age\" with median instead of mean\n",
    "pipe_base2 = make_pipeline(\n",
    "                        MeanMedianImputer(imputation_method='mean', variables=['Age']),\n",
    "                        Fill_na_transf(fill_na=\"?\"),\n",
    "                        Cabin_code(),\n",
    "                        Get_title(),\n",
    "                        Mapper(features=['Sex'],map_dict = sex_map),\n",
    "                        OneHotEncoder(top_categories = 3, variables=['Cabin_code','Title','Embarked']),\n",
    "                        DropFeatures(features_to_drop=['Name','Ticket','Cabin']),\n",
    "                        Winsorizer(variables=[\"Age\",\"Fare\"],capping_method='quantiles', fold=0.05),\n",
    "                        RandomForestClassifier(random_state=42))"
   ]
  },
  {
   "cell_type": "code",
   "execution_count": 331,
   "id": "f7fdda8d",
   "metadata": {},
   "outputs": [
    {
     "name": "stdout",
     "output_type": "stream",
     "text": [
      "accuracy of 0.8236 and standard deviation of 0.0357\n"
     ]
    }
   ],
   "source": [
    "score_base2 = cross_val_score(pipe_base2, x_train, y_train, cv=5)\n",
    "print(f'accuracy of {np.round(score_base2.mean(),4)} and standard deviation of {np.round(score_base2.std(),4)}')"
   ]
  },
  {
   "cell_type": "code",
   "execution_count": 473,
   "id": "e8a32d0b",
   "metadata": {},
   "outputs": [],
   "source": [
    "#basic pre processing \n",
    "pipe_2 = make_pipeline(\n",
    "                        MeanMedianImputer(imputation_method='mean', variables=['Age']),\n",
    "                        Fill_na_transf(fill_na='?'),\n",
    "                        Cabin_code(),\n",
    "                        Get_title(),\n",
    "                        Mapper(features=['Sex'],map_dict = sex_map),\n",
    "                        OneHotEncoder(top_categories = 3, variables=['Cabin_code','Title','Embarked']),\n",
    "                        DropFeatures(features_to_drop=['Name','Ticket','Cabin']))"
   ]
  },
  {
   "cell_type": "code",
   "execution_count": 474,
   "id": "c2f2c476",
   "metadata": {},
   "outputs": [],
   "source": [
    "x_eda_ = pipe_2.fit_transform(x_train)"
   ]
  },
  {
   "cell_type": "code",
   "execution_count": null,
   "id": "317a24bb",
   "metadata": {},
   "outputs": [],
   "source": []
  }
 ],
 "metadata": {
  "kernelspec": {
   "display_name": "Python 3 (ipykernel)",
   "language": "python",
   "name": "python3"
  },
  "language_info": {
   "codemirror_mode": {
    "name": "ipython",
    "version": 3
   },
   "file_extension": ".py",
   "mimetype": "text/x-python",
   "name": "python",
   "nbconvert_exporter": "python",
   "pygments_lexer": "ipython3",
   "version": "3.8.10"
  }
 },
 "nbformat": 4,
 "nbformat_minor": 5
}
