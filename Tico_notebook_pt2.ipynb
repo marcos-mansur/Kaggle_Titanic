{
 "cells": [
  {
   "cell_type": "code",
   "execution_count": 274,
   "id": "0ab250c0",
   "metadata": {},
   "outputs": [],
   "source": [
    "import pandas as pd \n",
    "import numpy as np\n",
    "import re\n",
    "\n",
    "from sklearn.model_selection import train_test_split\n",
    "from sklearn.base import BaseEstimator, TransformerMixin\n",
    "from sklearn.preprocessing import FunctionTransformer, StandardScaler\n",
    "from sklearn.compose import ColumnTransformer, make_column_selector, make_column_transformer\n",
    "from sklearn.pipeline import make_pipeline, Pipeline\n",
    "from sklearn.ensemble import RandomForestClassifier\n",
    "\n",
    "# Feature engineer \n",
    "from feature_engine.selection import DropFeatures\n",
    "from feature_engine.encoding import OneHotEncoder as OneHotFE\n",
    "from feature_engine.encoding import RareLabelEncoder\n",
    "from sklearn.preprocessing import OneHotEncoder as OneHotSK\n",
    "from feature_engine.outliers import Winsorizer, ArbitraryOutlierCapper\n",
    "from feature_engine.imputation import (AddMissingIndicator, MeanMedianImputer, CategoricalImputer)\n",
    "from sklearn.impute import SimpleImputer\n",
    "\n",
    "# Model_Selection\n",
    "from sklearn.model_selection import train_test_split, cross_val_score, KFold, GridSearchCV"
   ]
  },
  {
   "cell_type": "markdown",
   "id": "e06a59c8",
   "metadata": {},
   "source": [
    "# Load the Data"
   ]
  },
  {
   "cell_type": "code",
   "execution_count": 267,
   "id": "00e8902c",
   "metadata": {},
   "outputs": [],
   "source": [
    "df = pd.read_csv(\"Dados/train.csv\",index_col=0)\n",
    "df_pred = pd.read_csv(\"Dados/test.csv\",index_col=0)\n",
    "\n",
    "x = df.drop('Survived',axis=1)\n",
    "y = df.Survived\n",
    "\n",
    "x_train, x_test, y_train, y_test = train_test_split(x,y,test_size=0.3, random_state = 0)\n",
    "\n",
    "num_var = ['Pclass','Age','SibSp','Parch','Fare','Cabin_Size']\n",
    "cat_var = ['Sex','Cabin_code','Embarked','Name_Title', 'Name_family']\n",
    "target = ['Survived']"
   ]
  },
  {
   "cell_type": "code",
   "execution_count": 270,
   "id": "d187cab1",
   "metadata": {},
   "outputs": [
    {
     "data": {
      "text/plain": [
       "Survived      0\n",
       "Pclass        0\n",
       "Name          0\n",
       "Sex           0\n",
       "Age         177\n",
       "SibSp         0\n",
       "Parch         0\n",
       "Ticket        0\n",
       "Fare          0\n",
       "Cabin       687\n",
       "Embarked      2\n",
       "dtype: int64"
      ]
     },
     "execution_count": 270,
     "metadata": {},
     "output_type": "execute_result"
    }
   ],
   "source": [
    "df.isna().sum()"
   ]
  },
  {
   "cell_type": "markdown",
   "id": "b353cd34",
   "metadata": {},
   "source": [
    "# Custom Transformers"
   ]
  },
  {
   "cell_type": "code",
   "execution_count": 252,
   "id": "8317e745",
   "metadata": {},
   "outputs": [],
   "source": [
    "class Fill_na_transf(BaseEstimator, TransformerMixin):\n",
    "    \"\"\"Fills NA with fill_na value\"\"\"\n",
    "    \n",
    "    def __init__(self,fill_na):\n",
    "        self.fill_na = fill_na\n",
    "    \n",
    "    def fit(self, x:pd.DataFrame ,y:pd.Series=None):\n",
    "        return self\n",
    "    \n",
    "    def transform(self,x:pd.DataFrame):\n",
    "        x = x.copy()\n",
    "        x = x.replace(np.nan, self.fill_na)\n",
    "        return x\n",
    "\n",
    "class Cabin_code(BaseEstimator, TransformerMixin):\n",
    "    \"\"\"Create column with first character of the first Cabin and how many cabins\"\"\"\n",
    "    \n",
    "    def __init__(self):\n",
    "        pass\n",
    "    def fit(self, x:pd.DataFrame ,y:pd.Series=None):\n",
    "        return self\n",
    "    \n",
    "    def transform(self,x:pd.DataFrame):\n",
    "        x = x.copy()\n",
    "        try:\n",
    "            x['Cabin_code'] = x['Cabin'].apply(lambda x: x[0])\n",
    "            x['Cabin_Size'] = x['Cabin'].apply(lambda x: len(x.split(\" \")))\n",
    "        except:\n",
    "            pass\n",
    "            #print('erro no Cabin_code')\n",
    "        return x\n",
    "\n",
    "class Mapper(BaseEstimator, TransformerMixin):\n",
    "    \"\"\"Create column with first character of the first Cabin and how many cabins\"\"\"\n",
    "    \n",
    "    def __init__(self,features:list,map_dict:dict):\n",
    "        \n",
    "        if not isinstance(features,list):\n",
    "            raise ValueError('Features should be a list')\n",
    "            \n",
    "        self.features = features\n",
    "        self.map_dict = map_dict\n",
    "        pass\n",
    "    \n",
    "    def fit(self, x:pd.DataFrame ,y:pd.Series=None):\n",
    "        return self\n",
    "    \n",
    "    def transform(self,x:pd.DataFrame):\n",
    "        x = x.copy()\n",
    "        \n",
    "        for feature in self.features:\n",
    "            x[feature] = x[feature].map(self.map_dict)\n",
    "        return x\n",
    "\n",
    "#dict for enconding \"Sex\"\n",
    "sex_map = {'male':1,\n",
    "           'female':0}\n",
    "\n",
    "class Get_title(BaseEstimator, TransformerMixin):\n",
    "    \"\"\"Create column with title from 'Name' \"\"\"\n",
    "    \n",
    "    def __init__(self):\n",
    "        pass\n",
    "    \n",
    "    def fit(self, x:pd.DataFrame ,y:pd.Series=None):\n",
    "        return self\n",
    "    \n",
    "    def transform(self,x:pd.DataFrame, y:pd.Series=None):\n",
    "        x = x.copy()\n",
    "        x['Title'] = x['Name'].apply(return_title)\n",
    "        return x\n",
    "\n",
    "class Get_family(BaseEstimator, TransformerMixin):\n",
    "    \"\"\"Create column with title from 'Name' \"\"\"\n",
    "    \n",
    "    def __init__(self):\n",
    "        pass\n",
    "    \n",
    "    def fit(self, x:pd.DataFrame ,y:pd.Series=None):\n",
    "        return self\n",
    "    \n",
    "    def transform(self,x:pd.DataFrame, y:pd.Series=None):\n",
    "        x = x.copy()\n",
    "        x['Family'] = x['Name'].apply(return_family)\n",
    "        return x\n",
    "\n",
    "def return_title(passenger):\n",
    "    line = passenger\n",
    "    if re.search('Mrs', line):\n",
    "        return 'Mrs'\n",
    "    elif re.search('Mr', line):\n",
    "        return 'Mr'\n",
    "    elif re.search('Miss', line):\n",
    "        return 'Miss'\n",
    "    elif re.search('Master', line):\n",
    "        return 'Master'\n",
    "    else:\n",
    "        return 'Other'\n",
    "\n",
    "def return_family(passanger):\n",
    "    line = passanger\n",
    "    return line['Name'].iloc[0].split(',')[0]\n",
    "    \n",
    "class dtype_fix(BaseEstimator,TransformerMixin):\n",
    "    \"\"\" corrects dtype of all initial features\"\"\"\n",
    "    \n",
    "    def __init__(self):\n",
    "        pass\n",
    "    \n",
    "    def fit(self, x:pd.DataFrame=None, y:pd.Series=None):\n",
    "        return self\n",
    "    \n",
    "    def transform(self, x:pd.DataFrame,y:pd.Series=None):\n",
    "        df=df.copy()\n",
    "        try:\n",
    "            df['Pclass']=df['Pclass'].astype('object')\n",
    "            df['Sex']=df['Sex'].astype('object')\n",
    "            df['Age']=df['Age'].astype('float')\n",
    "            df['SibSp']=df['SibSp'].astype('int')\n",
    "            df['Parch']=df['Parch'].astype('int')\n",
    "            df['Fare']=df['Fare'].astype('float')\n",
    "            df['Cabin']=df['Cabin'].astype('object')\n",
    "            df['Embarked']=df['Embarked'].astype('object')\n",
    "        except:\n",
    "            print('erro em dtype_fix')\n",
    "        return df"
   ]
  },
  {
   "cell_type": "code",
   "execution_count": 323,
   "id": "d06e22cc",
   "metadata": {},
   "outputs": [],
   "source": [
    "def get_cross_score(pipe,cv=5):\n",
    "    score = cross_val_score(pipe, x_train, y_train, cv=cv)\n",
    "    print(f'accuracy of {np.round(score.mean(),4)} and standard deviation of {np.round(score.std(),4)}')"
   ]
  },
  {
   "cell_type": "markdown",
   "id": "86bab4b2",
   "metadata": {},
   "source": [
    "# Baseline"
   ]
  },
  {
   "cell_type": "code",
   "execution_count": 12,
   "id": "434fa18d",
   "metadata": {},
   "outputs": [
    {
     "data": {
      "text/html": [
       "<div>\n",
       "<style scoped>\n",
       "    .dataframe tbody tr th:only-of-type {\n",
       "        vertical-align: middle;\n",
       "    }\n",
       "\n",
       "    .dataframe tbody tr th {\n",
       "        vertical-align: top;\n",
       "    }\n",
       "\n",
       "    .dataframe thead th {\n",
       "        text-align: right;\n",
       "    }\n",
       "</style>\n",
       "<table border=\"1\" class=\"dataframe\">\n",
       "  <thead>\n",
       "    <tr style=\"text-align: right;\">\n",
       "      <th></th>\n",
       "      <th>Pclass</th>\n",
       "      <th>Name</th>\n",
       "      <th>Sex</th>\n",
       "      <th>Age</th>\n",
       "      <th>SibSp</th>\n",
       "      <th>Parch</th>\n",
       "      <th>Ticket</th>\n",
       "      <th>Fare</th>\n",
       "      <th>Cabin</th>\n",
       "      <th>Embarked</th>\n",
       "    </tr>\n",
       "    <tr>\n",
       "      <th>PassengerId</th>\n",
       "      <th></th>\n",
       "      <th></th>\n",
       "      <th></th>\n",
       "      <th></th>\n",
       "      <th></th>\n",
       "      <th></th>\n",
       "      <th></th>\n",
       "      <th></th>\n",
       "      <th></th>\n",
       "      <th></th>\n",
       "    </tr>\n",
       "  </thead>\n",
       "  <tbody>\n",
       "    <tr>\n",
       "      <th>446</th>\n",
       "      <td>1</td>\n",
       "      <td>Dodge, Master. Washington</td>\n",
       "      <td>male</td>\n",
       "      <td>4.0</td>\n",
       "      <td>0</td>\n",
       "      <td>2</td>\n",
       "      <td>33638</td>\n",
       "      <td>81.8583</td>\n",
       "      <td>A34</td>\n",
       "      <td>S</td>\n",
       "    </tr>\n",
       "    <tr>\n",
       "      <th>651</th>\n",
       "      <td>3</td>\n",
       "      <td>Mitkoff, Mr. Mito</td>\n",
       "      <td>male</td>\n",
       "      <td>NaN</td>\n",
       "      <td>0</td>\n",
       "      <td>0</td>\n",
       "      <td>349221</td>\n",
       "      <td>7.8958</td>\n",
       "      <td>NaN</td>\n",
       "      <td>S</td>\n",
       "    </tr>\n",
       "    <tr>\n",
       "      <th>173</th>\n",
       "      <td>3</td>\n",
       "      <td>Johnson, Miss. Eleanor Ileen</td>\n",
       "      <td>female</td>\n",
       "      <td>1.0</td>\n",
       "      <td>1</td>\n",
       "      <td>1</td>\n",
       "      <td>347742</td>\n",
       "      <td>11.1333</td>\n",
       "      <td>NaN</td>\n",
       "      <td>S</td>\n",
       "    </tr>\n",
       "    <tr>\n",
       "      <th>451</th>\n",
       "      <td>2</td>\n",
       "      <td>West, Mr. Edwy Arthur</td>\n",
       "      <td>male</td>\n",
       "      <td>36.0</td>\n",
       "      <td>1</td>\n",
       "      <td>2</td>\n",
       "      <td>C.A. 34651</td>\n",
       "      <td>27.7500</td>\n",
       "      <td>NaN</td>\n",
       "      <td>S</td>\n",
       "    </tr>\n",
       "    <tr>\n",
       "      <th>315</th>\n",
       "      <td>2</td>\n",
       "      <td>Hart, Mr. Benjamin</td>\n",
       "      <td>male</td>\n",
       "      <td>43.0</td>\n",
       "      <td>1</td>\n",
       "      <td>1</td>\n",
       "      <td>F.C.C. 13529</td>\n",
       "      <td>26.2500</td>\n",
       "      <td>NaN</td>\n",
       "      <td>S</td>\n",
       "    </tr>\n",
       "  </tbody>\n",
       "</table>\n",
       "</div>"
      ],
      "text/plain": [
       "             Pclass                          Name     Sex   Age  SibSp  Parch  \\\n",
       "PassengerId                                                                     \n",
       "446               1     Dodge, Master. Washington    male   4.0      0      2   \n",
       "651               3             Mitkoff, Mr. Mito    male   NaN      0      0   \n",
       "173               3  Johnson, Miss. Eleanor Ileen  female   1.0      1      1   \n",
       "451               2         West, Mr. Edwy Arthur    male  36.0      1      2   \n",
       "315               2            Hart, Mr. Benjamin    male  43.0      1      1   \n",
       "\n",
       "                   Ticket     Fare Cabin Embarked  \n",
       "PassengerId                                        \n",
       "446                 33638  81.8583   A34        S  \n",
       "651                349221   7.8958   NaN        S  \n",
       "173                347742  11.1333   NaN        S  \n",
       "451            C.A. 34651  27.7500   NaN        S  \n",
       "315          F.C.C. 13529  26.2500   NaN        S  "
      ]
     },
     "execution_count": 12,
     "metadata": {},
     "output_type": "execute_result"
    }
   ],
   "source": [
    "x_train.head()"
   ]
  },
  {
   "cell_type": "code",
   "execution_count": 265,
   "id": "af585600",
   "metadata": {},
   "outputs": [
    {
     "name": "stdout",
     "output_type": "stream",
     "text": [
      "accuracy of 0.6565 and standard deviation of 0.0223\n"
     ]
    }
   ],
   "source": [
    "# baseline simple pipeline\n",
    "pipe_base = make_pipeline(\n",
    "                        MeanMedianImputer(imputation_method='mean', variables=['Age']),\n",
    "                        DropFeatures(features_to_drop=['Name','Sex','Ticket','Cabin','Embarked']),\n",
    "                        RandomForestClassifier(random_state=0))\n",
    "get_cross_score(pipe_base,5)"
   ]
  },
  {
   "cell_type": "code",
   "execution_count": 263,
   "id": "3ff540a5",
   "metadata": {},
   "outputs": [
    {
     "name": "stdout",
     "output_type": "stream",
     "text": [
      "accuracy of 0.6565 and standard deviation of 0.0223\n"
     ]
    }
   ],
   "source": [
    "# baseline simple pipeline\n",
    "pipe_base = make_pipeline(DropFeatures(features_to_drop=['Name','Sex','Ticket','Cabin','Embarked']),\n",
    "                          SimpleImputer(missing_values=np.nan, strategy='mean'),\n",
    "                          RandomForestClassifier(random_state=0))\n",
    "get_cross_score(pipe_base,5)"
   ]
  },
  {
   "cell_type": "markdown",
   "id": "18029d77",
   "metadata": {},
   "source": [
    "So we have our baseline model and score now."
   ]
  },
  {
   "cell_type": "markdown",
   "id": "db394aae",
   "metadata": {},
   "source": [
    "# Feature Engeneer"
   ]
  },
  {
   "cell_type": "code",
   "execution_count": 310,
   "id": "93647e42",
   "metadata": {},
   "outputs": [],
   "source": [
    "cat_pp = ColumnTransformer((SimpleImputer))\n",
    "\n",
    "num_pp = make_pipeline(MeanMedianImputer())\n",
    "num_ct = ColumnTransformer(\n",
    "    [('numerical transformations',num_pp, make_column_selector(dtype_exclude='object'))])"
   ]
  },
  {
   "cell_type": "markdown",
   "id": "7edc2a94",
   "metadata": {},
   "source": [
    "## \"Age\"\n",
    "\n",
    "There's only one thing to be done in Age: impute missing values. Let's check each imputing strategy is better."
   ]
  },
  {
   "cell_type": "code",
   "execution_count": 318,
   "id": "f9260fad",
   "metadata": {},
   "outputs": [
    {
     "name": "stdout",
     "output_type": "stream",
     "text": [
      "accuracy of 0.6549 and standard deviation of 0.0084\n"
     ]
    }
   ],
   "source": [
    "# baseline simple pipeline\n",
    "pipe_age = make_pipeline(DropFeatures(features_to_drop=['Name','Sex','Ticket','Cabin','Embarked']),\n",
    "                          SimpleImputer(missing_values=np.nan, strategy='median'),\n",
    "                          RandomForestClassifier(random_state=0))\n",
    "get_cross_score(pipe_age,5)"
   ]
  },
  {
   "cell_type": "markdown",
   "id": "9b31946b",
   "metadata": {},
   "source": [
    "Imputing with median lowers very slightly the acc but also lowers the std."
   ]
  },
  {
   "cell_type": "markdown",
   "id": "e2dabf4c",
   "metadata": {},
   "source": [
    "## \"Fare\"\n",
    "\n",
    "Tree algorithms usually doesn't benefit much from scaling numerical features but let's try it anyway."
   ]
  },
  {
   "cell_type": "code",
   "execution_count": 266,
   "id": "717daf1d",
   "metadata": {},
   "outputs": [
    {
     "name": "stdout",
     "output_type": "stream",
     "text": [
      "accuracy of 0.6597 and standard deviation of 0.0214\n"
     ]
    }
   ],
   "source": [
    "pipe_fare = make_pipeline(DropFeatures(features_to_drop=['Name','Sex','Ticket','Cabin','Embarked']),\n",
    "                          MeanMedianImputer(imputation_method='mean', variables=['Age','Fare']),\n",
    "                          StandardScaler(),\n",
    "                          RandomForestClassifier(random_state=0))\n",
    "get_cross_score(pipe_fare,5)"
   ]
  },
  {
   "cell_type": "markdown",
   "id": "0232b5d8",
   "metadata": {},
   "source": [
    "There was a slight improvement in acc."
   ]
  },
  {
   "cell_type": "markdown",
   "id": "59ea8fd8",
   "metadata": {},
   "source": [
    "# \"Name\""
   ]
  },
  {
   "cell_type": "markdown",
   "id": "c6eff830",
   "metadata": {},
   "source": [
    "Extract Title and Family name from feature \"Name\""
   ]
  },
  {
   "cell_type": "code",
   "execution_count": 256,
   "id": "c51bc788",
   "metadata": {},
   "outputs": [
    {
     "data": {
      "text/html": [
       "<div>\n",
       "<style scoped>\n",
       "    .dataframe tbody tr th:only-of-type {\n",
       "        vertical-align: middle;\n",
       "    }\n",
       "\n",
       "    .dataframe tbody tr th {\n",
       "        vertical-align: top;\n",
       "    }\n",
       "\n",
       "    .dataframe thead th {\n",
       "        text-align: right;\n",
       "    }\n",
       "</style>\n",
       "<table border=\"1\" class=\"dataframe\">\n",
       "  <thead>\n",
       "    <tr style=\"text-align: right;\">\n",
       "      <th></th>\n",
       "      <th>Pclass</th>\n",
       "      <th>Name</th>\n",
       "      <th>Sex</th>\n",
       "      <th>Age</th>\n",
       "      <th>SibSp</th>\n",
       "      <th>Parch</th>\n",
       "      <th>Ticket</th>\n",
       "      <th>Fare</th>\n",
       "      <th>Cabin</th>\n",
       "      <th>Embarked</th>\n",
       "      <th>Name_title</th>\n",
       "      <th>Name_family</th>\n",
       "    </tr>\n",
       "    <tr>\n",
       "      <th>PassengerId</th>\n",
       "      <th></th>\n",
       "      <th></th>\n",
       "      <th></th>\n",
       "      <th></th>\n",
       "      <th></th>\n",
       "      <th></th>\n",
       "      <th></th>\n",
       "      <th></th>\n",
       "      <th></th>\n",
       "      <th></th>\n",
       "      <th></th>\n",
       "      <th></th>\n",
       "    </tr>\n",
       "  </thead>\n",
       "  <tbody>\n",
       "    <tr>\n",
       "      <th>858</th>\n",
       "      <td>1</td>\n",
       "      <td>Daly, Mr. Peter Denis</td>\n",
       "      <td>male</td>\n",
       "      <td>51.0</td>\n",
       "      <td>0</td>\n",
       "      <td>0</td>\n",
       "      <td>113055</td>\n",
       "      <td>26.5500</td>\n",
       "      <td>E17</td>\n",
       "      <td>S</td>\n",
       "      <td>Mr</td>\n",
       "      <td>Daly</td>\n",
       "    </tr>\n",
       "    <tr>\n",
       "      <th>53</th>\n",
       "      <td>1</td>\n",
       "      <td>Harper, Mrs. Henry Sleeper (Myna Haxtun)</td>\n",
       "      <td>female</td>\n",
       "      <td>49.0</td>\n",
       "      <td>1</td>\n",
       "      <td>0</td>\n",
       "      <td>PC 17572</td>\n",
       "      <td>76.7292</td>\n",
       "      <td>D33</td>\n",
       "      <td>C</td>\n",
       "      <td>Mrs</td>\n",
       "      <td>Harper</td>\n",
       "    </tr>\n",
       "    <tr>\n",
       "      <th>387</th>\n",
       "      <td>3</td>\n",
       "      <td>Goodwin, Master. Sidney Leonard</td>\n",
       "      <td>male</td>\n",
       "      <td>1.0</td>\n",
       "      <td>5</td>\n",
       "      <td>2</td>\n",
       "      <td>CA 2144</td>\n",
       "      <td>46.9000</td>\n",
       "      <td>NaN</td>\n",
       "      <td>S</td>\n",
       "      <td>Master</td>\n",
       "      <td>Goodwin</td>\n",
       "    </tr>\n",
       "    <tr>\n",
       "      <th>125</th>\n",
       "      <td>1</td>\n",
       "      <td>White, Mr. Percival Wayland</td>\n",
       "      <td>male</td>\n",
       "      <td>54.0</td>\n",
       "      <td>0</td>\n",
       "      <td>1</td>\n",
       "      <td>35281</td>\n",
       "      <td>77.2875</td>\n",
       "      <td>D26</td>\n",
       "      <td>S</td>\n",
       "      <td>Mr</td>\n",
       "      <td>White</td>\n",
       "    </tr>\n",
       "    <tr>\n",
       "      <th>579</th>\n",
       "      <td>3</td>\n",
       "      <td>Caram, Mrs. Joseph (Maria Elias)</td>\n",
       "      <td>female</td>\n",
       "      <td>NaN</td>\n",
       "      <td>1</td>\n",
       "      <td>0</td>\n",
       "      <td>2689</td>\n",
       "      <td>14.4583</td>\n",
       "      <td>NaN</td>\n",
       "      <td>C</td>\n",
       "      <td>Mrs</td>\n",
       "      <td>Caram</td>\n",
       "    </tr>\n",
       "  </tbody>\n",
       "</table>\n",
       "</div>"
      ],
      "text/plain": [
       "             Pclass                                      Name     Sex   Age  \\\n",
       "PassengerId                                                                   \n",
       "858               1                    Daly, Mr. Peter Denis     male  51.0   \n",
       "53                1  Harper, Mrs. Henry Sleeper (Myna Haxtun)  female  49.0   \n",
       "387               3           Goodwin, Master. Sidney Leonard    male   1.0   \n",
       "125               1               White, Mr. Percival Wayland    male  54.0   \n",
       "579               3          Caram, Mrs. Joseph (Maria Elias)  female   NaN   \n",
       "\n",
       "             SibSp  Parch    Ticket     Fare Cabin Embarked Name_title  \\\n",
       "PassengerId                                                              \n",
       "858              0      0    113055  26.5500   E17        S         Mr   \n",
       "53               1      0  PC 17572  76.7292   D33        C        Mrs   \n",
       "387              5      2   CA 2144  46.9000   NaN        S     Master   \n",
       "125              0      1     35281  77.2875   D26        S         Mr   \n",
       "579              1      0      2689  14.4583   NaN        C        Mrs   \n",
       "\n",
       "            Name_family  \n",
       "PassengerId              \n",
       "858                Daly  \n",
       "53               Harper  \n",
       "387             Goodwin  \n",
       "125               White  \n",
       "579               Caram  "
      ]
     },
     "execution_count": 256,
     "metadata": {},
     "output_type": "execute_result"
    }
   ],
   "source": [
    "class get_name(BaseEstimator, TransformerMixin):\n",
    "    \"\"\"create column with family name  and title of each passenger\"\"\"\n",
    "    def __init__(self, title:bool=True,family:bool=True):\n",
    "        self.title = title\n",
    "        self.family = family\n",
    "        pass\n",
    "    \n",
    "    def fit(self, x:pd.DataFrame, y:pd.Series=None):\n",
    "        return self\n",
    "    \n",
    "    def transform(self, x:pd.DataFrame, y:pd.Series=None):\n",
    "        df = x.copy()\n",
    "        try:\n",
    "            if self.title:\n",
    "                df['Name_title'] = df['Name'].apply(lambda x: x.split(\",\")[1]).apply(lambda x: x.split(\".\")[0])\n",
    "            if self.family:\n",
    "                df['Name_family'] = df['Name'].apply(lambda x: x.split(\",\")[0])\n",
    "            \n",
    "        except:\n",
    "            print('erro em get_name')\n",
    "        return df\n",
    "\n",
    "x_train_ = get_name(family=True,title=True).fit_transform(X=x_train)\n",
    "x_train_.head()"
   ]
  },
  {
   "cell_type": "code",
   "execution_count": 243,
   "id": "44953357",
   "metadata": {},
   "outputs": [
    {
     "name": "stdout",
     "output_type": "stream",
     "text": [
      "amount of unique labels in family name: (489, 1)\n",
      "\n",
      " Family names with more than 3 occurrences:\n"
     ]
    },
    {
     "data": {
      "text/html": [
       "<div>\n",
       "<style scoped>\n",
       "    .dataframe tbody tr th:only-of-type {\n",
       "        vertical-align: middle;\n",
       "    }\n",
       "\n",
       "    .dataframe tbody tr th {\n",
       "        vertical-align: top;\n",
       "    }\n",
       "\n",
       "    .dataframe thead th {\n",
       "        text-align: right;\n",
       "    }\n",
       "</style>\n",
       "<table border=\"1\" class=\"dataframe\">\n",
       "  <thead>\n",
       "    <tr style=\"text-align: right;\">\n",
       "      <th></th>\n",
       "      <th>Name_family</th>\n",
       "    </tr>\n",
       "  </thead>\n",
       "  <tbody>\n",
       "    <tr>\n",
       "      <th>Sage</th>\n",
       "      <td>7</td>\n",
       "    </tr>\n",
       "    <tr>\n",
       "      <th>Andersson</th>\n",
       "      <td>6</td>\n",
       "    </tr>\n",
       "    <tr>\n",
       "      <th>Goodwin</th>\n",
       "      <td>6</td>\n",
       "    </tr>\n",
       "    <tr>\n",
       "      <th>Johnson</th>\n",
       "      <td>5</td>\n",
       "    </tr>\n",
       "    <tr>\n",
       "      <th>Panula</th>\n",
       "      <td>5</td>\n",
       "    </tr>\n",
       "    <tr>\n",
       "      <th>Harris</th>\n",
       "      <td>4</td>\n",
       "    </tr>\n",
       "    <tr>\n",
       "      <th>Rice</th>\n",
       "      <td>4</td>\n",
       "    </tr>\n",
       "    <tr>\n",
       "      <th>Fortune</th>\n",
       "      <td>4</td>\n",
       "    </tr>\n",
       "  </tbody>\n",
       "</table>\n",
       "</div>"
      ],
      "text/plain": [
       "           Name_family\n",
       "Sage                 7\n",
       "Andersson            6\n",
       "Goodwin              6\n",
       "Johnson              5\n",
       "Panula               5\n",
       "Harris               4\n",
       "Rice                 4\n",
       "Fortune              4"
      ]
     },
     "execution_count": 243,
     "metadata": {},
     "output_type": "execute_result"
    }
   ],
   "source": [
    "family_labels = pd.DataFrame(x_train_['Name_family'].value_counts())\n",
    "print(f'amount of unique labels in family name:', family_labels.shape)\n",
    "print(f'\\n Family names with more than 3 occurrences:')\n",
    "family_labels[family_labels[\"Name_family\"]>3]"
   ]
  },
  {
   "cell_type": "markdown",
   "id": "4fcebd22",
   "metadata": {},
   "source": [
    "\"Name_family\" is now a categorical feature and we'll have to encode it so the model can use it."
   ]
  },
  {
   "cell_type": "code",
   "execution_count": 326,
   "id": "a0ceaed4",
   "metadata": {},
   "outputs": [
    {
     "name": "stdout",
     "output_type": "stream",
     "text": [
      "accuracy of 0.6581 and standard deviation of 0.0166\n"
     ]
    }
   ],
   "source": [
    "# feature engineer: \"Name\"\n",
    "pipe_name_family = make_pipeline(\n",
    "    \n",
    "                        #categorical features transformations\n",
    "                          get_name(family=True,title=False),\n",
    "                          RareLabelEncoder(max_n_categories=8,tol=0,variables=['Name_family']),\n",
    "                          OneHotEncoder(variables=['Name_family']),\n",
    "                          DropFeatures(features_to_drop=['Name','Sex','Ticket','Cabin','Embarked']),\n",
    "                        # numerical features transformation\n",
    "                          MeanMedianImputer(imputation_method='mean', variables=['Age','Fare']),\n",
    "                        # model  \n",
    "                          RandomForestClassifier(random_state=0))\n",
    "get_cross_score(pipe_name_family,5)\n",
    "\n",
    "#x_train_1 = pipe_name_family.fit_transform(x_train)\n",
    "#x_train_1.head()"
   ]
  },
  {
   "cell_type": "markdown",
   "id": "ffe4c974",
   "metadata": {},
   "source": [
    "Now we add \"Title\""
   ]
  },
  {
   "cell_type": "code",
   "execution_count": 341,
   "id": "31f589f2",
   "metadata": {},
   "outputs": [
    {
     "name": "stdout",
     "output_type": "stream",
     "text": [
      "accuracy of 0.8026 and standard deviation of 0.0368\n"
     ]
    }
   ],
   "source": [
    "pipe_name_title = make_pipeline(\n",
    "    \n",
    "                        #categorical features transformations\n",
    "                          get_name(family=True,title=True),\n",
    "                          RareLabelEncoder(max_n_categories=8,tol=0,variables=['Name_family']),\n",
    "                          RareLabelEncoder(max_n_categories=4,tol=0,variables=['Name_title']),\n",
    "                          OneHotEncoder(variables=['Name_family','Name_title']),\n",
    "                          DropFeatures(features_to_drop=['Name','Sex','Ticket','Cabin','Embarked']),\n",
    "                        # numerical features transformation\n",
    "                          MeanMedianImputer(imputation_method='mean', variables=['Age','Fare']),\n",
    "                        # model  \n",
    "                        RandomForestClassifier(random_state=0))\n",
    "get_cross_score(pipe_name_title,5)\n",
    "\n",
    "#x_train_1 = pipe_name_title.fit_transform(x_train)\n",
    "#x_train_1.head()"
   ]
  },
  {
   "cell_type": "code",
   "execution_count": 335,
   "id": "e1bd8664",
   "metadata": {},
   "outputs": [
    {
     "name": "stdout",
     "output_type": "stream",
     "text": [
      "amount of unique labels in title: (14, 1)\n",
      "\n",
      " Family names with more than 3 occurrences:\n"
     ]
    },
    {
     "data": {
      "text/html": [
       "<div>\n",
       "<style scoped>\n",
       "    .dataframe tbody tr th:only-of-type {\n",
       "        vertical-align: middle;\n",
       "    }\n",
       "\n",
       "    .dataframe tbody tr th {\n",
       "        vertical-align: top;\n",
       "    }\n",
       "\n",
       "    .dataframe thead th {\n",
       "        text-align: right;\n",
       "    }\n",
       "</style>\n",
       "<table border=\"1\" class=\"dataframe\">\n",
       "  <thead>\n",
       "    <tr style=\"text-align: right;\">\n",
       "      <th></th>\n",
       "      <th>Name_title</th>\n",
       "    </tr>\n",
       "  </thead>\n",
       "  <tbody>\n",
       "    <tr>\n",
       "      <th>Mr</th>\n",
       "      <td>367</td>\n",
       "    </tr>\n",
       "    <tr>\n",
       "      <th>Miss</th>\n",
       "      <td>121</td>\n",
       "    </tr>\n",
       "    <tr>\n",
       "      <th>Mrs</th>\n",
       "      <td>88</td>\n",
       "    </tr>\n",
       "    <tr>\n",
       "      <th>Master</th>\n",
       "      <td>31</td>\n",
       "    </tr>\n",
       "  </tbody>\n",
       "</table>\n",
       "</div>"
      ],
      "text/plain": [
       "         Name_title\n",
       " Mr             367\n",
       " Miss           121\n",
       " Mrs             88\n",
       " Master          31"
      ]
     },
     "execution_count": 335,
     "metadata": {},
     "output_type": "execute_result"
    }
   ],
   "source": [
    "title_labels = pd.DataFrame(x_train_['Name_title'].value_counts())\n",
    "print(f'amount of unique labels in title:', title_labels.shape)\n",
    "print(f'\\n Family names with more than 3 occurrences:')\n",
    "title_labels[title_labels[\"Name_title\"]>3]"
   ]
  },
  {
   "cell_type": "code",
   "execution_count": 333,
   "id": "ce430c60",
   "metadata": {},
   "outputs": [
    {
     "data": {
      "text/plain": [
       " Mr              367\n",
       " Miss            121\n",
       " Mrs              88\n",
       " Master           31\n",
       " Rev               3\n",
       " Dr                3\n",
       " Mlle              2\n",
       " Major             2\n",
       " Ms                1\n",
       " Mme               1\n",
       " the Countess      1\n",
       " Lady              1\n",
       " Capt              1\n",
       " Sir               1\n",
       "Name: Name_title, dtype: int64"
      ]
     },
     "execution_count": 333,
     "metadata": {},
     "output_type": "execute_result"
    }
   ],
   "source": [
    "title_labels[\"Name_title\"]"
   ]
  },
  {
   "cell_type": "markdown",
   "id": "eb9cff98",
   "metadata": {},
   "source": [
    "Let's remove Name_family again to see it anything changes."
   ]
  },
  {
   "cell_type": "code",
   "execution_count": 342,
   "id": "93df7ad8",
   "metadata": {},
   "outputs": [
    {
     "name": "stdout",
     "output_type": "stream",
     "text": [
      "accuracy of 0.8042 and standard deviation of 0.0437\n"
     ]
    }
   ],
   "source": [
    "pipe_name_title_1 = make_pipeline(\n",
    "    \n",
    "                        #categorical features transformations\n",
    "                          get_name(family=False,title=True),\n",
    "                          RareLabelEncoder(max_n_categories=4,tol=0,variables=['Name_title']),\n",
    "                          OneHotEncoder(variables=['Name_title']),\n",
    "                          DropFeatures(features_to_drop=['Name','Sex','Ticket','Cabin','Embarked']),\n",
    "                        # numerical features transformation\n",
    "                          MeanMedianImputer(imputation_method='mean', variables=['Age','Fare']),\n",
    "                        # model  \n",
    "                        RandomForestClassifier(random_state=0))\n",
    "get_cross_score(pipe_name_title_1,5)"
   ]
  },
  {
   "cell_type": "markdown",
   "id": "a45d037f",
   "metadata": {},
   "source": [
    "## Scikit-learn approach\n",
    "\n",
    "Using pipeline and column transformers"
   ]
  },
  {
   "cell_type": "code",
   "execution_count": 109,
   "id": "05a80077",
   "metadata": {},
   "outputs": [],
   "source": [
    "cat_pipe = make_pipeline( SimpleImputer(missing_values=np.nan, strategy='most_frequent', add_indicator=False),\n",
    "                                    OneHotSK(handle_unknown='ignore'))\n",
    "\n",
    "num_pipe = make_pipeline( SimpleImputer(missing_values=np.nan, strategy='median',add_indicator=False))\n",
    "\n",
    "pipe_merge = ColumnTransformer( [(\"numeric_transf\", num_pipe, make_column_selector(dtype_exclude=object)),\n",
    "                                        (\"categorical_transf\", cat_pipe, make_column_selector(dtype_include=object))])\n"
   ]
  },
  {
   "cell_type": "code",
   "execution_count": 110,
   "id": "57558176",
   "metadata": {},
   "outputs": [],
   "source": [
    "sk_pipe = Pipeline(steps=[\n",
    "                    ('Fix dtype',dtype_fix),\n",
    "                    ('Get name infos',get_name),\n",
    "                    ('Get cabin infos', Cabin_code()),\n",
    "                    return_title\n",
    "                    ('Encode SEX', Mapper(features=['Sex'],map_dict = sex_map)),\n",
    "                    ('Merge Cat and Num',pipe_merge),\n",
    "                    ('RF model',RandomForestClassifier(random_state=0))])"
   ]
  },
  {
   "cell_type": "code",
   "execution_count": 111,
   "id": "1df5a28c",
   "metadata": {},
   "outputs": [
    {
     "name": "stdout",
     "output_type": "stream",
     "text": [
      "accuracy of 0.8121 and standard deviation of 0.0415\n"
     ]
    }
   ],
   "source": [
    "get_cross_score(sk_pipe)"
   ]
  },
  {
   "cell_type": "code",
   "execution_count": 104,
   "id": "e5b47b26",
   "metadata": {},
   "outputs": [],
   "source": [
    "from sklearn import set_config  \n",
    "set_config(display='diagram')  "
   ]
  },
  {
   "cell_type": "code",
   "execution_count": 105,
   "id": "1ce5a7f2",
   "metadata": {},
   "outputs": [
    {
     "data": {
      "text/html": [
       "<style>#sk-f98ee9a6-cf22-4362-99a3-188c13e307db {color: black;background-color: white;}#sk-f98ee9a6-cf22-4362-99a3-188c13e307db pre{padding: 0;}#sk-f98ee9a6-cf22-4362-99a3-188c13e307db div.sk-toggleable {background-color: white;}#sk-f98ee9a6-cf22-4362-99a3-188c13e307db label.sk-toggleable__label {cursor: pointer;display: block;width: 100%;margin-bottom: 0;padding: 0.2em 0.3em;box-sizing: border-box;text-align: center;}#sk-f98ee9a6-cf22-4362-99a3-188c13e307db div.sk-toggleable__content {max-height: 0;max-width: 0;overflow: hidden;text-align: left;background-color: #f0f8ff;}#sk-f98ee9a6-cf22-4362-99a3-188c13e307db div.sk-toggleable__content pre {margin: 0.2em;color: black;border-radius: 0.25em;background-color: #f0f8ff;}#sk-f98ee9a6-cf22-4362-99a3-188c13e307db input.sk-toggleable__control:checked~div.sk-toggleable__content {max-height: 200px;max-width: 100%;overflow: auto;}#sk-f98ee9a6-cf22-4362-99a3-188c13e307db div.sk-estimator input.sk-toggleable__control:checked~label.sk-toggleable__label {background-color: #d4ebff;}#sk-f98ee9a6-cf22-4362-99a3-188c13e307db div.sk-label input.sk-toggleable__control:checked~label.sk-toggleable__label {background-color: #d4ebff;}#sk-f98ee9a6-cf22-4362-99a3-188c13e307db input.sk-hidden--visually {border: 0;clip: rect(1px 1px 1px 1px);clip: rect(1px, 1px, 1px, 1px);height: 1px;margin: -1px;overflow: hidden;padding: 0;position: absolute;width: 1px;}#sk-f98ee9a6-cf22-4362-99a3-188c13e307db div.sk-estimator {font-family: monospace;background-color: #f0f8ff;margin: 0.25em 0.25em;border: 1px dotted black;border-radius: 0.25em;box-sizing: border-box;}#sk-f98ee9a6-cf22-4362-99a3-188c13e307db div.sk-estimator:hover {background-color: #d4ebff;}#sk-f98ee9a6-cf22-4362-99a3-188c13e307db div.sk-parallel-item::after {content: \"\";width: 100%;border-bottom: 1px solid gray;flex-grow: 1;}#sk-f98ee9a6-cf22-4362-99a3-188c13e307db div.sk-label:hover label.sk-toggleable__label {background-color: #d4ebff;}#sk-f98ee9a6-cf22-4362-99a3-188c13e307db div.sk-serial::before {content: \"\";position: absolute;border-left: 1px solid gray;box-sizing: border-box;top: 2em;bottom: 0;left: 50%;}#sk-f98ee9a6-cf22-4362-99a3-188c13e307db div.sk-serial {display: flex;flex-direction: column;align-items: center;background-color: white;}#sk-f98ee9a6-cf22-4362-99a3-188c13e307db div.sk-item {z-index: 1;}#sk-f98ee9a6-cf22-4362-99a3-188c13e307db div.sk-parallel {display: flex;align-items: stretch;justify-content: center;background-color: white;}#sk-f98ee9a6-cf22-4362-99a3-188c13e307db div.sk-parallel-item {display: flex;flex-direction: column;position: relative;background-color: white;}#sk-f98ee9a6-cf22-4362-99a3-188c13e307db div.sk-parallel-item:first-child::after {align-self: flex-end;width: 50%;}#sk-f98ee9a6-cf22-4362-99a3-188c13e307db div.sk-parallel-item:last-child::after {align-self: flex-start;width: 50%;}#sk-f98ee9a6-cf22-4362-99a3-188c13e307db div.sk-parallel-item:only-child::after {width: 0;}#sk-f98ee9a6-cf22-4362-99a3-188c13e307db div.sk-dashed-wrapped {border: 1px dashed gray;margin: 0.2em;box-sizing: border-box;padding-bottom: 0.1em;background-color: white;position: relative;}#sk-f98ee9a6-cf22-4362-99a3-188c13e307db div.sk-label label {font-family: monospace;font-weight: bold;background-color: white;display: inline-block;line-height: 1.2em;}#sk-f98ee9a6-cf22-4362-99a3-188c13e307db div.sk-label-container {position: relative;z-index: 2;text-align: center;}#sk-f98ee9a6-cf22-4362-99a3-188c13e307db div.sk-container {display: inline-block;position: relative;}</style><div id=\"sk-f98ee9a6-cf22-4362-99a3-188c13e307db\" class\"sk-top-container\"><div class=\"sk-container\"><div class=\"sk-item sk-dashed-wrapped\"><div class=\"sk-label-container\"><div class=\"sk-label sk-toggleable\"><input class=\"sk-toggleable__control sk-hidden--visually\" id=\"89524702-60bf-4548-8a59-14437caa55a5\" type=\"checkbox\" ><label class=\"sk-toggleable__label\" for=\"89524702-60bf-4548-8a59-14437caa55a5\">Pipeline</label><div class=\"sk-toggleable__content\"><pre>Pipeline(steps=[('Fix dtype',\n",
       "                 FunctionTransformer(func=<function corrige_type at 0x0000025CFFD061F0>)),\n",
       "                ('Get name infos',\n",
       "                 FunctionTransformer(func=<function name_information at 0x0000025CFFCB31F0>)),\n",
       "                ('Get cabin infos', Cabin_code()),\n",
       "                ('Encode SEX',\n",
       "                 Mapper(features=['Sex'],\n",
       "                        map_dict={'?': -999, 'female': 0, 'male': 1})),\n",
       "                ('Merge Cat and Num',\n",
       "                 ColumnTransformer(transformers=[('...\n",
       "                                                  <sklearn.compose._column_transformer.make_column_selector object at 0x0000025CFFD8BD90>),\n",
       "                                                 ('categorical_transf',\n",
       "                                                  Pipeline(steps=[('simpleimputer',\n",
       "                                                                   SimpleImputer(strategy='most_frequent')),\n",
       "                                                                  ('onehotencoder',\n",
       "                                                                   OneHotEncoder(handle_unknown='ignore'))]),\n",
       "                                                  <sklearn.compose._column_transformer.make_column_selector object at 0x0000025CFFD8B1F0>)])),\n",
       "                ('RF model', RandomForestClassifier(random_state=0))])</pre></div></div></div><div class=\"sk-serial\"><div class=\"sk-item\"><div class=\"sk-estimator sk-toggleable\"><input class=\"sk-toggleable__control sk-hidden--visually\" id=\"524220a6-c704-4289-a9b8-65a9ffe537c9\" type=\"checkbox\" ><label class=\"sk-toggleable__label\" for=\"524220a6-c704-4289-a9b8-65a9ffe537c9\">FunctionTransformer</label><div class=\"sk-toggleable__content\"><pre>FunctionTransformer(func=<function corrige_type at 0x0000025CFFD061F0>)</pre></div></div></div><div class=\"sk-item\"><div class=\"sk-estimator sk-toggleable\"><input class=\"sk-toggleable__control sk-hidden--visually\" id=\"c9565032-8b1c-4aac-8383-91008415e1ec\" type=\"checkbox\" ><label class=\"sk-toggleable__label\" for=\"c9565032-8b1c-4aac-8383-91008415e1ec\">FunctionTransformer</label><div class=\"sk-toggleable__content\"><pre>FunctionTransformer(func=<function name_information at 0x0000025CFFCB31F0>)</pre></div></div></div><div class=\"sk-item\"><div class=\"sk-estimator sk-toggleable\"><input class=\"sk-toggleable__control sk-hidden--visually\" id=\"36d94762-a6cf-4a14-956a-908ce8f8f8a0\" type=\"checkbox\" ><label class=\"sk-toggleable__label\" for=\"36d94762-a6cf-4a14-956a-908ce8f8f8a0\">Cabin_code</label><div class=\"sk-toggleable__content\"><pre>Cabin_code()</pre></div></div></div><div class=\"sk-item\"><div class=\"sk-estimator sk-toggleable\"><input class=\"sk-toggleable__control sk-hidden--visually\" id=\"e518e19d-3d98-4e72-a36d-b4c113bb65dd\" type=\"checkbox\" ><label class=\"sk-toggleable__label\" for=\"e518e19d-3d98-4e72-a36d-b4c113bb65dd\">Mapper</label><div class=\"sk-toggleable__content\"><pre>Mapper(features=['Sex'], map_dict={'?': -999, 'female': 0, 'male': 1})</pre></div></div></div><div class=\"sk-item sk-dashed-wrapped\"><div class=\"sk-label-container\"><div class=\"sk-label sk-toggleable\"><input class=\"sk-toggleable__control sk-hidden--visually\" id=\"8df582f7-4771-414c-9a73-497b87d8b4c4\" type=\"checkbox\" ><label class=\"sk-toggleable__label\" for=\"8df582f7-4771-414c-9a73-497b87d8b4c4\">Merge Cat and Num: ColumnTransformer</label><div class=\"sk-toggleable__content\"><pre>ColumnTransformer(transformers=[('numeric_transf',\n",
       "                                 Pipeline(steps=[('simpleimputer',\n",
       "                                                  SimpleImputer(strategy='median'))]),\n",
       "                                 <sklearn.compose._column_transformer.make_column_selector object at 0x0000025CFFD8BD90>),\n",
       "                                ('categorical_transf',\n",
       "                                 Pipeline(steps=[('simpleimputer',\n",
       "                                                  SimpleImputer(strategy='most_frequent')),\n",
       "                                                 ('onehotencoder',\n",
       "                                                  OneHotEncoder(handle_unknown='ignore'))]),\n",
       "                                 <sklearn.compose._column_transformer.make_column_selector object at 0x0000025CFFD8B1F0>)])</pre></div></div></div><div class=\"sk-parallel\"><div class=\"sk-parallel-item\"><div class=\"sk-item\"><div class=\"sk-label-container\"><div class=\"sk-label sk-toggleable\"><input class=\"sk-toggleable__control sk-hidden--visually\" id=\"13f0767e-6b22-4ae6-ab58-2719a706ba95\" type=\"checkbox\" ><label class=\"sk-toggleable__label\" for=\"13f0767e-6b22-4ae6-ab58-2719a706ba95\">numeric_transf</label><div class=\"sk-toggleable__content\"><pre><sklearn.compose._column_transformer.make_column_selector object at 0x0000025CFFD8BD90></pre></div></div></div><div class=\"sk-serial\"><div class=\"sk-item\"><div class=\"sk-serial\"><div class=\"sk-item\"><div class=\"sk-estimator sk-toggleable\"><input class=\"sk-toggleable__control sk-hidden--visually\" id=\"ee58ad2f-8b2c-44c8-9a5c-577e5cc17fb5\" type=\"checkbox\" ><label class=\"sk-toggleable__label\" for=\"ee58ad2f-8b2c-44c8-9a5c-577e5cc17fb5\">SimpleImputer</label><div class=\"sk-toggleable__content\"><pre>SimpleImputer(strategy='median')</pre></div></div></div></div></div></div></div></div><div class=\"sk-parallel-item\"><div class=\"sk-item\"><div class=\"sk-label-container\"><div class=\"sk-label sk-toggleable\"><input class=\"sk-toggleable__control sk-hidden--visually\" id=\"156ee923-e8ca-476c-a5be-71788308d43d\" type=\"checkbox\" ><label class=\"sk-toggleable__label\" for=\"156ee923-e8ca-476c-a5be-71788308d43d\">categorical_transf</label><div class=\"sk-toggleable__content\"><pre><sklearn.compose._column_transformer.make_column_selector object at 0x0000025CFFD8B1F0></pre></div></div></div><div class=\"sk-serial\"><div class=\"sk-item\"><div class=\"sk-serial\"><div class=\"sk-item\"><div class=\"sk-estimator sk-toggleable\"><input class=\"sk-toggleable__control sk-hidden--visually\" id=\"5304d4f4-3af1-4cd1-a021-cc6a5872e028\" type=\"checkbox\" ><label class=\"sk-toggleable__label\" for=\"5304d4f4-3af1-4cd1-a021-cc6a5872e028\">SimpleImputer</label><div class=\"sk-toggleable__content\"><pre>SimpleImputer(strategy='most_frequent')</pre></div></div></div><div class=\"sk-item\"><div class=\"sk-estimator sk-toggleable\"><input class=\"sk-toggleable__control sk-hidden--visually\" id=\"0ac3635a-090a-4dfb-9a08-62791e7e3fd8\" type=\"checkbox\" ><label class=\"sk-toggleable__label\" for=\"0ac3635a-090a-4dfb-9a08-62791e7e3fd8\">OneHotEncoder</label><div class=\"sk-toggleable__content\"><pre>OneHotEncoder(handle_unknown='ignore')</pre></div></div></div></div></div></div></div></div></div></div><div class=\"sk-item\"><div class=\"sk-estimator sk-toggleable\"><input class=\"sk-toggleable__control sk-hidden--visually\" id=\"9327fea3-9318-487f-b23b-3dfffd45c98b\" type=\"checkbox\" ><label class=\"sk-toggleable__label\" for=\"9327fea3-9318-487f-b23b-3dfffd45c98b\">RandomForestClassifier</label><div class=\"sk-toggleable__content\"><pre>RandomForestClassifier(random_state=0)</pre></div></div></div></div></div></div></div>"
      ],
      "text/plain": [
       "Pipeline(steps=[('Fix dtype',\n",
       "                 FunctionTransformer(func=<function corrige_type at 0x0000025CFFD061F0>)),\n",
       "                ('Get name infos',\n",
       "                 FunctionTransformer(func=<function name_information at 0x0000025CFFCB31F0>)),\n",
       "                ('Get cabin infos', Cabin_code()),\n",
       "                ('Encode SEX',\n",
       "                 Mapper(features=['Sex'],\n",
       "                        map_dict={'?': -999, 'female': 0, 'male': 1})),\n",
       "                ('Merge Cat and Num',\n",
       "                 ColumnTransformer(transformers=[('...\n",
       "                                                  <sklearn.compose._column_transformer.make_column_selector object at 0x0000025CFFD8BD90>),\n",
       "                                                 ('categorical_transf',\n",
       "                                                  Pipeline(steps=[('simpleimputer',\n",
       "                                                                   SimpleImputer(strategy='most_frequent')),\n",
       "                                                                  ('onehotencoder',\n",
       "                                                                   OneHotEncoder(handle_unknown='ignore'))]),\n",
       "                                                  <sklearn.compose._column_transformer.make_column_selector object at 0x0000025CFFD8B1F0>)])),\n",
       "                ('RF model', RandomForestClassifier(random_state=0))])"
      ]
     },
     "execution_count": 105,
     "metadata": {},
     "output_type": "execute_result"
    }
   ],
   "source": [
    "sk_pipe"
   ]
  },
  {
   "cell_type": "markdown",
   "id": "41b132c0",
   "metadata": {},
   "source": [
    "## Feature-engine approach"
   ]
  },
  {
   "cell_type": "code",
   "execution_count": 106,
   "id": "4f92c291",
   "metadata": {},
   "outputs": [],
   "source": [
    "#basic pre processing \n",
    "pipe_pp = make_pipeline(\n",
    "                        MeanMedianImputer(imputation_method='mean', variables=['Age']),\n",
    "                        Fill_na_transf(fill_na=\"?\"),\n",
    "                        Cabin_code(),\n",
    "                        Get_title(),\n",
    "                        Mapper(features=['Sex'],map_dict = sex_map),\n",
    "                        OneHotEncoder(top_categories = 3, variables=['Cabin_code','Title','Embarked']),\n",
    "                        DropFeatures(features_to_drop=['Name','Ticket','Cabin']),)"
   ]
  },
  {
   "cell_type": "code",
   "execution_count": 107,
   "id": "69d3caf0",
   "metadata": {},
   "outputs": [
    {
     "data": {
      "text/html": [
       "<style>#sk-b47a3e0e-ce1c-4f4a-a559-45ebef9470ac {color: black;background-color: white;}#sk-b47a3e0e-ce1c-4f4a-a559-45ebef9470ac pre{padding: 0;}#sk-b47a3e0e-ce1c-4f4a-a559-45ebef9470ac div.sk-toggleable {background-color: white;}#sk-b47a3e0e-ce1c-4f4a-a559-45ebef9470ac label.sk-toggleable__label {cursor: pointer;display: block;width: 100%;margin-bottom: 0;padding: 0.2em 0.3em;box-sizing: border-box;text-align: center;}#sk-b47a3e0e-ce1c-4f4a-a559-45ebef9470ac div.sk-toggleable__content {max-height: 0;max-width: 0;overflow: hidden;text-align: left;background-color: #f0f8ff;}#sk-b47a3e0e-ce1c-4f4a-a559-45ebef9470ac div.sk-toggleable__content pre {margin: 0.2em;color: black;border-radius: 0.25em;background-color: #f0f8ff;}#sk-b47a3e0e-ce1c-4f4a-a559-45ebef9470ac input.sk-toggleable__control:checked~div.sk-toggleable__content {max-height: 200px;max-width: 100%;overflow: auto;}#sk-b47a3e0e-ce1c-4f4a-a559-45ebef9470ac div.sk-estimator input.sk-toggleable__control:checked~label.sk-toggleable__label {background-color: #d4ebff;}#sk-b47a3e0e-ce1c-4f4a-a559-45ebef9470ac div.sk-label input.sk-toggleable__control:checked~label.sk-toggleable__label {background-color: #d4ebff;}#sk-b47a3e0e-ce1c-4f4a-a559-45ebef9470ac input.sk-hidden--visually {border: 0;clip: rect(1px 1px 1px 1px);clip: rect(1px, 1px, 1px, 1px);height: 1px;margin: -1px;overflow: hidden;padding: 0;position: absolute;width: 1px;}#sk-b47a3e0e-ce1c-4f4a-a559-45ebef9470ac div.sk-estimator {font-family: monospace;background-color: #f0f8ff;margin: 0.25em 0.25em;border: 1px dotted black;border-radius: 0.25em;box-sizing: border-box;}#sk-b47a3e0e-ce1c-4f4a-a559-45ebef9470ac div.sk-estimator:hover {background-color: #d4ebff;}#sk-b47a3e0e-ce1c-4f4a-a559-45ebef9470ac div.sk-parallel-item::after {content: \"\";width: 100%;border-bottom: 1px solid gray;flex-grow: 1;}#sk-b47a3e0e-ce1c-4f4a-a559-45ebef9470ac div.sk-label:hover label.sk-toggleable__label {background-color: #d4ebff;}#sk-b47a3e0e-ce1c-4f4a-a559-45ebef9470ac div.sk-serial::before {content: \"\";position: absolute;border-left: 1px solid gray;box-sizing: border-box;top: 2em;bottom: 0;left: 50%;}#sk-b47a3e0e-ce1c-4f4a-a559-45ebef9470ac div.sk-serial {display: flex;flex-direction: column;align-items: center;background-color: white;}#sk-b47a3e0e-ce1c-4f4a-a559-45ebef9470ac div.sk-item {z-index: 1;}#sk-b47a3e0e-ce1c-4f4a-a559-45ebef9470ac div.sk-parallel {display: flex;align-items: stretch;justify-content: center;background-color: white;}#sk-b47a3e0e-ce1c-4f4a-a559-45ebef9470ac div.sk-parallel-item {display: flex;flex-direction: column;position: relative;background-color: white;}#sk-b47a3e0e-ce1c-4f4a-a559-45ebef9470ac div.sk-parallel-item:first-child::after {align-self: flex-end;width: 50%;}#sk-b47a3e0e-ce1c-4f4a-a559-45ebef9470ac div.sk-parallel-item:last-child::after {align-self: flex-start;width: 50%;}#sk-b47a3e0e-ce1c-4f4a-a559-45ebef9470ac div.sk-parallel-item:only-child::after {width: 0;}#sk-b47a3e0e-ce1c-4f4a-a559-45ebef9470ac div.sk-dashed-wrapped {border: 1px dashed gray;margin: 0.2em;box-sizing: border-box;padding-bottom: 0.1em;background-color: white;position: relative;}#sk-b47a3e0e-ce1c-4f4a-a559-45ebef9470ac div.sk-label label {font-family: monospace;font-weight: bold;background-color: white;display: inline-block;line-height: 1.2em;}#sk-b47a3e0e-ce1c-4f4a-a559-45ebef9470ac div.sk-label-container {position: relative;z-index: 2;text-align: center;}#sk-b47a3e0e-ce1c-4f4a-a559-45ebef9470ac div.sk-container {display: inline-block;position: relative;}</style><div id=\"sk-b47a3e0e-ce1c-4f4a-a559-45ebef9470ac\" class\"sk-top-container\"><div class=\"sk-container\"><div class=\"sk-item sk-dashed-wrapped\"><div class=\"sk-label-container\"><div class=\"sk-label sk-toggleable\"><input class=\"sk-toggleable__control sk-hidden--visually\" id=\"33866dae-34b0-46d1-8d5d-43d8e981c900\" type=\"checkbox\" ><label class=\"sk-toggleable__label\" for=\"33866dae-34b0-46d1-8d5d-43d8e981c900\">Pipeline</label><div class=\"sk-toggleable__content\"><pre>Pipeline(steps=[('meanmedianimputer',\n",
       "                 MeanMedianImputer(imputation_method='mean',\n",
       "                                   variables=['Age'])),\n",
       "                ('fill_na_transf', Fill_na_transf(fill_na='?')),\n",
       "                ('cabin_code', Cabin_code()), ('get_title', Get_title()),\n",
       "                ('mapper',\n",
       "                 Mapper(features=['Sex'],\n",
       "                        map_dict={'?': -999, 'female': 0, 'male': 1})),\n",
       "                ('onehotencoder',\n",
       "                 OneHotEncoder(top_categories=3,\n",
       "                               variables=['Cabin_code', 'Title', 'Embarked'])),\n",
       "                ('dropfeatures',\n",
       "                 DropFeatures(features_to_drop=['Name', 'Ticket', 'Cabin']))])</pre></div></div></div><div class=\"sk-serial\"><div class=\"sk-item\"><div class=\"sk-estimator sk-toggleable\"><input class=\"sk-toggleable__control sk-hidden--visually\" id=\"1cb4b0af-5fe1-4d48-b2ed-32ff651d2148\" type=\"checkbox\" ><label class=\"sk-toggleable__label\" for=\"1cb4b0af-5fe1-4d48-b2ed-32ff651d2148\">MeanMedianImputer</label><div class=\"sk-toggleable__content\"><pre>MeanMedianImputer(imputation_method='mean', variables=['Age'])</pre></div></div></div><div class=\"sk-item\"><div class=\"sk-estimator sk-toggleable\"><input class=\"sk-toggleable__control sk-hidden--visually\" id=\"9aa31903-659e-4942-8d57-4332c56f7eb1\" type=\"checkbox\" ><label class=\"sk-toggleable__label\" for=\"9aa31903-659e-4942-8d57-4332c56f7eb1\">Fill_na_transf</label><div class=\"sk-toggleable__content\"><pre>Fill_na_transf(fill_na='?')</pre></div></div></div><div class=\"sk-item\"><div class=\"sk-estimator sk-toggleable\"><input class=\"sk-toggleable__control sk-hidden--visually\" id=\"853c43d4-a19e-4dd3-a99f-26e09abadf9f\" type=\"checkbox\" ><label class=\"sk-toggleable__label\" for=\"853c43d4-a19e-4dd3-a99f-26e09abadf9f\">Cabin_code</label><div class=\"sk-toggleable__content\"><pre>Cabin_code()</pre></div></div></div><div class=\"sk-item\"><div class=\"sk-estimator sk-toggleable\"><input class=\"sk-toggleable__control sk-hidden--visually\" id=\"a97e08cc-bc71-4662-bf56-b62037b0f348\" type=\"checkbox\" ><label class=\"sk-toggleable__label\" for=\"a97e08cc-bc71-4662-bf56-b62037b0f348\">Get_title</label><div class=\"sk-toggleable__content\"><pre>Get_title()</pre></div></div></div><div class=\"sk-item\"><div class=\"sk-estimator sk-toggleable\"><input class=\"sk-toggleable__control sk-hidden--visually\" id=\"bf2f5ddf-e6c5-4455-bd2e-032b58d27108\" type=\"checkbox\" ><label class=\"sk-toggleable__label\" for=\"bf2f5ddf-e6c5-4455-bd2e-032b58d27108\">Mapper</label><div class=\"sk-toggleable__content\"><pre>Mapper(features=['Sex'], map_dict={'?': -999, 'female': 0, 'male': 1})</pre></div></div></div><div class=\"sk-item\"><div class=\"sk-estimator sk-toggleable\"><input class=\"sk-toggleable__control sk-hidden--visually\" id=\"2bb5d7ae-20bc-4453-a9f0-eb1f2269d5bd\" type=\"checkbox\" ><label class=\"sk-toggleable__label\" for=\"2bb5d7ae-20bc-4453-a9f0-eb1f2269d5bd\">OneHotEncoder</label><div class=\"sk-toggleable__content\"><pre>OneHotEncoder(top_categories=3, variables=['Cabin_code', 'Title', 'Embarked'])</pre></div></div></div><div class=\"sk-item\"><div class=\"sk-estimator sk-toggleable\"><input class=\"sk-toggleable__control sk-hidden--visually\" id=\"614db277-a9ea-40af-ba8b-6c5adb009184\" type=\"checkbox\" ><label class=\"sk-toggleable__label\" for=\"614db277-a9ea-40af-ba8b-6c5adb009184\">DropFeatures</label><div class=\"sk-toggleable__content\"><pre>DropFeatures(features_to_drop=['Name', 'Ticket', 'Cabin'])</pre></div></div></div></div></div></div></div>"
      ],
      "text/plain": [
       "Pipeline(steps=[('meanmedianimputer',\n",
       "                 MeanMedianImputer(imputation_method='mean',\n",
       "                                   variables=['Age'])),\n",
       "                ('fill_na_transf', Fill_na_transf(fill_na='?')),\n",
       "                ('cabin_code', Cabin_code()), ('get_title', Get_title()),\n",
       "                ('mapper',\n",
       "                 Mapper(features=['Sex'],\n",
       "                        map_dict={'?': -999, 'female': 0, 'male': 1})),\n",
       "                ('onehotencoder',\n",
       "                 OneHotEncoder(top_categories=3,\n",
       "                               variables=['Cabin_code', 'Title', 'Embarked'])),\n",
       "                ('dropfeatures',\n",
       "                 DropFeatures(features_to_drop=['Name', 'Ticket', 'Cabin']))])"
      ]
     },
     "execution_count": 107,
     "metadata": {},
     "output_type": "execute_result"
    }
   ],
   "source": [
    "pipe_pp"
   ]
  },
  {
   "cell_type": "code",
   "execution_count": 33,
   "id": "d790fbff",
   "metadata": {},
   "outputs": [
    {
     "data": {
      "text/html": [
       "<div>\n",
       "<style scoped>\n",
       "    .dataframe tbody tr th:only-of-type {\n",
       "        vertical-align: middle;\n",
       "    }\n",
       "\n",
       "    .dataframe tbody tr th {\n",
       "        vertical-align: top;\n",
       "    }\n",
       "\n",
       "    .dataframe thead th {\n",
       "        text-align: right;\n",
       "    }\n",
       "</style>\n",
       "<table border=\"1\" class=\"dataframe\">\n",
       "  <thead>\n",
       "    <tr style=\"text-align: right;\">\n",
       "      <th></th>\n",
       "      <th>Pclass</th>\n",
       "      <th>Sex</th>\n",
       "      <th>Age</th>\n",
       "      <th>SibSp</th>\n",
       "      <th>Parch</th>\n",
       "      <th>Fare</th>\n",
       "      <th>Cabin_Size</th>\n",
       "      <th>Cabin_code_?</th>\n",
       "      <th>Cabin_code_C</th>\n",
       "      <th>Cabin_code_B</th>\n",
       "      <th>Title_Mr</th>\n",
       "      <th>Title_Miss</th>\n",
       "      <th>Title_Mrs</th>\n",
       "      <th>Embarked_S</th>\n",
       "      <th>Embarked_C</th>\n",
       "      <th>Embarked_Q</th>\n",
       "    </tr>\n",
       "    <tr>\n",
       "      <th>PassengerId</th>\n",
       "      <th></th>\n",
       "      <th></th>\n",
       "      <th></th>\n",
       "      <th></th>\n",
       "      <th></th>\n",
       "      <th></th>\n",
       "      <th></th>\n",
       "      <th></th>\n",
       "      <th></th>\n",
       "      <th></th>\n",
       "      <th></th>\n",
       "      <th></th>\n",
       "      <th></th>\n",
       "      <th></th>\n",
       "      <th></th>\n",
       "      <th></th>\n",
       "    </tr>\n",
       "  </thead>\n",
       "  <tbody>\n",
       "    <tr>\n",
       "      <th>446</th>\n",
       "      <td>1</td>\n",
       "      <td>1</td>\n",
       "      <td>4.000000</td>\n",
       "      <td>0</td>\n",
       "      <td>2</td>\n",
       "      <td>81.8583</td>\n",
       "      <td>1</td>\n",
       "      <td>0</td>\n",
       "      <td>0</td>\n",
       "      <td>0</td>\n",
       "      <td>0</td>\n",
       "      <td>0</td>\n",
       "      <td>0</td>\n",
       "      <td>1</td>\n",
       "      <td>0</td>\n",
       "      <td>0</td>\n",
       "    </tr>\n",
       "    <tr>\n",
       "      <th>651</th>\n",
       "      <td>3</td>\n",
       "      <td>1</td>\n",
       "      <td>29.256353</td>\n",
       "      <td>0</td>\n",
       "      <td>0</td>\n",
       "      <td>7.8958</td>\n",
       "      <td>1</td>\n",
       "      <td>1</td>\n",
       "      <td>0</td>\n",
       "      <td>0</td>\n",
       "      <td>1</td>\n",
       "      <td>0</td>\n",
       "      <td>0</td>\n",
       "      <td>1</td>\n",
       "      <td>0</td>\n",
       "      <td>0</td>\n",
       "    </tr>\n",
       "    <tr>\n",
       "      <th>173</th>\n",
       "      <td>3</td>\n",
       "      <td>0</td>\n",
       "      <td>1.000000</td>\n",
       "      <td>1</td>\n",
       "      <td>1</td>\n",
       "      <td>11.1333</td>\n",
       "      <td>1</td>\n",
       "      <td>1</td>\n",
       "      <td>0</td>\n",
       "      <td>0</td>\n",
       "      <td>0</td>\n",
       "      <td>1</td>\n",
       "      <td>0</td>\n",
       "      <td>1</td>\n",
       "      <td>0</td>\n",
       "      <td>0</td>\n",
       "    </tr>\n",
       "    <tr>\n",
       "      <th>451</th>\n",
       "      <td>2</td>\n",
       "      <td>1</td>\n",
       "      <td>36.000000</td>\n",
       "      <td>1</td>\n",
       "      <td>2</td>\n",
       "      <td>27.7500</td>\n",
       "      <td>1</td>\n",
       "      <td>1</td>\n",
       "      <td>0</td>\n",
       "      <td>0</td>\n",
       "      <td>1</td>\n",
       "      <td>0</td>\n",
       "      <td>0</td>\n",
       "      <td>1</td>\n",
       "      <td>0</td>\n",
       "      <td>0</td>\n",
       "    </tr>\n",
       "    <tr>\n",
       "      <th>315</th>\n",
       "      <td>2</td>\n",
       "      <td>1</td>\n",
       "      <td>43.000000</td>\n",
       "      <td>1</td>\n",
       "      <td>1</td>\n",
       "      <td>26.2500</td>\n",
       "      <td>1</td>\n",
       "      <td>1</td>\n",
       "      <td>0</td>\n",
       "      <td>0</td>\n",
       "      <td>1</td>\n",
       "      <td>0</td>\n",
       "      <td>0</td>\n",
       "      <td>1</td>\n",
       "      <td>0</td>\n",
       "      <td>0</td>\n",
       "    </tr>\n",
       "  </tbody>\n",
       "</table>\n",
       "</div>"
      ],
      "text/plain": [
       "             Pclass  Sex        Age  SibSp  Parch     Fare  Cabin_Size  \\\n",
       "PassengerId                                                              \n",
       "446               1    1   4.000000      0      2  81.8583           1   \n",
       "651               3    1  29.256353      0      0   7.8958           1   \n",
       "173               3    0   1.000000      1      1  11.1333           1   \n",
       "451               2    1  36.000000      1      2  27.7500           1   \n",
       "315               2    1  43.000000      1      1  26.2500           1   \n",
       "\n",
       "             Cabin_code_?  Cabin_code_C  Cabin_code_B  Title_Mr  Title_Miss  \\\n",
       "PassengerId                                                                   \n",
       "446                     0             0             0         0           0   \n",
       "651                     1             0             0         1           0   \n",
       "173                     1             0             0         0           1   \n",
       "451                     1             0             0         1           0   \n",
       "315                     1             0             0         1           0   \n",
       "\n",
       "             Title_Mrs  Embarked_S  Embarked_C  Embarked_Q  \n",
       "PassengerId                                                 \n",
       "446                  0           1           0           0  \n",
       "651                  0           1           0           0  \n",
       "173                  0           1           0           0  \n",
       "451                  0           1           0           0  \n",
       "315                  0           1           0           0  "
      ]
     },
     "execution_count": 33,
     "metadata": {},
     "output_type": "execute_result"
    }
   ],
   "source": [
    "x_base = pipe_base.fit_transform(x_train)\n",
    "x_base.head()"
   ]
  },
  {
   "cell_type": "code",
   "execution_count": 38,
   "id": "2c870246",
   "metadata": {},
   "outputs": [
    {
     "name": "stdout",
     "output_type": "stream",
     "text": [
      "accuracy of 0.8203 and standard deviation of 0.0348\n"
     ]
    }
   ],
   "source": [
    "pipe_rf = make_pipeline(pipe_base,RandomForestClassifier(random_state=0))\n",
    "score_base = cross_val_score(pipe_rf, x_train, y_train, cv=5)\n",
    "print(f'accuracy of {np.round(score_base.mean(),4)} and standard deviation of {np.round(score_base.std(),4)}')"
   ]
  },
  {
   "cell_type": "code",
   "execution_count": 330,
   "id": "5fd941e0",
   "metadata": {},
   "outputs": [],
   "source": [
    "# filling na of \"Age\" with median instead of mean\n",
    "pipe_base2 = make_pipeline(\n",
    "                        MeanMedianImputer(imputation_method='mean', variables=['Age']),\n",
    "                        Fill_na_transf(fill_na=\"?\"),\n",
    "                        Cabin_code(),\n",
    "                        Get_title(),\n",
    "                        Mapper(features=['Sex'],map_dict = sex_map),\n",
    "                        OneHotEncoder(top_categories = 3, variables=['Cabin_code','Title','Embarked']),\n",
    "                        DropFeatures(features_to_drop=['Name','Ticket','Cabin']),\n",
    "                        Winsorizer(variables=[\"Age\",\"Fare\"],capping_method='quantiles', fold=0.05),\n",
    "                        RandomForestClassifier(random_state=42))"
   ]
  },
  {
   "cell_type": "code",
   "execution_count": 331,
   "id": "f7fdda8d",
   "metadata": {},
   "outputs": [
    {
     "name": "stdout",
     "output_type": "stream",
     "text": [
      "accuracy of 0.8236 and standard deviation of 0.0357\n"
     ]
    }
   ],
   "source": [
    "score_base2 = cross_val_score(pipe_base2, x_train, y_train, cv=5)\n",
    "print(f'accuracy of {np.round(score_base2.mean(),4)} and standard deviation of {np.round(score_base2.std(),4)}')"
   ]
  },
  {
   "cell_type": "code",
   "execution_count": 473,
   "id": "e8a32d0b",
   "metadata": {},
   "outputs": [],
   "source": [
    "#basic pre processing \n",
    "pipe_2 = make_pipeline(\n",
    "                        MeanMedianImputer(imputation_method='mean', variables=['Age']),\n",
    "                        Fill_na_transf(fill_na='?'),\n",
    "                        Cabin_code(),\n",
    "                        Get_title(),\n",
    "                        Mapper(features=['Sex'],map_dict = sex_map),\n",
    "                        OneHotEncoder(top_categories = 3, variables=['Cabin_code','Title','Embarked']),\n",
    "                        DropFeatures(features_to_drop=['Name','Ticket','Cabin']))"
   ]
  },
  {
   "cell_type": "code",
   "execution_count": 474,
   "id": "c2f2c476",
   "metadata": {},
   "outputs": [],
   "source": [
    "x_eda_ = pipe_2.fit_transform(x_train)"
   ]
  },
  {
   "cell_type": "code",
   "execution_count": 476,
   "id": "daeb0539",
   "metadata": {
    "scrolled": true
   },
   "outputs": [
    {
     "name": "stdout",
     "output_type": "stream",
     "text": [
      "                       0\n",
      "Title_Mr      251.580692\n",
      "Sex           245.907141\n",
      "Title_Mrs      94.181396\n",
      "Pclass         67.080704\n",
      "Cabin_code_?   64.614775\n",
      "Title_Miss     61.333777\n",
      "Fare           37.641272\n",
      "Embarked_C     21.977995\n",
      "Cabin_code_B   21.440811\n",
      "Embarked_S     18.201298\n"
     ]
    }
   ],
   "source": [
    "algoritmo = SelectKBest(score_func=f_classif, k=10)\n",
    "best_k_features = algoritmo.fit_transform(x_eda_,y_train)\n",
    "\n",
    "scores_fclassif = pd.DataFrame(algoritmo.scores_,x_eda_.columns)\n",
    "\n",
    "#print results\n",
    "print(scores_fclassif.sort_values(by=0, ascending=False).head(10))"
   ]
  },
  {
   "cell_type": "code",
   "execution_count": null,
   "id": "317a24bb",
   "metadata": {},
   "outputs": [],
   "source": []
  }
 ],
 "metadata": {
  "kernelspec": {
   "display_name": "Python 3 (ipykernel)",
   "language": "python",
   "name": "python3"
  },
  "language_info": {
   "codemirror_mode": {
    "name": "ipython",
    "version": 3
   },
   "file_extension": ".py",
   "mimetype": "text/x-python",
   "name": "python",
   "nbconvert_exporter": "python",
   "pygments_lexer": "ipython3",
   "version": "3.8.10"
  }
 },
 "nbformat": 4,
 "nbformat_minor": 5
}
