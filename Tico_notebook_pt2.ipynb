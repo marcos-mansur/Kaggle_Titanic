{
 "cells": [
  {
   "cell_type": "code",
   "execution_count": 34,
   "id": "f727e8be",
   "metadata": {},
   "outputs": [],
   "source": [
    "import warnings\n",
    "warnings.filterwarnings(\"ignore\")"
   ]
  },
  {
   "cell_type": "code",
   "execution_count": 35,
   "id": "832c7206",
   "metadata": {},
   "outputs": [],
   "source": [
    "import pandas as pd \n",
    "import numpy as np\n",
    "import re\n",
    "import matplotlib.pyplot as plt\n",
    "\n",
    "from sklearn.model_selection import train_test_split\n",
    "from sklearn.base import BaseEstimator, TransformerMixin\n",
    "\n",
    "# Learning curve\n",
    "from sklearn.model_selection import learning_curve\n",
    "from sklearn.model_selection import ShuffleSplit\n",
    "\n",
    "from sklearn.ensemble import RandomForestClassifier, GradientBoostingClassifier, VotingClassifier\n",
    "from sklearn.linear_model import LogisticRegression\n",
    "from lightgbm import LGBMClassifier\n",
    "\n",
    "# Feature engineer \n",
    "from feature_engine.selection import DropFeatures\n",
    "from feature_engine.encoding import OneHotEncoder\n",
    "from feature_engine.encoding import RareLabelEncoder\n",
    "from sklearn.preprocessing import OneHotEncoder as OneHotSK\n",
    "from feature_engine.outliers import Winsorizer, ArbitraryOutlierCapper\n",
    "from feature_engine.imputation import (AddMissingIndicator, MeanMedianImputer, CategoricalImputer)\n",
    "from sklearn.impute import SimpleImputer\n",
    "from sklearn.preprocessing import FunctionTransformer, StandardScaler, MinMaxScaler\n",
    "from sklearn.compose import ColumnTransformer, make_column_selector, make_column_transformer\n",
    "from sklearn.pipeline import make_pipeline, Pipeline\n",
    "\n",
    "# Model_Selection\n",
    "from sklearn.model_selection import train_test_split, cross_val_score, KFold, GridSearchCV"
   ]
  },
  {
   "cell_type": "markdown",
   "id": "18f4bb1e",
   "metadata": {},
   "source": [
    "# Load the Data"
   ]
  },
  {
   "cell_type": "code",
   "execution_count": 36,
   "id": "e910e71b",
   "metadata": {},
   "outputs": [],
   "source": [
    "def load_data():\n",
    "    global df\n",
    "    df = pd.read_csv(\"Dados/train.csv\",index_col=0)\n",
    "    global df_pred\n",
    "    df_pred = pd.read_csv(\"Dados/test.csv\",index_col=0)\n",
    "    global x\n",
    "    x = df.drop('Survived',axis=1)\n",
    "    global y\n",
    "    y = df.Survived\n",
    "    global seed\n",
    "    seed = 42\n",
    "    \n",
    "    global x_train, x_test, y_train, y_test\n",
    "    x_train, x_test, y_train, y_test = train_test_split(x,y,test_size=0.3, random_state = 0)\n",
    "    \n",
    "    global num_var, cat_var, target\n",
    "    num_var = ['Pclass','Age','SibSp','Parch','Fare','Cabin_Size']\n",
    "    cat_var = ['Sex','Cabin_code','Embarked','Name_Title', 'Name_family']\n",
    "    target = ['Survived']"
   ]
  },
  {
   "cell_type": "code",
   "execution_count": 37,
   "id": "777add8b",
   "metadata": {},
   "outputs": [],
   "source": [
    "load_data()"
   ]
  },
  {
   "cell_type": "code",
   "execution_count": 38,
   "id": "200d0a71",
   "metadata": {},
   "outputs": [
    {
     "data": {
      "text/html": [
       "<div>\n",
       "<style scoped>\n",
       "    .dataframe tbody tr th:only-of-type {\n",
       "        vertical-align: middle;\n",
       "    }\n",
       "\n",
       "    .dataframe tbody tr th {\n",
       "        vertical-align: top;\n",
       "    }\n",
       "\n",
       "    .dataframe thead th {\n",
       "        text-align: right;\n",
       "    }\n",
       "</style>\n",
       "<table border=\"1\" class=\"dataframe\">\n",
       "  <thead>\n",
       "    <tr style=\"text-align: right;\">\n",
       "      <th></th>\n",
       "      <th>Pclass</th>\n",
       "      <th>Name</th>\n",
       "      <th>Sex</th>\n",
       "      <th>Age</th>\n",
       "      <th>SibSp</th>\n",
       "      <th>Parch</th>\n",
       "      <th>Ticket</th>\n",
       "      <th>Fare</th>\n",
       "      <th>Cabin</th>\n",
       "      <th>Embarked</th>\n",
       "    </tr>\n",
       "    <tr>\n",
       "      <th>PassengerId</th>\n",
       "      <th></th>\n",
       "      <th></th>\n",
       "      <th></th>\n",
       "      <th></th>\n",
       "      <th></th>\n",
       "      <th></th>\n",
       "      <th></th>\n",
       "      <th></th>\n",
       "      <th></th>\n",
       "      <th></th>\n",
       "    </tr>\n",
       "  </thead>\n",
       "  <tbody>\n",
       "    <tr>\n",
       "      <th>858</th>\n",
       "      <td>1</td>\n",
       "      <td>Daly, Mr. Peter Denis</td>\n",
       "      <td>male</td>\n",
       "      <td>51.0</td>\n",
       "      <td>0</td>\n",
       "      <td>0</td>\n",
       "      <td>113055</td>\n",
       "      <td>26.5500</td>\n",
       "      <td>E17</td>\n",
       "      <td>S</td>\n",
       "    </tr>\n",
       "    <tr>\n",
       "      <th>53</th>\n",
       "      <td>1</td>\n",
       "      <td>Harper, Mrs. Henry Sleeper (Myna Haxtun)</td>\n",
       "      <td>female</td>\n",
       "      <td>49.0</td>\n",
       "      <td>1</td>\n",
       "      <td>0</td>\n",
       "      <td>PC 17572</td>\n",
       "      <td>76.7292</td>\n",
       "      <td>D33</td>\n",
       "      <td>C</td>\n",
       "    </tr>\n",
       "    <tr>\n",
       "      <th>387</th>\n",
       "      <td>3</td>\n",
       "      <td>Goodwin, Master. Sidney Leonard</td>\n",
       "      <td>male</td>\n",
       "      <td>1.0</td>\n",
       "      <td>5</td>\n",
       "      <td>2</td>\n",
       "      <td>CA 2144</td>\n",
       "      <td>46.9000</td>\n",
       "      <td>NaN</td>\n",
       "      <td>S</td>\n",
       "    </tr>\n",
       "    <tr>\n",
       "      <th>125</th>\n",
       "      <td>1</td>\n",
       "      <td>White, Mr. Percival Wayland</td>\n",
       "      <td>male</td>\n",
       "      <td>54.0</td>\n",
       "      <td>0</td>\n",
       "      <td>1</td>\n",
       "      <td>35281</td>\n",
       "      <td>77.2875</td>\n",
       "      <td>D26</td>\n",
       "      <td>S</td>\n",
       "    </tr>\n",
       "    <tr>\n",
       "      <th>579</th>\n",
       "      <td>3</td>\n",
       "      <td>Caram, Mrs. Joseph (Maria Elias)</td>\n",
       "      <td>female</td>\n",
       "      <td>NaN</td>\n",
       "      <td>1</td>\n",
       "      <td>0</td>\n",
       "      <td>2689</td>\n",
       "      <td>14.4583</td>\n",
       "      <td>NaN</td>\n",
       "      <td>C</td>\n",
       "    </tr>\n",
       "  </tbody>\n",
       "</table>\n",
       "</div>"
      ],
      "text/plain": [
       "             Pclass                                      Name     Sex   Age  \\\n",
       "PassengerId                                                                   \n",
       "858               1                    Daly, Mr. Peter Denis     male  51.0   \n",
       "53                1  Harper, Mrs. Henry Sleeper (Myna Haxtun)  female  49.0   \n",
       "387               3           Goodwin, Master. Sidney Leonard    male   1.0   \n",
       "125               1               White, Mr. Percival Wayland    male  54.0   \n",
       "579               3          Caram, Mrs. Joseph (Maria Elias)  female   NaN   \n",
       "\n",
       "             SibSp  Parch    Ticket     Fare Cabin Embarked  \n",
       "PassengerId                                                  \n",
       "858              0      0    113055  26.5500   E17        S  \n",
       "53               1      0  PC 17572  76.7292   D33        C  \n",
       "387              5      2   CA 2144  46.9000   NaN        S  \n",
       "125              0      1     35281  77.2875   D26        S  \n",
       "579              1      0      2689  14.4583   NaN        C  "
      ]
     },
     "execution_count": 38,
     "metadata": {},
     "output_type": "execute_result"
    }
   ],
   "source": [
    "x_train.head()"
   ]
  },
  {
   "cell_type": "markdown",
   "id": "c0107966",
   "metadata": {},
   "source": [
    "# Functions"
   ]
  },
  {
   "cell_type": "code",
   "execution_count": 39,
   "id": "c2f5679c",
   "metadata": {},
   "outputs": [],
   "source": [
    "class dtype_fix(BaseEstimator,TransformerMixin):\n",
    "    \"\"\" corrects dtype of all initial features\"\"\"\n",
    "    \n",
    "    def __init__(self, Pclass_type='O',SibSpParch_type=None):\n",
    "        self.Pclass_type=Pclass_type\n",
    "        self.SibSpParch_type=SibSpParch_type\n",
    "        pass\n",
    "    \n",
    "    def fit(self, x:pd.DataFrame, y:pd.Series=None):\n",
    "        return self\n",
    "    \n",
    "    def transform(self, x:pd.DataFrame,y:pd.Series=None):\n",
    "        df=x.copy()\n",
    "        try:\n",
    "            if self.Pclass_type=='O':\n",
    "                df['Pclass']=df['Pclass'].astype('object')\n",
    "            else :\n",
    "                df['Pclass']=df['Pclass'].astype('int')\n",
    "            if self.SibSpParch_type=='O':\n",
    "                df['SibSp']=df['SibSp'].astype('object')\n",
    "                df['Parch']=df['Parch'].astype('object')               \n",
    "            df['Fare']=df['Fare'].astype('float')\n",
    "            df['Sex']=df['Sex'].astype('object')\n",
    "            df['Age']=df['Age'].astype('float')\n",
    "            df['Cabin']=df['Cabin'].astype('object')\n",
    "            df['Embarked']=df['Embarked'].astype('object')\n",
    "        except:\n",
    "            print('erro em dtype_fix')\n",
    "        return df\n",
    "\n",
    "\n",
    "def plot_learning_curve(estimator, title, X, y, axes=None, ylim=None, cv=None,\n",
    "                        n_jobs=None, train_sizes=np.linspace(.1, 1.0, 5)):\n",
    "    \"\"\"\n",
    "    Generate plot: the test and training learning curve\n",
    "    \"\"\"\n",
    "    if axes is None:\n",
    "        _, axes = plt.subplots(1, figsize=(20, 10))\n",
    "\n",
    "    axes.set_title(title)\n",
    "    if ylim is not None:\n",
    "        axes.set_ylim(*ylim)\n",
    "    axes.set_xlabel(\"Training examples\")\n",
    "    axes.set_ylabel(\"Score\")\n",
    "\n",
    "    train_sizes, train_scores, test_scores, fit_times, _ = \\\n",
    "        learning_curve(estimator, X, y, cv=cv, n_jobs=n_jobs,\n",
    "                       train_sizes=train_sizes, scoring='accuracy',\n",
    "                       return_times=True)\n",
    "    train_scores_mean = np.mean(train_scores, axis=1)\n",
    "    train_scores_std = np.std(train_scores, axis=1)\n",
    "    test_scores_mean = np.mean(test_scores, axis=1)\n",
    "    test_scores_std = np.std(test_scores, axis=1)\n",
    "    fit_times_mean = np.mean(fit_times, axis=1)\n",
    "    fit_times_std = np.std(fit_times, axis=1)\n",
    "\n",
    "    # Plot learning curve\n",
    "    axes.grid()\n",
    "    axes.fill_between(train_sizes, train_scores_mean - train_scores_std,\n",
    "                         train_scores_mean + train_scores_std, alpha=0.1,\n",
    "                         color=\"r\")\n",
    "    axes.fill_between(train_sizes, test_scores_mean - test_scores_std,\n",
    "                         test_scores_mean + test_scores_std, alpha=0.1,\n",
    "                         color=\"g\")\n",
    "    axes.plot(train_sizes, train_scores_mean, 'o-', color=\"r\",\n",
    "                 label=\"Training score\")\n",
    "    axes.plot(train_sizes, test_scores_mean, 'o-', color=\"g\",\n",
    "                 label=\"Cross-validation score\")\n",
    "    axes.legend(loc=\"best\")\n",
    "    print('train_scores_mean: ',train_scores_mean[-1], '\\ntest_scores_mean',test_scores_mean[-1])\n",
    "    return plt\n",
    "\n",
    "def get_cross_score(pipe,cv=5):\n",
    "    score = cross_val_score(pipe, x_train, y_train, cv=cv, scoring='accuracy')\n",
    "    print(f'accuracy of {np.round(score.mean(),4)} and standard deviation of {np.round(score.std(),4)}')\n",
    "    \n",
    "def make_sub(pipe,subname):\n",
    "    pipe.fit(x,y)\n",
    "    pred = pipe.predict(df_pred)\n",
    "    data = {'PassengerId': df_pred.index,\n",
    "                 'Survived': pred}\n",
    "    sub1 = pd.DataFrame(data)\n",
    "    sub1.to_csv('Predições/Experiments_nb/' +subname+'.csv',header=True, index=False)"
   ]
  },
  {
   "cell_type": "markdown",
   "id": "86bab4b2",
   "metadata": {},
   "source": [
    "# Baseline"
   ]
  },
  {
   "cell_type": "code",
   "execution_count": 40,
   "id": "30878c73",
   "metadata": {},
   "outputs": [
    {
     "name": "stdout",
     "output_type": "stream",
     "text": [
      "accuracy of 0.6565 and standard deviation of 0.0223\n"
     ]
    }
   ],
   "source": [
    "# baseline simple pipeline\n",
    "pipe_base = make_pipeline(\n",
    "                        MeanMedianImputer(imputation_method='mean', variables=['Age']),\n",
    "                        DropFeatures(features_to_drop=['Name','Sex','Ticket','Cabin','Embarked']),\n",
    "                        RandomForestClassifier(random_state=0))\n",
    "get_cross_score(pipe_base,5)"
   ]
  },
  {
   "cell_type": "code",
   "execution_count": 41,
   "id": "1a7a3fcc",
   "metadata": {},
   "outputs": [
    {
     "name": "stdout",
     "output_type": "stream",
     "text": [
      "accuracy of 0.6565 and standard deviation of 0.0223\n"
     ]
    }
   ],
   "source": [
    "# baseline simple pipeline\n",
    "pipe_base = make_pipeline(DropFeatures(features_to_drop=['Name','Sex','Ticket','Cabin','Embarked']),\n",
    "                          SimpleImputer(missing_values=np.nan, strategy='mean'),\n",
    "                          RandomForestClassifier(random_state=0))\n",
    "get_cross_score(pipe_base,5)"
   ]
  },
  {
   "cell_type": "markdown",
   "id": "a2958c9d",
   "metadata": {},
   "source": [
    "So we have our baseline model and score now."
   ]
  },
  {
   "cell_type": "markdown",
   "id": "9fc7f8ed",
   "metadata": {},
   "source": [
    "set_config(display='diagram') shows pipelines structures in HTML"
   ]
  },
  {
   "cell_type": "code",
   "execution_count": 58,
   "id": "3f9a5e38",
   "metadata": {
    "tags": []
   },
   "outputs": [],
   "source": [
    "from sklearn import set_config\n",
    "\n",
    "set_config(display='diagram')\n",
    "#pipe_base"
   ]
  },
  {
   "attachments": {
    "0c4503cf-d43f-411d-a033-da280564c5b3.png": {
     "image/png": "[encoded data removed]"
    }
   },
   "cell_type": "markdown",
   "id": "5b57bc08-be31-4b08-bd59-7e8a2377b4f6",
   "metadata": {},
   "source": [
    "![image.png](attachment:0c4503cf-d43f-411d-a033-da280564c5b3.png)"
   ]
  },
  {
   "cell_type": "markdown",
   "id": "db394aae",
   "metadata": {},
   "source": [
    "# Feature Engineer"
   ]
  },
  {
   "cell_type": "markdown",
   "id": "4ad74059",
   "metadata": {
    "tags": []
   },
   "source": [
    "## Numeric Varibles"
   ]
  },
  {
   "cell_type": "markdown",
   "id": "1267dfd1-abda-4135-98b8-f4ef7fb130f2",
   "metadata": {
    "tags": []
   },
   "source": [
    "### SibSp and Parch\n",
    "\n",
    "Numerical features ready to be feeded to the model. Might need to be scaled."
   ]
  },
  {
   "cell_type": "markdown",
   "id": "04674d6f",
   "metadata": {},
   "source": [
    "### \"Age\"\n",
    "\n",
    "There's only one thing to be done in Age: impute missing values. Let's check how each imputing strategy behaves."
   ]
  },
  {
   "cell_type": "code",
   "execution_count": 43,
   "id": "cbc8b65d",
   "metadata": {
    "scrolled": true,
    "tags": []
   },
   "outputs": [
    {
     "name": "stdout",
     "output_type": "stream",
     "text": [
      "accuracy of 0.6549 and standard deviation of 0.0084\n"
     ]
    }
   ],
   "source": [
    "# baseline simple pipeline\n",
    "pipe_age = make_pipeline(DropFeatures(features_to_drop=['Name','Sex','Ticket','Cabin','Embarked']),\n",
    "                          SimpleImputer(missing_values=np.nan, strategy='median'),\n",
    "                          RandomForestClassifier(random_state=0))\n",
    "get_cross_score(pipe_age,5)"
   ]
  },
  {
   "cell_type": "markdown",
   "id": "4ee0a87c",
   "metadata": {},
   "source": [
    "Imputing with median lowers very slightly the acc but also lowers the OOF std."
   ]
  },
  {
   "cell_type": "code",
   "execution_count": 44,
   "id": "50f0b9f5",
   "metadata": {},
   "outputs": [
    {
     "name": "stdout",
     "output_type": "stream",
     "text": [
      "accuracy of 0.6564 and standard deviation of 0.0249\n"
     ]
    }
   ],
   "source": [
    "# baseline simple pipeline\n",
    "pipe_age2 = make_pipeline(DropFeatures(features_to_drop=['Name','Sex','Ticket','Cabin','Embarked']),\n",
    "                          SimpleImputer(missing_values=np.nan, strategy='mean', add_indicator=True),\n",
    "                          RandomForestClassifier(random_state=0))\n",
    "get_cross_score(pipe_age2,5)"
   ]
  },
  {
   "cell_type": "markdown",
   "id": "516a90e2",
   "metadata": {},
   "source": [
    "Add a missing indicator doesn't help either."
   ]
  },
  {
   "cell_type": "markdown",
   "id": "812875ca",
   "metadata": {},
   "source": [
    "Sklearn SimpleImputer imputes each feature with it's mean, meadian or mode. We can create a custom imputer to impute the mean of more specific groups than just the whole feature. "
   ]
  },
  {
   "cell_type": "code",
   "execution_count": 45,
   "id": "4175f2f9",
   "metadata": {
    "scrolled": true
   },
   "outputs": [
    {
     "name": "stdout",
     "output_type": "stream",
     "text": [
      "age mean:  29.915338645418327\n",
      "male age mean:  30.728593272171253\n",
      "female age mean:  28.395714285714284\n",
      "Pclass 1 age mean:  38.15382352941177\n",
      "Pclass 2 age mean:  29.462936507936508\n",
      "Pclass 3 age mean:  25.484375\n"
     ]
    }
   ],
   "source": [
    "print('age mean: ', x_train['Age'].mean())\n",
    "print('male age mean: ', x_train[x_train['Sex']=='male']['Age'].mean())\n",
    "print('female age mean: ', x_train[x_train['Sex']=='female']['Age'].mean())\n",
    "\n",
    "print('Pclass 1 age mean: ', x_train[x_train['Pclass']==1]['Age'].mean())\n",
    "print('Pclass 2 age mean: ', x_train[x_train['Pclass']==2]['Age'].mean())\n",
    "print('Pclass 3 age mean: ', x_train[x_train['Pclass']==3]['Age'].mean())"
   ]
  },
  {
   "cell_type": "markdown",
   "id": "af5d525e",
   "metadata": {},
   "source": [
    "In the following example we create a custom imputer to impute missing values for age based on the mean of 2 grouped features. Unless we discretize the numerical features, we're going to have to pick categorical features to group by. Pclass and sex both have big predictive pontential and diferent means for each class, so it seems logical to group by those two."
   ]
  },
  {
   "cell_type": "code",
   "execution_count": 46,
   "id": "d35a3bce",
   "metadata": {},
   "outputs": [],
   "source": [
    "class AgeGroupImputer(BaseEstimator, TransformerMixin):\n",
    "    \"\"\"Impute missing values with the mean of the group\"\"\"\n",
    "    def __init__(self,group:list=['Pclass','Sex']):\n",
    "        super().__init__()\n",
    "        self.group = group\n",
    "        self.age_means_ = {}\n",
    "\n",
    "    def fit(self, x:pd.DataFrame, y:pd.Series=None):\n",
    "        self.age_means_ = x.groupby(self.group).Age.mean()\n",
    "        return self\n",
    "\n",
    "    def transform(self, x:pd.DataFrame, y:pd.Series=None):\n",
    "        x = x.copy()\n",
    "        for key, value in self.age_means_.items():\n",
    "            x.loc[((np.isnan(x[\"Age\"])) & (x[self.group[0]] == key[0]) & (x[self.group[1]] == key[1])), 'Age'] = value\n",
    "\n",
    "        return x"
   ]
  },
  {
   "cell_type": "code",
   "execution_count": 47,
   "id": "b435d489",
   "metadata": {},
   "outputs": [
    {
     "data": {
      "text/plain": [
       "Pclass  Sex   \n",
       "1       female    34.934426\n",
       "        male      40.772267\n",
       "2       female    29.405660\n",
       "        male      29.504521\n",
       "3       female    20.979508\n",
       "        male      27.019553\n",
       "Name: Age, dtype: float64"
      ]
     },
     "execution_count": 47,
     "metadata": {},
     "output_type": "execute_result"
    }
   ],
   "source": [
    "gp = AgeGroupImputer(group=['Pclass','Sex'])\n",
    "x_age = gp.fit_transform(x_train)\n",
    "gp.age_means_"
   ]
  },
  {
   "cell_type": "code",
   "execution_count": 48,
   "id": "01bd156b",
   "metadata": {
    "tags": []
   },
   "outputs": [
    {
     "name": "stdout",
     "output_type": "stream",
     "text": [
      "accuracy of 0.6917 and standard deviation of 0.026\n"
     ]
    },
    {
     "data": {
      "text/html": [
       "<style>#sk-32a0775d-a34c-49b5-a373-0d0461d6baa2 {color: black;background-color: white;}#sk-32a0775d-a34c-49b5-a373-0d0461d6baa2 pre{padding: 0;}#sk-32a0775d-a34c-49b5-a373-0d0461d6baa2 div.sk-toggleable {background-color: white;}#sk-32a0775d-a34c-49b5-a373-0d0461d6baa2 label.sk-toggleable__label {cursor: pointer;display: block;width: 100%;margin-bottom: 0;padding: 0.2em 0.3em;box-sizing: border-box;text-align: center;}#sk-32a0775d-a34c-49b5-a373-0d0461d6baa2 div.sk-toggleable__content {max-height: 0;max-width: 0;overflow: hidden;text-align: left;background-color: #f0f8ff;}#sk-32a0775d-a34c-49b5-a373-0d0461d6baa2 div.sk-toggleable__content pre {margin: 0.2em;color: black;border-radius: 0.25em;background-color: #f0f8ff;}#sk-32a0775d-a34c-49b5-a373-0d0461d6baa2 input.sk-toggleable__control:checked~div.sk-toggleable__content {max-height: 200px;max-width: 100%;overflow: auto;}#sk-32a0775d-a34c-49b5-a373-0d0461d6baa2 div.sk-estimator input.sk-toggleable__control:checked~label.sk-toggleable__label {background-color: #d4ebff;}#sk-32a0775d-a34c-49b5-a373-0d0461d6baa2 div.sk-label input.sk-toggleable__control:checked~label.sk-toggleable__label {background-color: #d4ebff;}#sk-32a0775d-a34c-49b5-a373-0d0461d6baa2 input.sk-hidden--visually {border: 0;clip: rect(1px 1px 1px 1px);clip: rect(1px, 1px, 1px, 1px);height: 1px;margin: -1px;overflow: hidden;padding: 0;position: absolute;width: 1px;}#sk-32a0775d-a34c-49b5-a373-0d0461d6baa2 div.sk-estimator {font-family: monospace;background-color: #f0f8ff;margin: 0.25em 0.25em;border: 1px dotted black;border-radius: 0.25em;box-sizing: border-box;}#sk-32a0775d-a34c-49b5-a373-0d0461d6baa2 div.sk-estimator:hover {background-color: #d4ebff;}#sk-32a0775d-a34c-49b5-a373-0d0461d6baa2 div.sk-parallel-item::after {content: \"\";width: 100%;border-bottom: 1px solid gray;flex-grow: 1;}#sk-32a0775d-a34c-49b5-a373-0d0461d6baa2 div.sk-label:hover label.sk-toggleable__label {background-color: #d4ebff;}#sk-32a0775d-a34c-49b5-a373-0d0461d6baa2 div.sk-serial::before {content: \"\";position: absolute;border-left: 1px solid gray;box-sizing: border-box;top: 2em;bottom: 0;left: 50%;}#sk-32a0775d-a34c-49b5-a373-0d0461d6baa2 div.sk-serial {display: flex;flex-direction: column;align-items: center;background-color: white;}#sk-32a0775d-a34c-49b5-a373-0d0461d6baa2 div.sk-item {z-index: 1;}#sk-32a0775d-a34c-49b5-a373-0d0461d6baa2 div.sk-parallel {display: flex;align-items: stretch;justify-content: center;background-color: white;}#sk-32a0775d-a34c-49b5-a373-0d0461d6baa2 div.sk-parallel-item {display: flex;flex-direction: column;position: relative;background-color: white;}#sk-32a0775d-a34c-49b5-a373-0d0461d6baa2 div.sk-parallel-item:first-child::after {align-self: flex-end;width: 50%;}#sk-32a0775d-a34c-49b5-a373-0d0461d6baa2 div.sk-parallel-item:last-child::after {align-self: flex-start;width: 50%;}#sk-32a0775d-a34c-49b5-a373-0d0461d6baa2 div.sk-parallel-item:only-child::after {width: 0;}#sk-32a0775d-a34c-49b5-a373-0d0461d6baa2 div.sk-dashed-wrapped {border: 1px dashed gray;margin: 0.2em;box-sizing: border-box;padding-bottom: 0.1em;background-color: white;position: relative;}#sk-32a0775d-a34c-49b5-a373-0d0461d6baa2 div.sk-label label {font-family: monospace;font-weight: bold;background-color: white;display: inline-block;line-height: 1.2em;}#sk-32a0775d-a34c-49b5-a373-0d0461d6baa2 div.sk-label-container {position: relative;z-index: 2;text-align: center;}#sk-32a0775d-a34c-49b5-a373-0d0461d6baa2 div.sk-container {display: inline-block;position: relative;}</style><div id=\"sk-32a0775d-a34c-49b5-a373-0d0461d6baa2\" class\"sk-top-container\"><div class=\"sk-container\"><div class=\"sk-item sk-dashed-wrapped\"><div class=\"sk-label-container\"><div class=\"sk-label sk-toggleable\"><input class=\"sk-toggleable__control sk-hidden--visually\" id=\"4257c4c2-bb01-4450-bf37-31d60d80f3ca\" type=\"checkbox\" ><label class=\"sk-toggleable__label\" for=\"4257c4c2-bb01-4450-bf37-31d60d80f3ca\">Pipeline</label><div class=\"sk-toggleable__content\"><pre>Pipeline(steps=[('agegroupimputer', AgeGroupImputer()),\n",
       "                ('dropfeatures',\n",
       "                 DropFeatures(features_to_drop=['Name', 'Sex', 'Ticket',\n",
       "                                                'Cabin', 'Embarked'])),\n",
       "                ('randomforestclassifier',\n",
       "                 RandomForestClassifier(random_state=0))])</pre></div></div></div><div class=\"sk-serial\"><div class=\"sk-item\"><div class=\"sk-estimator sk-toggleable\"><input class=\"sk-toggleable__control sk-hidden--visually\" id=\"db0546de-3dc0-4611-9b84-dceb3465b9de\" type=\"checkbox\" ><label class=\"sk-toggleable__label\" for=\"db0546de-3dc0-4611-9b84-dceb3465b9de\">AgeGroupImputer</label><div class=\"sk-toggleable__content\"><pre>AgeGroupImputer()</pre></div></div></div><div class=\"sk-item\"><div class=\"sk-estimator sk-toggleable\"><input class=\"sk-toggleable__control sk-hidden--visually\" id=\"e9345890-a844-4c80-864a-8612ce01c02e\" type=\"checkbox\" ><label class=\"sk-toggleable__label\" for=\"e9345890-a844-4c80-864a-8612ce01c02e\">DropFeatures</label><div class=\"sk-toggleable__content\"><pre>DropFeatures(features_to_drop=['Name', 'Sex', 'Ticket', 'Cabin', 'Embarked'])</pre></div></div></div><div class=\"sk-item\"><div class=\"sk-estimator sk-toggleable\"><input class=\"sk-toggleable__control sk-hidden--visually\" id=\"8c044626-1879-4556-879a-1bf57944166b\" type=\"checkbox\" ><label class=\"sk-toggleable__label\" for=\"8c044626-1879-4556-879a-1bf57944166b\">RandomForestClassifier</label><div class=\"sk-toggleable__content\"><pre>RandomForestClassifier(random_state=0)</pre></div></div></div></div></div></div></div>"
      ],
      "text/plain": [
       "Pipeline(steps=[('agegroupimputer', AgeGroupImputer()),\n",
       "                ('dropfeatures',\n",
       "                 DropFeatures(features_to_drop=['Name', 'Sex', 'Ticket',\n",
       "                                                'Cabin', 'Embarked'])),\n",
       "                ('randomforestclassifier',\n",
       "                 RandomForestClassifier(random_state=0))])"
      ]
     },
     "execution_count": 48,
     "metadata": {},
     "output_type": "execute_result"
    }
   ],
   "source": [
    "pipe_age = make_pipeline(AgeGroupImputer(group=['Pclass','Sex']),\n",
    "                        DropFeatures(features_to_drop=['Name','Sex','Ticket','Cabin','Embarked']),\n",
    "                        RandomForestClassifier(random_state=0))\n",
    "get_cross_score(pipe_age,5)\n",
    "pipe_age"
   ]
  },
  {
   "cell_type": "markdown",
   "id": "2bdacc06",
   "metadata": {},
   "source": [
    "There was a improvement of almost 4% in acc by imputing the values for Age by Pclass and Sex goupby."
   ]
  },
  {
   "cell_type": "markdown",
   "id": "759b7231",
   "metadata": {
    "tags": []
   },
   "source": [
    "### \"Fare\"\n",
    "\n",
    "Tree algorithms usually doesn't benefit much from scaling numerical features but let's try it anyway."
   ]
  },
  {
   "cell_type": "code",
   "execution_count": 25,
   "id": "1ccdfccb",
   "metadata": {},
   "outputs": [
    {
     "name": "stdout",
     "output_type": "stream",
     "text": [
      "accuracy of 0.6516 and standard deviation of 0.0189\n"
     ]
    }
   ],
   "source": [
    "pipe_fare = make_pipeline(DropFeatures(features_to_drop=['Name','Sex','Ticket','Cabin','Embarked']),\n",
    "                          MinMaxScaler(),\n",
    "                          SimpleImputer(missing_values=np.nan, strategy='mean'),\n",
    "                          RandomForestClassifier(random_state=0))\n",
    "get_cross_score(pipe_fare,5)"
   ]
  },
  {
   "cell_type": "markdown",
   "id": "12b3ce2e",
   "metadata": {},
   "source": [
    "Acc decreased by scaling features."
   ]
  },
  {
   "cell_type": "markdown",
   "id": "777a6347",
   "metadata": {},
   "source": [
    "## Categorical Variables"
   ]
  },
  {
   "cell_type": "markdown",
   "id": "77c688d6",
   "metadata": {},
   "source": [
    "### \"Name\""
   ]
  },
  {
   "cell_type": "markdown",
   "id": "e88a9bce",
   "metadata": {},
   "source": [
    "Extract Title and Family name from feature \"Name\""
   ]
  },
  {
   "cell_type": "code",
   "execution_count": 77,
   "id": "f12b8f9c",
   "metadata": {
    "tags": []
   },
   "outputs": [
    {
     "data": {
      "text/html": [
       "<div>\n",
       "<style scoped>\n",
       "    .dataframe tbody tr th:only-of-type {\n",
       "        vertical-align: middle;\n",
       "    }\n",
       "\n",
       "    .dataframe tbody tr th {\n",
       "        vertical-align: top;\n",
       "    }\n",
       "\n",
       "    .dataframe thead th {\n",
       "        text-align: right;\n",
       "    }\n",
       "</style>\n",
       "<table border=\"1\" class=\"dataframe\">\n",
       "  <thead>\n",
       "    <tr style=\"text-align: right;\">\n",
       "      <th></th>\n",
       "      <th>Pclass</th>\n",
       "      <th>Name</th>\n",
       "      <th>Sex</th>\n",
       "      <th>Age</th>\n",
       "      <th>SibSp</th>\n",
       "      <th>Parch</th>\n",
       "      <th>Ticket</th>\n",
       "      <th>Fare</th>\n",
       "      <th>Cabin</th>\n",
       "      <th>Embarked</th>\n",
       "      <th>Name_title</th>\n",
       "      <th>Name_family</th>\n",
       "    </tr>\n",
       "    <tr>\n",
       "      <th>PassengerId</th>\n",
       "      <th></th>\n",
       "      <th></th>\n",
       "      <th></th>\n",
       "      <th></th>\n",
       "      <th></th>\n",
       "      <th></th>\n",
       "      <th></th>\n",
       "      <th></th>\n",
       "      <th></th>\n",
       "      <th></th>\n",
       "      <th></th>\n",
       "      <th></th>\n",
       "    </tr>\n",
       "  </thead>\n",
       "  <tbody>\n",
       "    <tr>\n",
       "      <th>858</th>\n",
       "      <td>1</td>\n",
       "      <td>Daly, Mr. Peter Denis</td>\n",
       "      <td>male</td>\n",
       "      <td>51.0</td>\n",
       "      <td>0</td>\n",
       "      <td>0</td>\n",
       "      <td>113055</td>\n",
       "      <td>26.5500</td>\n",
       "      <td>E17</td>\n",
       "      <td>S</td>\n",
       "      <td>Mr</td>\n",
       "      <td>Daly</td>\n",
       "    </tr>\n",
       "    <tr>\n",
       "      <th>53</th>\n",
       "      <td>1</td>\n",
       "      <td>Harper, Mrs. Henry Sleeper (Myna Haxtun)</td>\n",
       "      <td>female</td>\n",
       "      <td>49.0</td>\n",
       "      <td>1</td>\n",
       "      <td>0</td>\n",
       "      <td>PC 17572</td>\n",
       "      <td>76.7292</td>\n",
       "      <td>D33</td>\n",
       "      <td>C</td>\n",
       "      <td>Mrs</td>\n",
       "      <td>Harper</td>\n",
       "    </tr>\n",
       "    <tr>\n",
       "      <th>387</th>\n",
       "      <td>3</td>\n",
       "      <td>Goodwin, Master. Sidney Leonard</td>\n",
       "      <td>male</td>\n",
       "      <td>1.0</td>\n",
       "      <td>5</td>\n",
       "      <td>2</td>\n",
       "      <td>CA 2144</td>\n",
       "      <td>46.9000</td>\n",
       "      <td>NaN</td>\n",
       "      <td>S</td>\n",
       "      <td>Master</td>\n",
       "      <td>Goodwin</td>\n",
       "    </tr>\n",
       "    <tr>\n",
       "      <th>125</th>\n",
       "      <td>1</td>\n",
       "      <td>White, Mr. Percival Wayland</td>\n",
       "      <td>male</td>\n",
       "      <td>54.0</td>\n",
       "      <td>0</td>\n",
       "      <td>1</td>\n",
       "      <td>35281</td>\n",
       "      <td>77.2875</td>\n",
       "      <td>D26</td>\n",
       "      <td>S</td>\n",
       "      <td>Mr</td>\n",
       "      <td>White</td>\n",
       "    </tr>\n",
       "    <tr>\n",
       "      <th>579</th>\n",
       "      <td>3</td>\n",
       "      <td>Caram, Mrs. Joseph (Maria Elias)</td>\n",
       "      <td>female</td>\n",
       "      <td>NaN</td>\n",
       "      <td>1</td>\n",
       "      <td>0</td>\n",
       "      <td>2689</td>\n",
       "      <td>14.4583</td>\n",
       "      <td>NaN</td>\n",
       "      <td>C</td>\n",
       "      <td>Mrs</td>\n",
       "      <td>Caram</td>\n",
       "    </tr>\n",
       "  </tbody>\n",
       "</table>\n",
       "</div>"
      ],
      "text/plain": [
       "             Pclass                                      Name     Sex   Age  \\\n",
       "PassengerId                                                                   \n",
       "858               1                    Daly, Mr. Peter Denis     male  51.0   \n",
       "53                1  Harper, Mrs. Henry Sleeper (Myna Haxtun)  female  49.0   \n",
       "387               3           Goodwin, Master. Sidney Leonard    male   1.0   \n",
       "125               1               White, Mr. Percival Wayland    male  54.0   \n",
       "579               3          Caram, Mrs. Joseph (Maria Elias)  female   NaN   \n",
       "\n",
       "             SibSp  Parch    Ticket     Fare Cabin Embarked Name_title  \\\n",
       "PassengerId                                                              \n",
       "858              0      0    113055  26.5500   E17        S         Mr   \n",
       "53               1      0  PC 17572  76.7292   D33        C        Mrs   \n",
       "387              5      2   CA 2144  46.9000   NaN        S     Master   \n",
       "125              0      1     35281  77.2875   D26        S         Mr   \n",
       "579              1      0      2689  14.4583   NaN        C        Mrs   \n",
       "\n",
       "            Name_family  \n",
       "PassengerId              \n",
       "858                Daly  \n",
       "53               Harper  \n",
       "387             Goodwin  \n",
       "125               White  \n",
       "579               Caram  "
      ]
     },
     "execution_count": 77,
     "metadata": {},
     "output_type": "execute_result"
    }
   ],
   "source": [
    "class get_feat_name(BaseEstimator, TransformerMixin):\n",
    "    \"\"\"create column with family name  and title of each passenger\"\"\"\n",
    "    def __init__(self, title:bool=True,family:bool=True):\n",
    "        self.title = title\n",
    "        self.family = family\n",
    "        pass\n",
    "    \n",
    "    def fit(self, x:pd.DataFrame, y:pd.Series=None):\n",
    "        return self\n",
    "    \n",
    "    def transform(self, x:pd.DataFrame, y:pd.Series=None):\n",
    "        df = x.copy()\n",
    "        try:\n",
    "            if self.title:\n",
    "                df['Name_title'] = df['Name'].apply(lambda x: x.split(\",\")[1]).apply(lambda x: x.split(\".\")[0])\n",
    "            if self.family:\n",
    "                df['Name_family'] = df['Name'].apply(lambda x: x.split(\",\")[0])\n",
    "            \n",
    "        except:\n",
    "            print('erro em get_name')\n",
    "        return df\n",
    "\n",
    "x_train_ = get_feat_name(family=True,title=True).fit_transform(x_train)\n",
    "x_train_.head()"
   ]
  },
  {
   "cell_type": "code",
   "execution_count": 50,
   "id": "06520279-7a9b-4edf-a938-15570081e961",
   "metadata": {},
   "outputs": [],
   "source": [
    "def feat_name(x:pd.DataFrame, y:pd.Series=None):\n",
    "    \"\"\" extracs family name and title from the feature Name \"\"\"\n",
    "    df = x.copy()\n",
    "    df['Name_title'] = df['Name'].apply(lambda x: x.split(\",\")[1]).apply(lambda x: x.split(\".\")[0])\n",
    "    df['Name_family'] = df['Name'].apply(lambda x: x.split(\",\")[0])\n",
    "    return df\n",
    "get_feat_name = FunctionTransformer(feat_name)"
   ]
  },
  {
   "cell_type": "code",
   "execution_count": 51,
   "id": "e75f8590-6f76-4ec3-b78a-96ef9ce2a01b",
   "metadata": {},
   "outputs": [
    {
     "data": {
      "text/html": [
       "<div>\n",
       "<style scoped>\n",
       "    .dataframe tbody tr th:only-of-type {\n",
       "        vertical-align: middle;\n",
       "    }\n",
       "\n",
       "    .dataframe tbody tr th {\n",
       "        vertical-align: top;\n",
       "    }\n",
       "\n",
       "    .dataframe thead th {\n",
       "        text-align: right;\n",
       "    }\n",
       "</style>\n",
       "<table border=\"1\" class=\"dataframe\">\n",
       "  <thead>\n",
       "    <tr style=\"text-align: right;\">\n",
       "      <th></th>\n",
       "      <th>Pclass</th>\n",
       "      <th>Name</th>\n",
       "      <th>Sex</th>\n",
       "      <th>Age</th>\n",
       "      <th>SibSp</th>\n",
       "      <th>Parch</th>\n",
       "      <th>Ticket</th>\n",
       "      <th>Fare</th>\n",
       "      <th>Cabin</th>\n",
       "      <th>Embarked</th>\n",
       "      <th>Name_title</th>\n",
       "      <th>Name_family</th>\n",
       "    </tr>\n",
       "    <tr>\n",
       "      <th>PassengerId</th>\n",
       "      <th></th>\n",
       "      <th></th>\n",
       "      <th></th>\n",
       "      <th></th>\n",
       "      <th></th>\n",
       "      <th></th>\n",
       "      <th></th>\n",
       "      <th></th>\n",
       "      <th></th>\n",
       "      <th></th>\n",
       "      <th></th>\n",
       "      <th></th>\n",
       "    </tr>\n",
       "  </thead>\n",
       "  <tbody>\n",
       "    <tr>\n",
       "      <th>858</th>\n",
       "      <td>1</td>\n",
       "      <td>Daly, Mr. Peter Denis</td>\n",
       "      <td>male</td>\n",
       "      <td>51.0</td>\n",
       "      <td>0</td>\n",
       "      <td>0</td>\n",
       "      <td>113055</td>\n",
       "      <td>26.5500</td>\n",
       "      <td>E17</td>\n",
       "      <td>S</td>\n",
       "      <td>Mr</td>\n",
       "      <td>Daly</td>\n",
       "    </tr>\n",
       "    <tr>\n",
       "      <th>53</th>\n",
       "      <td>1</td>\n",
       "      <td>Harper, Mrs. Henry Sleeper (Myna Haxtun)</td>\n",
       "      <td>female</td>\n",
       "      <td>49.0</td>\n",
       "      <td>1</td>\n",
       "      <td>0</td>\n",
       "      <td>PC 17572</td>\n",
       "      <td>76.7292</td>\n",
       "      <td>D33</td>\n",
       "      <td>C</td>\n",
       "      <td>Mrs</td>\n",
       "      <td>Harper</td>\n",
       "    </tr>\n",
       "    <tr>\n",
       "      <th>387</th>\n",
       "      <td>3</td>\n",
       "      <td>Goodwin, Master. Sidney Leonard</td>\n",
       "      <td>male</td>\n",
       "      <td>1.0</td>\n",
       "      <td>5</td>\n",
       "      <td>2</td>\n",
       "      <td>CA 2144</td>\n",
       "      <td>46.9000</td>\n",
       "      <td>NaN</td>\n",
       "      <td>S</td>\n",
       "      <td>Master</td>\n",
       "      <td>Goodwin</td>\n",
       "    </tr>\n",
       "    <tr>\n",
       "      <th>125</th>\n",
       "      <td>1</td>\n",
       "      <td>White, Mr. Percival Wayland</td>\n",
       "      <td>male</td>\n",
       "      <td>54.0</td>\n",
       "      <td>0</td>\n",
       "      <td>1</td>\n",
       "      <td>35281</td>\n",
       "      <td>77.2875</td>\n",
       "      <td>D26</td>\n",
       "      <td>S</td>\n",
       "      <td>Mr</td>\n",
       "      <td>White</td>\n",
       "    </tr>\n",
       "    <tr>\n",
       "      <th>579</th>\n",
       "      <td>3</td>\n",
       "      <td>Caram, Mrs. Joseph (Maria Elias)</td>\n",
       "      <td>female</td>\n",
       "      <td>NaN</td>\n",
       "      <td>1</td>\n",
       "      <td>0</td>\n",
       "      <td>2689</td>\n",
       "      <td>14.4583</td>\n",
       "      <td>NaN</td>\n",
       "      <td>C</td>\n",
       "      <td>Mrs</td>\n",
       "      <td>Caram</td>\n",
       "    </tr>\n",
       "  </tbody>\n",
       "</table>\n",
       "</div>"
      ],
      "text/plain": [
       "             Pclass                                      Name     Sex   Age  \\\n",
       "PassengerId                                                                   \n",
       "858               1                    Daly, Mr. Peter Denis     male  51.0   \n",
       "53                1  Harper, Mrs. Henry Sleeper (Myna Haxtun)  female  49.0   \n",
       "387               3           Goodwin, Master. Sidney Leonard    male   1.0   \n",
       "125               1               White, Mr. Percival Wayland    male  54.0   \n",
       "579               3          Caram, Mrs. Joseph (Maria Elias)  female   NaN   \n",
       "\n",
       "             SibSp  Parch    Ticket     Fare Cabin Embarked Name_title  \\\n",
       "PassengerId                                                              \n",
       "858              0      0    113055  26.5500   E17        S         Mr   \n",
       "53               1      0  PC 17572  76.7292   D33        C        Mrs   \n",
       "387              5      2   CA 2144  46.9000   NaN        S     Master   \n",
       "125              0      1     35281  77.2875   D26        S         Mr   \n",
       "579              1      0      2689  14.4583   NaN        C        Mrs   \n",
       "\n",
       "            Name_family  \n",
       "PassengerId              \n",
       "858                Daly  \n",
       "53               Harper  \n",
       "387             Goodwin  \n",
       "125               White  \n",
       "579               Caram  "
      ]
     },
     "execution_count": 51,
     "metadata": {},
     "output_type": "execute_result"
    }
   ],
   "source": [
    "x_train_ = get_feat_name.transform(x_train)\n",
    "x_train_.head()"
   ]
  },
  {
   "cell_type": "code",
   "execution_count": 52,
   "id": "a5c795d4",
   "metadata": {},
   "outputs": [
    {
     "name": "stdout",
     "output_type": "stream",
     "text": [
      "Amount of unique labels in family name: 502\n",
      "\n",
      " Family names with more than 3 occurrences:\n"
     ]
    },
    {
     "data": {
      "text/html": [
       "<div>\n",
       "<style scoped>\n",
       "    .dataframe tbody tr th:only-of-type {\n",
       "        vertical-align: middle;\n",
       "    }\n",
       "\n",
       "    .dataframe tbody tr th {\n",
       "        vertical-align: top;\n",
       "    }\n",
       "\n",
       "    .dataframe thead th {\n",
       "        text-align: right;\n",
       "    }\n",
       "</style>\n",
       "<table border=\"1\" class=\"dataframe\">\n",
       "  <thead>\n",
       "    <tr style=\"text-align: right;\">\n",
       "      <th></th>\n",
       "      <th>Name_family</th>\n",
       "    </tr>\n",
       "  </thead>\n",
       "  <tbody>\n",
       "    <tr>\n",
       "      <th>Sage</th>\n",
       "      <td>7</td>\n",
       "    </tr>\n",
       "    <tr>\n",
       "      <th>Andersson</th>\n",
       "      <td>7</td>\n",
       "    </tr>\n",
       "    <tr>\n",
       "      <th>Brown</th>\n",
       "      <td>4</td>\n",
       "    </tr>\n",
       "    <tr>\n",
       "      <th>Rice</th>\n",
       "      <td>4</td>\n",
       "    </tr>\n",
       "    <tr>\n",
       "      <th>Carter</th>\n",
       "      <td>4</td>\n",
       "    </tr>\n",
       "    <tr>\n",
       "      <th>Lefebre</th>\n",
       "      <td>4</td>\n",
       "    </tr>\n",
       "    <tr>\n",
       "      <th>Ford</th>\n",
       "      <td>4</td>\n",
       "    </tr>\n",
       "    <tr>\n",
       "      <th>Goodwin</th>\n",
       "      <td>4</td>\n",
       "    </tr>\n",
       "  </tbody>\n",
       "</table>\n",
       "</div>"
      ],
      "text/plain": [
       "           Name_family\n",
       "Sage                 7\n",
       "Andersson            7\n",
       "Brown                4\n",
       "Rice                 4\n",
       "Carter               4\n",
       "Lefebre              4\n",
       "Ford                 4\n",
       "Goodwin              4"
      ]
     },
     "execution_count": 52,
     "metadata": {},
     "output_type": "execute_result"
    }
   ],
   "source": [
    "family_labels = pd.DataFrame(x_train_['Name_family'].value_counts())\n",
    "print(f'Amount of unique labels in family name:', family_labels.shape[0])\n",
    "print(f'\\n Family names with more than 3 occurrences:')\n",
    "family_labels[family_labels[\"Name_family\"]>3]"
   ]
  },
  {
   "cell_type": "markdown",
   "id": "d15332ad",
   "metadata": {},
   "source": [
    "\"Name_family\" is now a categorical feature and we'll have to encode it so the model can use it."
   ]
  },
  {
   "cell_type": "code",
   "execution_count": 53,
   "id": "db3520b6",
   "metadata": {},
   "outputs": [
    {
     "name": "stdout",
     "output_type": "stream",
     "text": [
      "Amount of unique labels in title: 14\n",
      "\n",
      "Titles with more than 3 occurrences:\n"
     ]
    },
    {
     "data": {
      "text/html": [
       "<div>\n",
       "<style scoped>\n",
       "    .dataframe tbody tr th:only-of-type {\n",
       "        vertical-align: middle;\n",
       "    }\n",
       "\n",
       "    .dataframe tbody tr th {\n",
       "        vertical-align: top;\n",
       "    }\n",
       "\n",
       "    .dataframe thead th {\n",
       "        text-align: right;\n",
       "    }\n",
       "</style>\n",
       "<table border=\"1\" class=\"dataframe\">\n",
       "  <thead>\n",
       "    <tr style=\"text-align: right;\">\n",
       "      <th></th>\n",
       "      <th>Name_title</th>\n",
       "    </tr>\n",
       "  </thead>\n",
       "  <tbody>\n",
       "    <tr>\n",
       "      <th>Mr</th>\n",
       "      <td>367</td>\n",
       "    </tr>\n",
       "    <tr>\n",
       "      <th>Miss</th>\n",
       "      <td>121</td>\n",
       "    </tr>\n",
       "    <tr>\n",
       "      <th>Mrs</th>\n",
       "      <td>88</td>\n",
       "    </tr>\n",
       "    <tr>\n",
       "      <th>Master</th>\n",
       "      <td>31</td>\n",
       "    </tr>\n",
       "  </tbody>\n",
       "</table>\n",
       "</div>"
      ],
      "text/plain": [
       "         Name_title\n",
       " Mr             367\n",
       " Miss           121\n",
       " Mrs             88\n",
       " Master          31"
      ]
     },
     "execution_count": 53,
     "metadata": {},
     "output_type": "execute_result"
    }
   ],
   "source": [
    "title_labels = pd.DataFrame(x_train_['Name_title'].value_counts())\n",
    "print(f'Amount of unique labels in title:', title_labels.shape[0])\n",
    "print(f'\\nTitles with more than 3 occurrences:')\n",
    "title_labels[title_labels[\"Name_title\"]>3]"
   ]
  },
  {
   "cell_type": "markdown",
   "id": "e2deb2ab",
   "metadata": {
    "tags": []
   },
   "source": [
    "### Sex"
   ]
  },
  {
   "cell_type": "markdown",
   "id": "c75bf5b9",
   "metadata": {},
   "source": [
    "Sex needs to be binary encoded. Let's develop a \"Mapper\" class to make this transformation."
   ]
  },
  {
   "cell_type": "code",
   "execution_count": 73,
   "id": "dcdf2a28",
   "metadata": {
    "tags": []
   },
   "outputs": [],
   "source": [
    "class Mapper(BaseEstimator, TransformerMixin):\n",
    "    \"\"\" Encode variables with the map_dict param \"\"\"\n",
    "    \n",
    "    def __init__(self,variables:list,map_dict:dict):\n",
    "        \n",
    "        if not isinstance(variables,list):\n",
    "            raise ValueError('variables should be a list')\n",
    "            \n",
    "        self.variables = variables\n",
    "        self.map_dict = map_dict\n",
    "        pass\n",
    "    \n",
    "    def fit(self, x:pd.DataFrame ,y:pd.Series=None):\n",
    "        return self\n",
    "    \n",
    "    def transform(self,x:pd.DataFrame):\n",
    "        x = x.copy()\n",
    "        \n",
    "        for feature in self.variables:\n",
    "            x[feature] = x[feature].map(self.map_dict)\n",
    "        return x\n"
   ]
  },
  {
   "cell_type": "code",
   "execution_count": 71,
   "id": "205dfe6f-55b3-4634-8780-18d7e469af04",
   "metadata": {},
   "outputs": [],
   "source": [
    "def mapper_func(x:pd.DataFrame, y=None):\n",
    "    x = x.copy()\n",
    "    x['Sex'] = x['Sex'].map({'male':1,\n",
    "                             'female':0})\n",
    "    return x\n",
    "sex_info = FunctionTransformer(mapper_func)"
   ]
  },
  {
   "cell_type": "code",
   "execution_count": 75,
   "id": "4b515115",
   "metadata": {
    "tags": []
   },
   "outputs": [
    {
     "name": "stdout",
     "output_type": "stream",
     "text": [
      "accuracy of 0.7914 and standard deviation of 0.0401\n"
     ]
    }
   ],
   "source": [
    "#dict for enconding \"Sex\"\n",
    "sex_map = {'male':1, 'female':0}\n",
    "\n",
    "pipe_sex_base = make_pipeline(\n",
    "                        #categorical features transformations\n",
    "                          Mapper(variables=['Sex'], map_dict=sex_map),\n",
    "                          DropFeatures(features_to_drop=['Name','Ticket','Cabin','Embarked']),\n",
    "                        # numerical features transformation\n",
    "                          MeanMedianImputer(imputation_method='mean', variables=['Age','Fare']),\n",
    "                        # model  \n",
    "                          RandomForestClassifier(random_state=0)\n",
    "                            )\n",
    "\n",
    "get_cross_score(pipe_sex_base,5)\n",
    "#pipe_sex_base"
   ]
  },
  {
   "attachments": {
    "e5a56a0b-820b-4060-ba80-68270960a9df.png": {
     "image/png": "[encoded data removed]"
    }
   },
   "cell_type": "markdown",
   "id": "c1b3821f-a077-47c9-9547-ff26559183f9",
   "metadata": {},
   "source": [
    "![image.png](attachment:e5a56a0b-820b-4060-ba80-68270960a9df.png)"
   ]
  },
  {
   "cell_type": "markdown",
   "id": "ac04bf85",
   "metadata": {},
   "source": [
    "Sex improves acc a great deal versus the baseline of 0.6565."
   ]
  },
  {
   "cell_type": "markdown",
   "id": "3fe6a95e",
   "metadata": {},
   "source": [
    "Let's add the Mapper on top of our current best model."
   ]
  },
  {
   "cell_type": "code",
   "execution_count": 81,
   "id": "e9aefe95",
   "metadata": {
    "tags": []
   },
   "outputs": [
    {
     "name": "stdout",
     "output_type": "stream",
     "text": [
      "accuracy of 0.8347 and standard deviation of 0.0323\n"
     ]
    }
   ],
   "source": [
    "pipe_sex = make_pipeline(\n",
    "                        #categorical features transformations\n",
    "                          get_feat_name(family=True,title=True),\n",
    "                          AgeGroupImputer(group=['Pclass','Sex']),\n",
    "                        #categorical features transformations\n",
    "                          Mapper(variables=['Sex'],map_dict = sex_map),\n",
    "                          DropFeatures(features_to_drop=['Name','Ticket','Cabin','Embarked']),\n",
    "                          OneHotEncoder(variables=['Name_title','Name_family']),\n",
    "                        # numerical features transformation\n",
    "                          MeanMedianImputer(imputation_method='mean', variables=['Fare']),\n",
    "                        # model  \n",
    "                          RandomForestClassifier(random_state=0))\n",
    "\n",
    "#dict for enconding \"Sex\"\n",
    "sex_map = {'male':1,\n",
    "           'female':0}\n",
    "\n",
    "get_cross_score(pipe_sex,5)\n",
    "#pipe_sex"
   ]
  },
  {
   "attachments": {
    "de1024b8-d066-4f2f-aa22-732f861cebee.png": {
     "image/png": "[encoded data removed]"
    }
   },
   "cell_type": "markdown",
   "id": "14708f15-6ca3-4bf7-b526-caa99b90edb5",
   "metadata": {},
   "source": [
    "![image.png](attachment:de1024b8-d066-4f2f-aa22-732f861cebee.png)"
   ]
  },
  {
   "cell_type": "markdown",
   "id": "6927f7d7",
   "metadata": {},
   "source": [
    "Adding Sex on top of Name_title doesn't change accuracy. An hipotesis is that Name_title already carries the info about sex, since \"Rare\" has only 16 occurences and nearly all women fall under \"Miss\" and \"Mrs\", therefore, the feature Sex doesn't reduces the cost function enough to become a node in the decision tree."
   ]
  },
  {
   "cell_type": "markdown",
   "id": "529e04bb",
   "metadata": {},
   "source": [
    "Let's check the relation between Title and Age too with a violinplot."
   ]
  },
  {
   "cell_type": "code",
   "execution_count": 102,
   "id": "86f69fc8",
   "metadata": {},
   "outputs": [
    {
     "name": "stderr",
     "output_type": "stream",
     "text": [
      "C:\\Users\\ticom\\anaconda3\\lib\\site-packages\\seaborn\\_decorators.py:36: FutureWarning: Pass the following variables as keyword args: x, y. From version 0.12, the only valid positional argument will be `data`, and passing other arguments without an explicit keyword will result in an error or misinterpretation.\n",
      "  warnings.warn(\n"
     ]
    },
    {
     "data": {
      "image/png": "[encoded data removed]",
      "text/plain": [
       "<Figure size 432x288 with 1 Axes>"
      ]
     },
     "metadata": {
      "needs_background": "light"
     },
     "output_type": "display_data"
    }
   ],
   "source": [
    "import seaborn as sns\n",
    "import matplotlib.pyplot as plt\n",
    "\n",
    "pipe_violin_title_age = make_pipeline(    \n",
    "                        #categorical features transformations\n",
    "                          get_feat_name(family=True,title=True),\n",
    "                          RareLabelEncoder(max_n_categories=4,tol=0,variables=['Name_title']),\n",
    "                          Mapper(features=['Sex'],map_dict=sex_map),\n",
    "                          DropFeatures(features_to_drop=['Name','Ticket','Cabin','Embarked']),\n",
    "                        # numerical features transformation\n",
    "                          MeanMedianImputer(imputation_method='mean', variables=['Age','Fare']),)\n",
    "x_train_2 = pipe_violin_title_age.fit_transform(x_train)\n",
    "\n",
    "sns.violinplot(x_train_2['Name_title'],x_train_2['Age'])\n",
    "plt.title('Violinplot: Title x Age')\n",
    "plt.show()"
   ]
  },
  {
   "cell_type": "markdown",
   "id": "84d0b7e9",
   "metadata": {},
   "source": [
    "Master has considerably lower Age mean and the interquartiles of \"Mrs\" and \"Miss\" differ too. Title carries some info about age."
   ]
  },
  {
   "cell_type": "markdown",
   "id": "193847fd",
   "metadata": {},
   "source": [
    "### Cabin"
   ]
  },
  {
   "cell_type": "code",
   "execution_count": 11,
   "id": "59d898b7",
   "metadata": {
    "tags": []
   },
   "outputs": [],
   "source": [
    "class Cabin_code(BaseEstimator, TransformerMixin):\n",
    "    \"\"\"Create column with first character of the first Cabin and how many cabins\"\"\"\n",
    "    \n",
    "    def __init__(self,code=True,size=True):\n",
    "        self.code=code\n",
    "        self.size=size\n",
    "        pass\n",
    "        \n",
    "    def fit(self, x:pd.DataFrame ,y:pd.Series=None):\n",
    "        return self\n",
    "    \n",
    "    def transform(self,x:pd.DataFrame,y:pd.Series=None):\n",
    "        x = x.copy()\n",
    "        try:\n",
    "            if self.code:\n",
    "                x['Cabin_code'] = x['Cabin'].apply(lambda x: x[0])\n",
    "            if self.size:\n",
    "                x['Cabin_Size'] = x['Cabin'].apply(lambda x: len(x.split(\" \")))\n",
    "        except Exception as err:\n",
    "            print('erro no Cabin_code')\n",
    "            print(err)\n",
    "        return x"
   ]
  },
  {
   "cell_type": "code",
   "execution_count": 64,
   "id": "e0ab8dca-9e41-4b84-94ad-5300062e1239",
   "metadata": {},
   "outputs": [],
   "source": [
    "def cabin_func(x:pd.DataFrame,y:pd.Series=None):\n",
    "    x = x.copy()\n",
    "    x['Cabin_code'] = x['Cabin'].apply(lambda x: x[0])\n",
    "    x['Cabin_Size'] = x['Cabin'].apply(lambda x: len(x.split(\" \")))\n",
    "    return x\n",
    "\n",
    "Cabin_info = FunctionTransformer(cabin_func)"
   ]
  },
  {
   "cell_type": "code",
   "execution_count": 82,
   "id": "97edc444",
   "metadata": {},
   "outputs": [
    {
     "name": "stdout",
     "output_type": "stream",
     "text": [
      "accuracy of 0.6565 and standard deviation of 0.0295\n"
     ]
    }
   ],
   "source": [
    "pipe_cabin_base = make_pipeline(\n",
    "                        # extract features\n",
    "                          CategoricalImputer(variables='Cabin',fill_value='?'),\n",
    "                          Cabin_code(),\n",
    "                        #categorical features transformations\n",
    "                          DropFeatures(features_to_drop=['Name','Ticket','Cabin','Embarked','Sex']),\n",
    "                          OneHotEncoder(variables=['Cabin_code']),\n",
    "                        # numerical features transformation\n",
    "                          MeanMedianImputer(imputation_method='mean', variables=['Age','Fare']),\n",
    "                        # model  \n",
    "                        RandomForestClassifier(random_state=0))\n",
    "get_cross_score(pipe_cabin_base,5)\n",
    "#pipe_cabin_base"
   ]
  },
  {
   "cell_type": "markdown",
   "id": "4c822a2e",
   "metadata": {},
   "source": [
    "Cabin_code and Cabin_size does't seem to be picked up by the tree.\n",
    "\n",
    "Let's see how it goes if we add it on top of our current pipeline:"
   ]
  },
  {
   "cell_type": "code",
   "execution_count": 86,
   "id": "6c04fa82",
   "metadata": {},
   "outputs": [
    {
     "name": "stdout",
     "output_type": "stream",
     "text": [
      "accuracy of 0.8251 and standard deviation of 0.0268\n"
     ]
    }
   ],
   "source": [
    "pipe_cabin = make_pipeline(\n",
    "                        # extract features\n",
    "                          get_feat_name(family=True,title=True),\n",
    "                          CategoricalImputer(variables='Cabin',fill_value='?'),\n",
    "                          Cabin_code(code=True,size=True),\n",
    "    \n",
    "                        # numerical features transformation\n",
    "                          MeanMedianImputer(imputation_method='mean', variables=['Fare','Age']),\n",
    "                          #AgeGroupImputer(group=['Pclass','Sex']),\n",
    "    \n",
    "                        #categorical features transformations\n",
    "                          Mapper(variables=['Sex'],map_dict = sex_map),\n",
    "                          DropFeatures(features_to_drop=['Name','Ticket','Cabin','Embarked']),\n",
    "                          OneHotEncoder(variables=['Name_title','Name_family','Cabin_code']),\n",
    "\n",
    "                        # model  \n",
    "                          RandomForestClassifier(random_state=0))\n",
    "\n",
    "#dict for enconding \"Sex\"\n",
    "sex_map = {'male':1,\n",
    "           'female':0}\n",
    "\n",
    "get_cross_score(pipe_cabin,5)\n",
    "#pipe_cabin"
   ]
  },
  {
   "attachments": {
    "6a4e3910-bf77-49b9-9394-115eaf8ede7e.png": {
     "image/png": "[encoded data removed]"
    }
   },
   "cell_type": "markdown",
   "id": "3c274868-750b-49b1-9cfd-b47aeee25fa8",
   "metadata": {},
   "source": [
    "![image.png](attachment:6a4e3910-bf77-49b9-9394-115eaf8ede7e.png)"
   ]
  },
  {
   "cell_type": "markdown",
   "id": "1287e29c",
   "metadata": {},
   "source": [
    "Cabin_code and Cabin_size decreases the acc very slightly when applied in this pipeline to a RandomForestClassifier."
   ]
  },
  {
   "cell_type": "markdown",
   "id": "dcc6851c",
   "metadata": {},
   "source": [
    "### Embarked "
   ]
  },
  {
   "cell_type": "markdown",
   "id": "2a945800",
   "metadata": {},
   "source": [
    "Embarked is categorical, we're going to impute missing values with mode and OneHotEncode it."
   ]
  },
  {
   "cell_type": "code",
   "execution_count": 87,
   "id": "28421f07-d1a0-42f8-9d92-79748208f71b",
   "metadata": {},
   "outputs": [
    {
     "name": "stdout",
     "output_type": "stream",
     "text": [
      "accuracy of 0.6677 and standard deviation of 0.0222\n"
     ]
    }
   ],
   "source": [
    "pipe_embarked_base = make_pipeline(\n",
    "                        # numerical features transformation\n",
    "                          MeanMedianImputer(imputation_method='mean', variables=['Age','Fare']),\n",
    "                        #categorical features transformations\n",
    "                          DropFeatures(features_to_drop=['Name','Ticket','Cabin','Sex']),\n",
    "                          CategoricalImputer(variables=['Embarked'],fill_value='C'),\n",
    "                          OneHotEncoder(variables=['Embarked']), \n",
    "                       # model  \n",
    "                          RandomForestClassifier(random_state=0))\n",
    "get_cross_score(pipe_embarked_base,5)\n",
    "#pipe_embarked_base"
   ]
  },
  {
   "cell_type": "markdown",
   "id": "bea5c61c-0957-481d-97c0-40c031b7c75a",
   "metadata": {
    "tags": []
   },
   "source": [
    "# Fix Rare Labels\n",
    "\n",
    "Custom transformer to treat rare labels"
   ]
  },
  {
   "cell_type": "markdown",
   "id": "941c041a-085c-49e2-9404-d470b1fb0b5a",
   "metadata": {},
   "source": [
    "If we're to use Scikit Learn approach instead of feature-engine (it returns pd.DataFrame instead of np.array and let's you select which columns each transformer will be applied by name), we're going to need to develop a custom transformer to deal with rare labels. "
   ]
  },
  {
   "cell_type": "code",
   "execution_count": 54,
   "id": "4cd34642-53f7-4dfa-8204-9721d2bd7700",
   "metadata": {
    "tags": []
   },
   "outputs": [],
   "source": [
    "class fix_rare_labels(BaseEstimator,TransformerMixin):\n",
    "    \"\"\"transforms rare labels values in 'Rare'.\n",
    "      Make sure to use the same order calling \"variables\" for train and predict\"\"\"\n",
    "    \n",
    "    def __init__(self,variables:list,threshold:list):\n",
    "        super().__init__()\n",
    "        self.threshold = threshold  #frequency threshold\n",
    "        #self.freq_list= []\n",
    "        self.variables = variables\n",
    "        self.freq_labels = []\n",
    "        pass\n",
    "    \n",
    "    def fit(self, x:pd.DataFrame, y:pd.Series=None):\n",
    "        \"\"\" Saves in memory a list of which each item is a list \n",
    "            of frequent labels for a initializes variable \"\"\"\n",
    "\n",
    "        x = x.copy()\n",
    "        try:\n",
    "            # for each variable\n",
    "            for c,var in enumerate(self.variables):\n",
    "                # dic with keys for unique labels and occurrence count of said label for value \n",
    "                label_occurrence = x[var].value_counts().to_dict()\n",
    "                # initialize an empty list for the frequent labels of var\n",
    "                frequent_by_feat = []\n",
    "                # loop for each unique label of var\n",
    "                for (key,value) in label_occurrence.items():\n",
    "                    # if the label has more than threshold occurrences\n",
    "                    if value > self.threshold[c]:\n",
    "                        # append this label to the list of frequent labels of var\n",
    "                        frequent_by_feat.append(key)\n",
    "                # append the list of frequent labels of this feature to a list. \n",
    "                # \"freq_labels\" is a list of wich each item is a list of frequent labels for a variable\n",
    "                    # exp.: the first item of \"freq_labels\" is a list of frequent labels \n",
    "                    # for the first var from self.variables and so on\n",
    "                self.freq_labels.append(frequent_by_feat)\n",
    "                \n",
    "        except Exception as err:\n",
    "            print(err)\n",
    "            print('error in fix_rare_labels fit')\n",
    "        return self\n",
    "    \n",
    "    def transform(self, x:pd.DataFrame, y:pd.Series=None):\n",
    "        \"\"\" replaces rare labels for the str \"Rare\" \"\"\"\n",
    "        x = x.copy()\n",
    "        try: \n",
    "            # loop for each feature\n",
    "            for c,var in enumerate(self.variables):\n",
    "                # dataframe with unique labels as index and occurrence count of said label as values for this loop's feat\n",
    "                label_occurrence = pd.DataFrame(x[var].value_counts())\n",
    "                # loop for each unique label\n",
    "                for unique_label in label_occurrence.index:\n",
    "                    # we need a df with value True of False if the label from index is in list of frequent labels \n",
    "                    # if label is in list of frequent labels of his feature\n",
    "                    if unique_label in self.freq_labels[c]:\n",
    "                        # replace the occurrence count with \"False\"\n",
    "                        label_occurrence.loc[unique_label]= False\n",
    "                    else:\n",
    "                        # replace the occurrence count with \"True\"\n",
    "                        label_occurrence.loc[unique_label]= True\n",
    "                # transform list to boolean type\n",
    "                label_occurrence_bool = (label_occurrence.iloc[:,0]).astype(bool)\n",
    "                # replaces rare labels for the string \"Rare\"\n",
    "                x[var] = x[var].mask(x[var].map(label_occurrence_bool),\"Rare\")\n",
    "        except Exception as err:\n",
    "            print('error in fix_rare_labels transform') \n",
    "            print(err)\n",
    "        return x"
   ]
  },
  {
   "cell_type": "code",
   "execution_count": 55,
   "id": "9a2a5850-82a1-425a-af10-b5c528d80936",
   "metadata": {},
   "outputs": [
    {
     "data": {
      "text/plain": [
       "[['Sage',\n",
       "  'Andersson',\n",
       "  'Brown',\n",
       "  'Rice',\n",
       "  'Carter',\n",
       "  'Lefebre',\n",
       "  'Ford',\n",
       "  'Goodwin'],\n",
       " [' Mr', ' Miss', ' Mrs', ' Master']]"
      ]
     },
     "execution_count": 55,
     "metadata": {},
     "output_type": "execute_result"
    }
   ],
   "source": [
    "fl = fix_rare_labels(variables=['Name_family', 'Name_title'], threshold=[3,10])\n",
    "x_rare = fl.fit_transform(x_train_)\n",
    "fl.freq_labels"
   ]
  }
 ],
 "metadata": {
  "kernelspec": {
   "display_name": "Python 3 (ipykernel)",
   "language": "python",
   "name": "python3"
  },
  "language_info": {
   "codemirror_mode": {
    "name": "ipython",
    "version": 3
   },
   "file_extension": ".py",
   "mimetype": "text/x-python",
   "name": "python",
   "nbconvert_exporter": "python",
   "pygments_lexer": "ipython3",
   "version": "3.8.10"
  },
  "toc-autonumbering": true
 },
 "nbformat": 4,
 "nbformat_minor": 5
}
